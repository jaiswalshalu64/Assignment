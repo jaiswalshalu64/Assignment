{
 "cells": [
  {
   "cell_type": "markdown",
   "id": "d0fb00f1",
   "metadata": {},
   "source": [
    "### 1. Explain the different types of data (qualitative and quantitative) and provide examples of each. Discuss nominal, ordinal, interval, and ratio scales."
   ]
  },
  {
   "cell_type": "code",
   "execution_count": null,
   "id": "ac5f4e9a",
   "metadata": {},
   "outputs": [],
   "source": [
    "\n",
    "Data can be categorized into two main types:\n",
    "- **Qualitative (Categorical):** Non-numerical data used to label or categorize elements. Examples include colors, names, and labels.\n",
    "  - **Nominal Scale:** Data without any order. E.g., colors (red, blue), gender (male, female).\n",
    "  - **Ordinal Scale:** Data with a meaningful order but without fixed intervals. E.g., satisfaction levels (high, medium, low).\n",
    "\n",
    "- **Quantitative (Numerical):** Data that represents counts or measurements. Examples include age, salary, and height.\n",
    "  - **Interval Scale:** Data with fixed intervals but no true zero. E.g., temperature in Celsius or Fahrenheit.\n",
    "  - **Ratio Scale:** Data with a true zero, allowing meaningful comparisons. E.g., weight, income.\n",
    "        "
   ]
  },
  {
   "cell_type": "markdown",
   "id": "8244fdc7",
   "metadata": {},
   "source": [
    "### 2. What are the measures of central tendency, and when should you use each? Discuss the mean, median, and mode with examples and situations where each is appropriate."
   ]
  },
  {
   "cell_type": "code",
   "execution_count": null,
   "id": "f25011f9",
   "metadata": {},
   "outputs": [],
   "source": [
    "\n",
    "Measures of central tendency summarize data to identify a central point:\n",
    "- **Mean:** The average of data. Use when data is evenly distributed. E.g., average test scores.\n",
    "- **Median:** The middle value in sorted data. Use when data has outliers. E.g., house prices.\n",
    "- **Mode:** The most frequent value. Use for categorical data. E.g., the most preferred product color.\n",
    "        "
   ]
  },
  {
   "cell_type": "markdown",
   "id": "2bc527f4",
   "metadata": {},
   "source": [
    "### 3. Explain the concept of dispersion. How do variance and standard deviation measure the spread of data?"
   ]
  },
  {
   "cell_type": "code",
   "execution_count": null,
   "id": "282b7cc1",
   "metadata": {},
   "outputs": [],
   "source": [
    "\n",
    "Dispersion measures the spread of data points:\n",
    "- **Variance:** The average of squared deviations from the mean.\n",
    "- **Standard Deviation:** The square root of variance, indicating the average deviation from the mean.\n",
    "Example: For data [2, 4, 6], variance = 4, standard deviation = 2.\n",
    "        "
   ]
  },
  {
   "cell_type": "markdown",
   "id": "c4395297",
   "metadata": {},
   "source": [
    "### 4. What is a box plot, and what can it tell you about the distribution of data?"
   ]
  },
  {
   "cell_type": "code",
   "execution_count": null,
   "id": "818ada25",
   "metadata": {},
   "outputs": [],
   "source": [
    "\n",
    "A box plot is a graphical representation of data distribution:\n",
    "- Shows median, quartiles, and potential outliers.\n",
    "- Helps identify data skewness and variability.\n",
    "Example: A box plot for student scores shows the interquartile range and highlights outliers.\n",
    "        "
   ]
  },
  {
   "cell_type": "markdown",
   "id": "d857cf97",
   "metadata": {},
   "source": [
    "### 5. Discuss the role of random sampling in making inferences about populations."
   ]
  },
  {
   "cell_type": "code",
   "execution_count": null,
   "id": "33c40f3f",
   "metadata": {},
   "outputs": [],
   "source": [
    "\n",
    "Random sampling ensures every individual has an equal chance of selection:\n",
    "- Reduces bias in data collection.\n",
    "- Provides a representative sample for accurate population inferences.\n",
    "Example: Surveying 100 random voters to predict election outcomes.\n",
    "        "
   ]
  },
  {
   "cell_type": "markdown",
   "id": "984cb5c0",
   "metadata": {},
   "source": [
    "### 6. Explain the concept of skewness and its types. How does skewness affect the interpretation of data?"
   ]
  },
  {
   "cell_type": "code",
   "execution_count": null,
   "id": "6a8077f7",
   "metadata": {},
   "outputs": [],
   "source": [
    "\n",
    "Skewness measures data asymmetry:\n",
    "- **Positive Skew:** Long tail on the right. Mean > Median. E.g., income data.\n",
    "- **Negative Skew:** Long tail on the left. Mean < Median. E.g., test scores with difficult questions.\n",
    "Skewness affects data interpretation by highlighting bias in distributions.\n",
    "        "
   ]
  },
  {
   "cell_type": "markdown",
   "id": "fea741a4",
   "metadata": {},
   "source": [
    "### 7. What is the interquartile range (IQR), and how is it used to detect outliers?"
   ]
  },
  {
   "cell_type": "code",
   "execution_count": null,
   "id": "c3ef14b2",
   "metadata": {},
   "outputs": [],
   "source": [
    "\n",
    "The IQR is the range between the 25th and 75th percentiles (Q3 - Q1):\n",
    "- Helps identify outliers as values beyond 1.5 * IQR from Q1 or Q3.\n",
    "Example: For data [1, 2, 3, 4, 5, 6, 7], IQR = 4 - 2 = 2.\n",
    "        "
   ]
  },
  {
   "cell_type": "markdown",
   "id": "66359f6c",
   "metadata": {},
   "source": [
    "### 8. Discuss the conditions under which the binomial distribution is used."
   ]
  },
  {
   "cell_type": "code",
   "execution_count": null,
   "id": "0e699bac",
   "metadata": {},
   "outputs": [],
   "source": [
    "\n",
    "The binomial distribution applies when:\n",
    "- The experiment has fixed trials (n).\n",
    "- Each trial has two outcomes (success/failure).\n",
    "- Probability of success (p) remains constant.\n",
    "Example: Tossing a coin 10 times to count heads.\n",
    "        "
   ]
  },
  {
   "cell_type": "markdown",
   "id": "c96b07b8",
   "metadata": {},
   "source": [
    "### 9. Explain the properties of the normal distribution and the empirical rule (68-95-99.7 rule)."
   ]
  },
  {
   "cell_type": "code",
   "execution_count": null,
   "id": "c188cb65",
   "metadata": {},
   "outputs": [],
   "source": [
    "\n",
    "Normal distribution properties:\n",
    "- Symmetrical bell-shaped curve.\n",
    "- Mean = Median = Mode.\n",
    "Empirical Rule:\n",
    "- 68% of data lies within 1 SD of the mean.\n",
    "- 95% within 2 SDs.\n",
    "- 99.7% within 3 SDs.\n",
    "Example: Heights of adults often follow a normal distribution.\n",
    "        "
   ]
  },
  {
   "cell_type": "markdown",
   "id": "6063df99",
   "metadata": {},
   "source": [
    "### 10. Provide a real-life example of a Poisson process and calculate the probability for a specific event."
   ]
  },
  {
   "cell_type": "code",
   "execution_count": null,
   "id": "3685facd",
   "metadata": {},
   "outputs": [],
   "source": [
    "\n",
    "A Poisson process models rare events:\n",
    "- Example: Number of customer arrivals at a store in an hour.\n",
    "- Formula: P(X=k) = (λ^k * e^(-λ)) / k!\n",
    "- For λ=5 customers/hour and k=3 arrivals, P(X=3) = (5^3 * e^(-5)) / 3! ≈ 0.14.\n",
    "        "
   ]
  },
  {
   "cell_type": "markdown",
   "id": "b1d82548",
   "metadata": {},
   "source": [
    "### 11. Explain what a random variable is and differentiate between discrete and continuous random variables."
   ]
  },
  {
   "cell_type": "code",
   "execution_count": null,
   "id": "559e2209",
   "metadata": {},
   "outputs": [],
   "source": [
    "\n",
    "A random variable represents outcomes of a random phenomenon:\n",
    "- **Discrete:** Countable outcomes. E.g., number of heads in 10 coin tosses.\n",
    "- **Continuous:** Infinite possible values within a range. E.g., temperature.\n",
    "        "
   ]
  },
  {
   "cell_type": "markdown",
   "id": "de0e9855",
   "metadata": {},
   "source": [
    "### 12. Provide an example dataset, calculate both covariance and correlation, and interpret the results."
   ]
  },
  {
   "cell_type": "code",
   "execution_count": null,
   "id": "763b966c",
   "metadata": {},
   "outputs": [],
   "source": [
    "\n",
    "Dataset: X=[1, 2, 3], Y=[2, 4, 6]\n",
    "- **Covariance:** Measures joint variability. Cov(X, Y) = 2.\n",
    "- **Correlation:** Normalized covariance, ranges [-1, 1]. Corr(X, Y) = 1 (perfect positive correlation).\n",
    "Interpretation: As X increases, Y increases proportionally.\n",
    "        "
   ]
  }
 ],
 "metadata": {},
 "nbformat": 4,
 "nbformat_minor": 5
}
