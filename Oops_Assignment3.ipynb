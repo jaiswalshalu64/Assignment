{
  "nbformat": 4,
  "nbformat_minor": 0,
  "metadata": {
    "colab": {
      "provenance": []
    },
    "kernelspec": {
      "name": "python3",
      "display_name": "Python 3"
    },
    "language_info": {
      "name": "python"
    }
  },
  "cells": [
    {
      "cell_type": "markdown",
      "source": [
        "# **1. What are the five key concepts of Object-Oriented Programming (OOP)?**\n",
        "\n",
        "The five key concepts of Object-Oriented Programming (OOP) are:\n",
        "\n",
        "**1.Encapsulation**\n",
        "\n",
        "Encapsulation is the practice of bundling data (attributes) and methods (functions) that operate on that data within a single unit, called a class. It restricts direct access to some of an object's components, which is intended to prevent accidental modification and ensure that data is only changed in controlled ways.\n",
        "\n",
        "**Example:** Private variables and methods within a class, only accessible through public methods (getters and setters).\n",
        "\n",
        "**2.Abstraction**\n",
        "\n",
        "Abstraction is the process of hiding the complex implementation details of a system and only exposing the necessary and relevant parts. This allows developers to focus on interactions at a high level without needing to understand every detail of how something works.\n",
        "\n",
        "**Example:** A Car class that has a method start_engine() abstracts the details of engine ignition from the user.\n",
        "\n",
        "**3.Inheritance**\n",
        "\n",
        "Inheritance allows a class to inherit properties and behavior (methods) from another class, known as the parent or base class. This helps promote code reusability and creates a hierarchical relationship between classes.\n",
        "\n",
        "**Example:** A Dog class can inherit from an Animal class, inheriting properties like legs and behaviors like make_sound().\n",
        "\n",
        "**4.Polymorphism**\n",
        "\n",
        "Polymorphism allows objects of different classes to be treated as objects of a common superclass. This is often used through method overriding, where subclasses provide specific implementations for methods defined in their parent class.\n",
        "\n",
        "**Example:** A Shape superclass with a draw() method can have subclasses like Circle and Square that implement their own versions of draw().\n",
        "\n",
        "**5.Association and Composition (also known as Aggregation)**\n",
        "\n",
        "While not always considered one of the “core” pillars, association and composition are key OOP concepts. Association represents a relationship between classes, and composition is a strong form of association where one class owns an instance of another class. If the owning class is destroyed, so is the owned object.\n",
        "\n",
        "**Example:** A Library class can contain multiple Book objects (composition), but a Teacher and Student can have an association since they can exist independently.\n",
        "\n",
        "These concepts together form the foundation of OOP, enabling more modular, reusable, and scalable code."
      ],
      "metadata": {
        "id": "G6RbQZPQG7vl"
      }
    },
    {
      "cell_type": "markdown",
      "source": [
        "# **2. Write a Python class for a `Car` with attributes for `make`, `model`, and `year`. Include a method to display**\n",
        "# **the car's information**.\n",
        "\n"
      ],
      "metadata": {
        "id": "3-3uRAmgHAw0"
      }
    },
    {
      "cell_type": "code",
      "source": [
        "class Car:\n",
        "    def __init__(self, make, model, year):\n",
        "        self.make = make\n",
        "        self.model = model\n",
        "        self.year = year\n",
        "\n",
        "    def display_info(self):\n",
        "        print(f\"Car Information:\\nMake: {self.make}\\nModel: {self.model}\\nYear: {self.year}\")\n",
        "\n",
        "# Example usage:\n",
        "my_car = Car(\"Toyota\", \"Camry\", 2020)\n",
        "my_car.display_info()\n"
      ],
      "metadata": {
        "colab": {
          "base_uri": "https://localhost:8080/"
        },
        "id": "FXkrLZPxVXH1",
        "outputId": "152af68e-3191-47a0-edc2-05236a365d1c"
      },
      "execution_count": 1,
      "outputs": [
        {
          "output_type": "stream",
          "name": "stdout",
          "text": [
            "Car Information:\n",
            "Make: Toyota\n",
            "Model: Camry\n",
            "Year: 2020\n"
          ]
        }
      ]
    },
    {
      "cell_type": "markdown",
      "source": [
        "**Explanation:**\n",
        "\n",
        "__init__ method initializes the make, model, and year attributes.\n",
        "\n",
        "display_info method prints out the car’s information in a formatted way."
      ],
      "metadata": {
        "id": "KVe56X1SVg2H"
      }
    },
    {
      "cell_type": "markdown",
      "source": [
        "# **3. Explain the difference between instance methods and class methods. Provide an example of each.**\n",
        "\n",
        "In Python, instance methods and class methods are two types of methods with different purposes and behaviors. Here’s a breakdown of each:\n",
        "\n",
        "**1. Instance Methods**\n",
        "\n",
        "**Definition:** Instance methods are functions defined within a class that work on an instance of that class. They take self as the first parameter, which represents the instance of the class.\n",
        "\n",
        "**Usage: **They can access and modify the instance's attributes and call other instance methods.\n",
        "\n",
        "**Example:**"
      ],
      "metadata": {
        "id": "RDtKENsEHFC0"
      }
    },
    {
      "cell_type": "code",
      "source": [
        "class Dog:\n",
        "    def __init__(self, name, age):\n",
        "        self.name = name\n",
        "        self.age = age\n",
        "\n",
        "    # Instance method\n",
        "    def bark(self):\n",
        "        print(f\"{self.name} says Woof!\")\n",
        "\n",
        "# Example usage\n",
        "my_dog = Dog(\"Buddy\", 3)\n",
        "my_dog.bark()  # Output: Buddy says Woof!\n"
      ],
      "metadata": {
        "colab": {
          "base_uri": "https://localhost:8080/"
        },
        "id": "X-T2bpl6V6sg",
        "outputId": "33622f28-199c-4263-b302-a52283bd2b8a"
      },
      "execution_count": 2,
      "outputs": [
        {
          "output_type": "stream",
          "name": "stdout",
          "text": [
            "Buddy says Woof!\n"
          ]
        }
      ]
    },
    {
      "cell_type": "markdown",
      "source": [
        "**2. Class Methods**\n",
        "\n",
        "**Definition:** Class methods are functions that operate on the class itself, rather than on instances of the class. They take cls as the first parameter instead of self, where cls represents the class.\n",
        "\n",
        "**Usage:** They can modify class-level attributes (attributes shared across all instances) and are usually defined using the @classmethod decorator.\n",
        "\n",
        "**Example:**"
      ],
      "metadata": {
        "id": "ZmGYuhMOV-0-"
      }
    },
    {
      "cell_type": "code",
      "source": [
        "class Dog:\n",
        "    species = \"Canine\"  # Class attribute\n",
        "\n",
        "    def __init__(self, name, age):\n",
        "        self.name = name\n",
        "        self.age = age\n",
        "\n",
        "    # Class method\n",
        "    @classmethod\n",
        "    def change_species(cls, new_species):\n",
        "        cls.species = new_species\n",
        "\n",
        "# Example usage\n",
        "Dog.change_species(\"Wolf\")\n",
        "print(Dog.species)  # Output: Wolf\n"
      ],
      "metadata": {
        "colab": {
          "base_uri": "https://localhost:8080/"
        },
        "id": "3mCJGQkxWGg6",
        "outputId": "2a4a4b01-3024-4e30-bc86-bb6a401456f6"
      },
      "execution_count": 3,
      "outputs": [
        {
          "output_type": "stream",
          "name": "stdout",
          "text": [
            "Wolf\n"
          ]
        }
      ]
    },
    {
      "cell_type": "markdown",
      "source": [
        "**Key Differences**\n",
        "\n",
        "Instance methods operate on specific instances and can access instance attributes.\n",
        "\n",
        "Class methods operate on the class itself and can modify class-level attributes shared across all instances."
      ],
      "metadata": {
        "id": "pKUv5saCWJwo"
      }
    },
    {
      "cell_type": "markdown",
      "source": [
        "# **4. How does Python implement method overloading? Give an example.**\n",
        "\n",
        "\n",
        "Python doesn’t support traditional method overloading as seen in other programming languages like Java or C++. Instead, Python achieves flexibility by using default arguments, variable-length arguments (*args and **kwargs), and type checks within a single method definition.\n",
        "\n",
        "**Implementing Method Overloading in Python**\n",
        "\n",
        "**1.Using Default Arguments:** Define default values for parameters.\n",
        "\n",
        "**2.Using *args and** ****kwargs:**Allow varying numbers of arguments.\n",
        "**3.Type Checking in the Method:** Check types inside the method to change behavior based on the arguments provided.\n",
        "\n",
        "**Example:** Using Default Arguments and *args\n",
        "\n",
        "Here’s an example of how you might simulate method overloading in Python by using default arguments and *args:"
      ],
      "metadata": {
        "id": "qZNsdZERHHUI"
      }
    },
    {
      "cell_type": "code",
      "source": [
        "class Calculator:\n",
        "    # Single method to handle different types of input\n",
        "    def add(self, a, b=0, c=0):\n",
        "        return a + b + c\n",
        "\n",
        "# Example usage\n",
        "calc = Calculator()\n",
        "\n",
        "print(calc.add(5))          # Output: 5  (adds only a)\n",
        "print(calc.add(5, 10))      # Output: 15 (adds a and b)\n",
        "print(calc.add(5, 10, 20))  # Output: 35 (adds a, b, and c)\n"
      ],
      "metadata": {
        "colab": {
          "base_uri": "https://localhost:8080/"
        },
        "id": "59VUsmZnXdyc",
        "outputId": "326f058d-a78c-4b0e-ebf7-16ad1ce97b07"
      },
      "execution_count": 4,
      "outputs": [
        {
          "output_type": "stream",
          "name": "stdout",
          "text": [
            "5\n",
            "15\n",
            "35\n"
          ]
        }
      ]
    },
    {
      "cell_type": "markdown",
      "source": [
        "\n",
        "**Example: Using Type Checking in the Method**\n",
        "\n",
        "Here's another example that handles different argument types within a single method:"
      ],
      "metadata": {
        "id": "iM-P7CCPXimW"
      }
    },
    {
      "cell_type": "code",
      "source": [
        "class Printer:\n",
        "    def print_value(self, value):\n",
        "        if isinstance(value, int):\n",
        "            print(f\"Integer: {value}\")\n",
        "        elif isinstance(value, str):\n",
        "            print(f\"String: '{value}'\")\n",
        "        else:\n",
        "            print(\"Unsupported type\")\n",
        "\n",
        "# Example usage\n",
        "printer = Printer()\n",
        "printer.print_value(42)         # Output: Integer: 42\n",
        "printer.print_value(\"Hello\")    # Output: String: 'Hello'\n"
      ],
      "metadata": {
        "colab": {
          "base_uri": "https://localhost:8080/"
        },
        "id": "u0ElOtV4XpI4",
        "outputId": "b7eef8f5-0612-440c-bd99-d1d791dee5a7"
      },
      "execution_count": 5,
      "outputs": [
        {
          "output_type": "stream",
          "name": "stdout",
          "text": [
            "Integer: 42\n",
            "String: 'Hello'\n"
          ]
        }
      ]
    },
    {
      "cell_type": "markdown",
      "source": [
        "**Explanation**\n",
        "\n",
        "**Using Default Arguments:** We set default values for parameters, allowing flexibility in the number of arguments provided.\n",
        "\n",
        "**Type Checking:** isinstance() checks the type, allowing the same method to behave differently based on the argument type."
      ],
      "metadata": {
        "id": "IucxH7juXxT0"
      }
    },
    {
      "cell_type": "markdown",
      "source": [
        "# **5. What are the three types of access modifiers in Python? How are they denoted?**\n",
        "\n",
        "In Python, access modifiers control the visibility of class attributes and methods. Although Python doesn’t enforce strict access control like some other languages, it uses naming conventions to denote three types of access levels:\n",
        "\n",
        "**1. Public (no underscore)**\n",
        "\n",
        "**Description:** Public attributes and methods can be accessed from anywhere, both inside and outside the class.\n",
        "\n",
        "**Notation:** No leading underscore (name)\n",
        "\n",
        "**Example:**\n"
      ],
      "metadata": {
        "id": "9QDJuPQTHJk9"
      }
    },
    {
      "cell_type": "code",
      "source": [
        "class MyClass:\n",
        "    def __init__(self):\n",
        "        self.public_var = \"I am public\"\n",
        "\n",
        "    def public_method(self):\n",
        "        print(\"This is a public method\")\n",
        "\n",
        "obj = MyClass()\n",
        "print(obj.public_var)      # Accessible outside the class\n",
        "obj.public_method()         # Accessible outside the class\n"
      ],
      "metadata": {
        "colab": {
          "base_uri": "https://localhost:8080/"
        },
        "id": "rB865CEAYoPB",
        "outputId": "2d458f0f-2aeb-4036-ef56-f57a8da7b0c0"
      },
      "execution_count": 6,
      "outputs": [
        {
          "output_type": "stream",
          "name": "stdout",
          "text": [
            "I am public\n",
            "This is a public method\n"
          ]
        }
      ]
    },
    {
      "cell_type": "markdown",
      "source": [
        "**2. Protected (_single underscore)**\n",
        "\n",
        "**Description:** Protected attributes and methods are intended to be used only within the class and its subclasses. They can still be accessed outside the class, but by convention, a single underscore (_) indicates that these attributes or methods shouldn’t be accessed directly.\n",
        "\n",
        "**Notation:** Single leading underscore (_name)\n",
        "\n",
        "**Example:**\n"
      ],
      "metadata": {
        "id": "H1VOORzoYrcI"
      }
    },
    {
      "cell_type": "code",
      "source": [
        "class MyClass:\n",
        "    def __init__(self):\n",
        "        self._protected_var = \"I am protected\"\n",
        "\n",
        "    def _protected_method(self):\n",
        "        print(\"This is a protected method\")\n",
        "\n",
        "obj = MyClass()\n",
        "print(obj._protected_var)   # Accessible but should be avoided\n",
        "obj._protected_method()      # Accessible but should be avoided\n"
      ],
      "metadata": {
        "colab": {
          "base_uri": "https://localhost:8080/"
        },
        "id": "XSy6jsz0Y0Sf",
        "outputId": "4f477f85-b179-4116-c992-546571ef34c8"
      },
      "execution_count": 7,
      "outputs": [
        {
          "output_type": "stream",
          "name": "stdout",
          "text": [
            "I am protected\n",
            "This is a protected method\n"
          ]
        }
      ]
    },
    {
      "cell_type": "markdown",
      "source": [
        "**3. Private (__double underscore)**\n",
        "\n",
        "**Description:** Private attributes and methods are intended for use only within the class itself and are not directly accessible outside it. They’re name-mangled by Python to prevent accidental access, making it harder (though still possible) to access them from outside the class.\n",
        "\n",
        "**Notation:** Double leading underscore (__name)\n",
        "\n",
        "**Example:**"
      ],
      "metadata": {
        "id": "okbg36L4Y4x3"
      }
    },
    {
      "cell_type": "code",
      "source": [
        "class MyClass:\n",
        "    def __init__(self):\n",
        "        self.__private_var = \"I am private\"\n",
        "\n",
        "    def __private_method(self):\n",
        "        print(\"This is a private method\")\n",
        "\n",
        "obj = MyClass()\n",
        "# Direct access would raise an error\n",
        "# print(obj.__private_var)\n",
        "# obj.__private_method()\n",
        "\n",
        "# Access using name mangling\n",
        "print(obj._MyClass__private_var)  # Output: I am private\n",
        "obj._MyClass__private_method()    # Output: This is a private method\n"
      ],
      "metadata": {
        "colab": {
          "base_uri": "https://localhost:8080/"
        },
        "id": "vL2lJ8yQZGeh",
        "outputId": "32ea53de-bd8c-46f1-94e4-acf3ef3d03e7"
      },
      "execution_count": 8,
      "outputs": [
        {
          "output_type": "stream",
          "name": "stdout",
          "text": [
            "I am private\n",
            "This is a private method\n"
          ]
        }
      ]
    },
    {
      "cell_type": "markdown",
      "source": [
        "# **6. Describe the five types of inheritance in Python. Provide a simple example of multiple inheritance.**\n",
        "\n",
        "In Python, inheritance allows a class to inherit properties and behaviors from another class. Here are the five types of inheritance in Python:\n",
        "\n",
        "**1. Single Inheritance**\n",
        "\n",
        "A class inherits from only one superclass.\n",
        "\n",
        "**Example:**"
      ],
      "metadata": {
        "id": "O39O1P3YHL8D"
      }
    },
    {
      "cell_type": "code",
      "source": [
        "class Animal:\n",
        "    def eat(self):\n",
        "        print(\"Eating...\")\n",
        "\n",
        "class Dog(Animal):\n",
        "    def bark(self):\n",
        "        print(\"Barking...\")\n",
        "\n",
        "my_dog = Dog()\n",
        "my_dog.eat()   # Output: Eating...\n",
        "my_dog.bark()  # Output: Barking...\n"
      ],
      "metadata": {
        "colab": {
          "base_uri": "https://localhost:8080/"
        },
        "id": "Hje0Md8NZWRv",
        "outputId": "f1e2034b-df25-4e63-e214-58c2aadc30a0"
      },
      "execution_count": 9,
      "outputs": [
        {
          "output_type": "stream",
          "name": "stdout",
          "text": [
            "Eating...\n",
            "Barking...\n"
          ]
        }
      ]
    },
    {
      "cell_type": "markdown",
      "source": [
        "**2. Multiple Inheritance**\n",
        "\n",
        "A class inherits from more than one superclass.\n",
        "\n",
        "**Example:**"
      ],
      "metadata": {
        "id": "Mu6pXHxRZcSL"
      }
    },
    {
      "cell_type": "code",
      "source": [
        "class Mother:\n",
        "    def nature(self):\n",
        "        print(\"Kind and caring\")\n",
        "\n",
        "class Father:\n",
        "    def strength(self):\n",
        "        print(\"Strong and brave\")\n",
        "\n",
        "class Child(Mother, Father):\n",
        "    def talent(self):\n",
        "        print(\"Talented\")\n",
        "\n",
        "child = Child()\n",
        "child.nature()     # Output: Kind and caring\n",
        "child.strength()   # Output: Strong and brave\n",
        "child.talent()     # Output: Talented\n"
      ],
      "metadata": {
        "colab": {
          "base_uri": "https://localhost:8080/"
        },
        "id": "jPD_a0dlZhdh",
        "outputId": "d8f25c7a-a758-498c-a929-17f19499b9e5"
      },
      "execution_count": 10,
      "outputs": [
        {
          "output_type": "stream",
          "name": "stdout",
          "text": [
            "Kind and caring\n",
            "Strong and brave\n",
            "Talented\n"
          ]
        }
      ]
    },
    {
      "cell_type": "markdown",
      "source": [
        "**3. Multilevel Inheritance**\n",
        "\n",
        "A class inherits from a superclass, and another class inherits from that subclass, forming a \"chain\" of inheritance.\n",
        "\n",
        "**Example:**"
      ],
      "metadata": {
        "id": "vR6hpIYmZl0C"
      }
    },
    {
      "cell_type": "code",
      "source": [
        "class Animal:\n",
        "    def breathe(self):\n",
        "        print(\"Breathing...\")\n",
        "\n",
        "class Mammal(Animal):\n",
        "    def walk(self):\n",
        "        print(\"Walking...\")\n",
        "\n",
        "class Dog(Mammal):\n",
        "    def bark(self):\n",
        "        print(\"Barking...\")\n",
        "\n",
        "my_dog = Dog()\n",
        "my_dog.breathe()  # Output: Breathing...\n",
        "my_dog.walk()     # Output: Walking...\n",
        "my_dog.bark()     # Output: Barking...\n"
      ],
      "metadata": {
        "colab": {
          "base_uri": "https://localhost:8080/"
        },
        "id": "8Nd1DW2EZrj0",
        "outputId": "63627532-8960-4508-a3ea-a40574249d45"
      },
      "execution_count": 11,
      "outputs": [
        {
          "output_type": "stream",
          "name": "stdout",
          "text": [
            "Breathing...\n",
            "Walking...\n",
            "Barking...\n"
          ]
        }
      ]
    },
    {
      "cell_type": "markdown",
      "source": [
        "**4. Hierarchical Inheritance**\n",
        "\n",
        "Multiple classes inherit from a single superclass.\n",
        "\n",
        "**Example:**\n"
      ],
      "metadata": {
        "id": "enel5XIzZxOe"
      }
    },
    {
      "cell_type": "code",
      "source": [
        "class Animal:\n",
        "    def sound(self):\n",
        "        print(\"Making a sound\")\n",
        "\n",
        "class Dog(Animal):\n",
        "    def bark(self):\n",
        "        print(\"Barking...\")\n",
        "\n",
        "class Cat(Animal):\n",
        "    def meow(self):\n",
        "        print(\"Meowing...\")\n",
        "\n",
        "my_dog = Dog()\n",
        "my_cat = Cat()\n",
        "my_dog.sound()  # Output: Making a sound\n",
        "my_cat.sound()  # Output: Making a sound\n"
      ],
      "metadata": {
        "colab": {
          "base_uri": "https://localhost:8080/"
        },
        "id": "ZpNlCkoCZ2li",
        "outputId": "0e99dea9-5d78-4977-9719-cfa0c398f967"
      },
      "execution_count": 12,
      "outputs": [
        {
          "output_type": "stream",
          "name": "stdout",
          "text": [
            "Making a sound\n",
            "Making a sound\n"
          ]
        }
      ]
    },
    {
      "cell_type": "markdown",
      "source": [
        "**5. Hybrid Inheritance**\n",
        "\n",
        "A combination of two or more types of inheritance. Python’s method resolution order (MRO) helps in managing this complexity, especially with multiple inheritance.\n",
        "\n",
        "**Example:**"
      ],
      "metadata": {
        "id": "lOUrkbBkZ6ll"
      }
    },
    {
      "cell_type": "code",
      "source": [
        "class LivingBeing:\n",
        "    def live(self):\n",
        "        print(\"Living...\")\n",
        "\n",
        "class Mammal(LivingBeing):\n",
        "    def breathe(self):\n",
        "        print(\"Breathing...\")\n",
        "\n",
        "class Bird(LivingBeing):\n",
        "    def fly(self):\n",
        "        print(\"Flying...\")\n",
        "\n",
        "class Bat(Mammal, Bird):\n",
        "    def nocturnal(self):\n",
        "        print(\"Active at night\")\n",
        "\n",
        "bat = Bat()\n",
        "bat.live()       # Output: Living...\n",
        "bat.breathe()    # Output: Breathing...\n",
        "bat.fly()        # Output: Flying...\n",
        "bat.nocturnal()  # Output: Active at night\n"
      ],
      "metadata": {
        "colab": {
          "base_uri": "https://localhost:8080/"
        },
        "id": "pxgKkh6aaAwt",
        "outputId": "81615f85-319b-42b3-c93c-11aa768293fd"
      },
      "execution_count": 13,
      "outputs": [
        {
          "output_type": "stream",
          "name": "stdout",
          "text": [
            "Living...\n",
            "Breathing...\n",
            "Flying...\n",
            "Active at night\n"
          ]
        }
      ]
    },
    {
      "cell_type": "markdown",
      "source": [
        "**Multiple Inheritance Example Recap**\n",
        "\n",
        "In the multiple inheritance example above, Child inherits from both Mother and Father, gaining their methods and demonstrating the Child class's ability to access attributes and methods from multiple superclasses."
      ],
      "metadata": {
        "id": "INM6SIAXaH4e"
      }
    },
    {
      "cell_type": "markdown",
      "source": [
        "# **7. What is the Method Resolution Order (MRO) in Python? How can you retrieve it programmatically?**\n",
        "\n",
        "The Method Resolution Order (MRO) in Python is the order in which Python looks for a method or attribute in a hierarchy of classes, especially in cases of multiple inheritance. MRO determines the sequence in which base classes are checked when executing a method.\n",
        "\n",
        "Python uses the **C3 linearization algorithm** (or C3 superclass linearization) to calculate the MRO, ensuring a consistent and logical order. This is particularly important for handling multiple inheritance, as it provides an order for method lookups in complex class hierarchies.\n",
        "\n",
        "**How MRO Works in Python**\n",
        "\n",
        "The MRO follows these rules:\n",
        "\n",
        "1 A class is checked first, then its direct superclass, and so on.\n",
        "\n",
        "2 In multiple inheritance, Python prioritizes the left-to-right order in which base classes are defined.\n",
        "\n",
        "3 Python ensures that a class is called only once in the MRO list and only after all its parent classes have been resolved.\n",
        "\n",
        "**Retrieving MRO Programmatically**\n",
        "\n",
        "You can retrieve the MRO of a class using:\n",
        "\n",
        "\n",
        "1 The __mro__ attribute: This is a tuple that contains the classes in the order of resolution.\n",
        "\n",
        "2 The mro() method: This is a class method that returns the MRO as a list.\n",
        "\n",
        "**Example**"
      ],
      "metadata": {
        "id": "uloCiHU4HNgg"
      }
    },
    {
      "cell_type": "code",
      "source": [
        "class A:\n",
        "    def show(self):\n",
        "        print(\"A\")\n",
        "\n",
        "class B(A):\n",
        "    def show(self):\n",
        "        print(\"B\")\n",
        "\n",
        "class C(A):\n",
        "    def show(self):\n",
        "        print(\"C\")\n",
        "\n",
        "class D(B, C):\n",
        "    pass\n",
        "\n",
        "# Retrieving the MRO\n",
        "print(D.__mro__)    # Output: (<class '__main__.D'>, <class '__main__.B'>, <class '__main__.C'>, <class '__main__.A'>, <class 'object'>)\n",
        "print(D.mro())      # Output: [<class '__main__.D'>, <class '__main__.B'>, <class '__main__.C'>, <class '__main__.A'>, <class 'object'>]\n"
      ],
      "metadata": {
        "colab": {
          "base_uri": "https://localhost:8080/"
        },
        "id": "HuBry745anPz",
        "outputId": "75035c2b-25f8-4137-b1ce-fc416c12e405"
      },
      "execution_count": 14,
      "outputs": [
        {
          "output_type": "stream",
          "name": "stdout",
          "text": [
            "(<class '__main__.D'>, <class '__main__.B'>, <class '__main__.C'>, <class '__main__.A'>, <class 'object'>)\n",
            "[<class '__main__.D'>, <class '__main__.B'>, <class '__main__.C'>, <class '__main__.A'>, <class 'object'>]\n"
          ]
        }
      ]
    },
    {
      "cell_type": "markdown",
      "source": [
        "# **8. Create an abstract base class `Shape` with an abstract method `area()`.Then create two subclasses `Circle` and `Rectangle` that implement the `area() method.**\n",
        "\n",
        "To implement an abstract base class in Python, we use the abc module, which allows us to define abstract methods that must be implemented by subclasses. Here's how to create a base class Shape with an abstract method area(), and two subclasses, Circle and Rectangle, that implement this method:"
      ],
      "metadata": {
        "id": "HNql8hpfHRvW"
      }
    },
    {
      "cell_type": "code",
      "source": [
        "from abc import ABC, abstractmethod\n",
        "import math\n",
        "\n",
        "# Abstract base class\n",
        "class Shape(ABC):\n",
        "    @abstractmethod\n",
        "    def area(self):\n",
        "        pass\n",
        "\n",
        "# Subclass for Circle\n",
        "class Circle(Shape):\n",
        "    def __init__(self, radius):\n",
        "        self.radius = radius\n",
        "\n",
        "    def area(self):\n",
        "        return math.pi * (self.radius ** 2)\n",
        "\n",
        "# Subclass for Rectangle\n",
        "class Rectangle(Shape):\n",
        "    def __init__(self, width, height):\n",
        "        self.width = width\n",
        "        self.height = height\n",
        "\n",
        "    def area(self):\n",
        "        return self.width * self.height\n",
        "\n",
        "# Example usage\n",
        "circle = Circle(5)\n",
        "rectangle = Rectangle(4, 6)\n",
        "\n",
        "print(\"Circle Area:\", circle.area())       # Output: Circle Area: 78.53981633974483\n",
        "print(\"Rectangle Area:\", rectangle.area()) # Output: Rectangle Area: 24\n"
      ],
      "metadata": {
        "colab": {
          "base_uri": "https://localhost:8080/"
        },
        "id": "kqtZ8lswa7u4",
        "outputId": "1cf9404f-21e9-4026-91f2-e8376b328891"
      },
      "execution_count": 15,
      "outputs": [
        {
          "output_type": "stream",
          "name": "stdout",
          "text": [
            "Circle Area: 78.53981633974483\n",
            "Rectangle Area: 24\n"
          ]
        }
      ]
    },
    {
      "cell_type": "markdown",
      "source": [
        "**Explanation**\n",
        "\n",
        "**Abstract Base Class (Shape):** Shape is an abstract class with an abstract method area(). The area method is defined but not implemented here, which means any subclass of Shape must provide its own implementation.\n",
        "\n",
        "**Circle:** Implements area() as π * r^2, where r is the radius.\n",
        "\n",
        "**Rectangle:** Implements area() as width * height.\n",
        "\n",
        "**Usage**\n",
        "\n",
        "Instances of Circle and Rectangle call their respective area() methods, which compute and print the area based on their specific formulas. This setup ensures any Shape subclass must implement area(), enforcing a consistent interface across shapes."
      ],
      "metadata": {
        "id": "mcdiI5Qia_at"
      }
    },
    {
      "cell_type": "markdown",
      "source": [
        "# **9. Demonstrate polymorphism by creating a function that can work with different shape objects to calculate and print their areas.**\n",
        "\n",
        "Polymorphism allows us to use a single function to work with different types of objects, as long as they implement a common interface. In this example, we’ll create a function called print_area that calculates and prints the area of any shape object that has an area() method, demonstrating polymorphism with different shape classes.\n",
        "\n",
        "**Code Example**"
      ],
      "metadata": {
        "id": "n2w2NyI9HUEw"
      }
    },
    {
      "cell_type": "code",
      "source": [
        "from abc import ABC, abstractmethod\n",
        "import math\n",
        "\n",
        "# Abstract base class\n",
        "class Shape(ABC):\n",
        "    @abstractmethod\n",
        "    def area(self):\n",
        "        pass\n",
        "\n",
        "# Subclass for Circle\n",
        "class Circle(Shape):\n",
        "    def __init__(self, radius):\n",
        "        self.radius = radius\n",
        "\n",
        "    def area(self):\n",
        "        return math.pi * (self.radius ** 2)\n",
        "\n",
        "# Subclass for Rectangle\n",
        "class Rectangle(Shape):\n",
        "    def __init__(self, width, height):\n",
        "        self.width = width\n",
        "        self.height = height\n",
        "\n",
        "    def area(self):\n",
        "        return self.width * self.height\n",
        "\n",
        "# Polymorphic function\n",
        "def print_area(shape):\n",
        "    print(f\"The area is: {shape.area()}\")\n",
        "\n",
        "# Example usage with polymorphism\n",
        "circle = Circle(5)\n",
        "rectangle = Rectangle(4, 6)\n",
        "\n",
        "print_area(circle)      # Output: The area is: 78.53981633974483\n",
        "print_area(rectangle)   # Output: The area is: 24\n"
      ],
      "metadata": {
        "colab": {
          "base_uri": "https://localhost:8080/"
        },
        "id": "PkZJOFRcbbiq",
        "outputId": "698e6d6a-8a18-46b3-dfee-bb8663a98da1"
      },
      "execution_count": 16,
      "outputs": [
        {
          "output_type": "stream",
          "name": "stdout",
          "text": [
            "The area is: 78.53981633974483\n",
            "The area is: 24\n"
          ]
        }
      ]
    },
    {
      "cell_type": "markdown",
      "source": [
        "**Explanation**\n",
        "\n",
        "**Polymorphic Function print_area:** This function accepts any object that implements the area() method. It calls area() on the passed object and prints the result.\n",
        "\n",
        "**Polymorphic Behavior:** We use the same print_area function to calculate and print the area of both a Circle and a Rectangle. This demonstrates polymorphism, as print_area can work with any object that follows the Shape interface.\n",
        "\n",
        "The print_area function is capable of handling different shapes (objects of Circle and Rectangle) seamlessly, as they both implement the area() method, demonstrating polymorphism in action."
      ],
      "metadata": {
        "id": "D9YHf0SRbjLr"
      }
    },
    {
      "cell_type": "markdown",
      "source": [
        "# **10. Implement encapsulation in a `BankAccount` class with private attributes for `balance` and `account_number`. Include methods for deposit, withdrawal, and balance inquiry.**\n",
        "\n",
        "Encapsulation in Python can be implemented by defining attributes as private (using a double underscore __ prefix). This restricts direct access to the attributes from outside the class, ensuring they can only be modified through methods provided within the class.\n",
        "\n",
        "Here’s an example of a BankAccount class that encapsulates the balance and account_number attributes, providing controlled access through methods."
      ],
      "metadata": {
        "id": "8aCIK_F3HXCg"
      }
    },
    {
      "cell_type": "code",
      "source": [
        "class BankAccount:\n",
        "    def __init__(self, account_number, initial_balance=0):\n",
        "        self.__account_number = account_number  # Private attribute\n",
        "        self.__balance = initial_balance        # Private attribute\n",
        "\n",
        "    def deposit(self, amount):\n",
        "        \"\"\"Adds the specified amount to the balance.\"\"\"\n",
        "        if amount > 0:\n",
        "            self.__balance += amount\n",
        "            print(f\"Deposited: ${amount}\")\n",
        "        else:\n",
        "            print(\"Deposit amount must be positive.\")\n",
        "\n",
        "    def withdraw(self, amount):\n",
        "        \"\"\"Subtracts the specified amount from the balance, if sufficient funds are available.\"\"\"\n",
        "        if amount > 0:\n",
        "            if amount <= self.__balance:\n",
        "                self.__balance -= amount\n",
        "                print(f\"Withdrew: ${amount}\")\n",
        "            else:\n",
        "                print(\"Insufficient funds.\")\n",
        "        else:\n",
        "            print(\"Withdrawal amount must be positive.\")\n",
        "\n",
        "    def get_balance(self):\n",
        "        \"\"\"Returns the current balance.\"\"\"\n",
        "        return self.__balance\n",
        "\n",
        "    def get_account_number(self):\n",
        "        \"\"\"Returns the account number.\"\"\"\n",
        "        return self.__account_number\n",
        "\n",
        "# Example usage\n",
        "account = BankAccount(\"12345678\", 100)\n",
        "account.deposit(50)\n",
        "account.withdraw(30)\n",
        "print(\"Current Balance:\", account.get_balance())  # Output: Current Balance: 120\n",
        "print(\"Account Number:\", account.get_account_number())  # Output: Account Number: 12345678\n"
      ],
      "metadata": {
        "colab": {
          "base_uri": "https://localhost:8080/"
        },
        "id": "cfubt5NwcEq4",
        "outputId": "3171cbdf-529d-4276-ede3-c8b65c35cb49"
      },
      "execution_count": 17,
      "outputs": [
        {
          "output_type": "stream",
          "name": "stdout",
          "text": [
            "Deposited: $50\n",
            "Withdrew: $30\n",
            "Current Balance: 120\n",
            "Account Number: 12345678\n"
          ]
        }
      ]
    },
    {
      "cell_type": "markdown",
      "source": [
        "**Explanation**\n",
        "\n",
        "**Encapsulation:** The attributes __account_number and __balance are private, meaning they cannot be accessed or modified directly from outside the class.\n",
        "\n",
        "**Methods for Access:**\n",
        "\n",
        "**deposit():** Adds to the balance if the deposit amount is positive.\n",
        "\n",
        "**withdraw():** Subtracts from the balance if there are sufficient funds and the withdrawal amount is positive.\n",
        "\n",
        "**get_balance():** Provides read-only access to the balance.\n",
        "\n",
        "**get_account_number():** Provides read-only access to the account number.\n",
        "\n",
        "**Benefits of Encapsulation in This Example**\n",
        "\n",
        "Encapsulation protects the balance and account_number from unauthorized or inappropriate access and modifications. The class provides controlled methods for depositing, withdrawing, and checking the balance, ensuring a more secure and predictable implementation of the bank account behavior."
      ],
      "metadata": {
        "id": "Q3fHmu9vcIzV"
      }
    },
    {
      "cell_type": "markdown",
      "source": [
        "# **11. Write a class that overrides the `__str__` and `__add__` magic methods. What will these methods allow you to do?**\n",
        "\n",
        "In Python, magic methods (also known as dunder methods) allow you to define how objects of a class behave with built-in functions and operators. The __str__ method is used to define a human-readable string representation of an object, while the __add__ method allows you to define the behavior of the addition operator (+) for instances of the class.\n",
        "\n",
        "**Example Class**\n",
        "\n",
        "Here’s an example of a class called Vector that overrides both the __str__ and __add__ magic methods."
      ],
      "metadata": {
        "id": "cI8bOAegHZgh"
      }
    },
    {
      "cell_type": "code",
      "source": [
        "class Vector:\n",
        "    def __init__(self, x, y):\n",
        "        self.x = x\n",
        "        self.y = y\n",
        "\n",
        "    def __str__(self):\n",
        "        \"\"\"Return a string representation of the vector.\"\"\"\n",
        "        return f\"Vector({self.x}, {self.y})\"\n",
        "\n",
        "    def __add__(self, other):\n",
        "        \"\"\"Add two vectors together.\"\"\"\n",
        "        if isinstance(other, Vector):\n",
        "            return Vector(self.x + other.x, self.y + other.y)\n",
        "        return NotImplemented  # For unsupported operand types\n",
        "\n",
        "# Example usage\n",
        "v1 = Vector(2, 3)\n",
        "v2 = Vector(5, 7)\n",
        "\n",
        "# Using __str__ method\n",
        "print(v1)  # Output: Vector(2, 3)\n",
        "\n",
        "# Using __add__ method\n",
        "v3 = v1 + v2\n",
        "print(v3)  # Output: Vector(7, 10)\n"
      ],
      "metadata": {
        "colab": {
          "base_uri": "https://localhost:8080/"
        },
        "id": "nam62t5pcsqk",
        "outputId": "855912ff-a7d4-4400-e98c-811d9f8e16a4"
      },
      "execution_count": 18,
      "outputs": [
        {
          "output_type": "stream",
          "name": "stdout",
          "text": [
            "Vector(2, 3)\n",
            "Vector(7, 10)\n"
          ]
        }
      ]
    },
    {
      "cell_type": "markdown",
      "source": [
        "**Explanation**\n",
        "\n",
        "**1 __str__ Method:**\n",
        "\n",
        "This method provides a string representation of the Vector object when print() is called or when the object is converted to a string.\n",
        "\n",
        "In this example, it returns a formatted string showing the vector's coordinates.\n",
        "\n",
        "**2 __add__ Method:**\n",
        "\n",
        "This method defines the behavior of the addition operator (+) when used with two Vector instances.\n",
        "\n",
        "It checks if the other object being added is also a Vector, and if so, it returns a new Vector with the summed coordinates.\n",
        "\n",
        "If the other object is not a Vector, it returns NotImplemented, allowing Python to handle unsupported operations gracefully.\n",
        "\n",
        "**Benefits of Overriding These Methods**\n",
        "\n",
        "**Custom String Representation:** By overriding __str__, you provide a clear and meaningful representation of the object, which improves readability and debugging.\n",
        "\n",
        "**Operator Overloading:** By overriding __add__, you enable intuitive use of the addition operator for custom objects, allowing you to write more expressive and cleaner code."
      ],
      "metadata": {
        "id": "HHni15s-cyo3"
      }
    },
    {
      "cell_type": "markdown",
      "source": [
        "# **12. Create a decorator that measures and prints the execution time of a function.**\n",
        "\n",
        "Decorators in Python are a powerful way to modify the behavior of functions or methods. You can create a decorator that measures and prints the execution time of a function by utilizing the time module.\n",
        "\n",
        "**Example Decorator**\n",
        "\n",
        "Here's how you can implement such a decorator:"
      ],
      "metadata": {
        "id": "KW5PQeVPHbzx"
      }
    },
    {
      "cell_type": "code",
      "source": [
        "import time\n",
        "\n",
        "def timing_decorator(func):\n",
        "    \"\"\"Decorator to measure the execution time of a function.\"\"\"\n",
        "    def wrapper(*args, **kwargs):\n",
        "        start_time = time.time()  # Record the start time\n",
        "        result = func(*args, **kwargs)  # Call the original function\n",
        "        end_time = time.time()  # Record the end time\n",
        "        execution_time = end_time - start_time  # Calculate execution time\n",
        "        print(f\"Execution time of {func.__name__}: {execution_time:.4f} seconds\")\n",
        "        return result  # Return the result of the original function\n",
        "    return wrapper\n",
        "\n",
        "# Example usage\n",
        "@timing_decorator\n",
        "def example_function(n):\n",
        "    \"\"\"Example function that sums numbers up to n.\"\"\"\n",
        "    total = sum(range(n))\n",
        "    return total\n",
        "\n",
        "# Call the decorated function\n",
        "result = example_function(1000000)\n",
        "print(f\"Result: {result}\")\n"
      ],
      "metadata": {
        "colab": {
          "base_uri": "https://localhost:8080/"
        },
        "id": "uUgvSrdlde1o",
        "outputId": "35d0fa4a-576c-496c-f599-8dee7627caa6"
      },
      "execution_count": 19,
      "outputs": [
        {
          "output_type": "stream",
          "name": "stdout",
          "text": [
            "Execution time of example_function: 0.0192 seconds\n",
            "Result: 499999500000\n"
          ]
        }
      ]
    },
    {
      "cell_type": "markdown",
      "source": [
        "**Explanation**\n",
        "\n",
        "**1 Decorator Definition:**\n",
        "\n",
        "The timing_decorator function takes a function func as its argument.\n",
        "Inside this function, a wrapper function is defined, which will replace the original function when called.\n",
        "\n",
        "**2 Timing the Function:**\n",
        "\n",
        "time.time() is used to record the start time before calling the original function.\n",
        "\n",
        "The original function is then executed, and its result is stored.\n",
        "\n",
        "After the function call, the end time is recorded, and the execution time is calculated.\n",
        "\n",
        "**3 Printing the Execution Time:**\n",
        "\n",
        "The decorator prints the execution time formatted to four decimal places.\n",
        "\n",
        "**4 Using the Decorator:**\n",
        "\n",
        "The @timing_decorator syntax is used to apply the decorator to the example_function.\n",
        "When example_function is called, it will now automatically print its execution time."
      ],
      "metadata": {
        "id": "7s2ewqLGdkgU"
      }
    },
    {
      "cell_type": "markdown",
      "source": [
        "# **13. Explain the concept of the Diamond Problem in multiple inheritance. How does Python resolve it?**\n",
        "\n",
        "The Diamond Problem is a common issue that arises in object-oriented programming when dealing with multiple inheritance. It occurs when a class inherits from two classes that have a common ancestor. This situation creates ambiguity because the derived class can potentially inherit properties and methods from the common ancestor through multiple paths.\n",
        "\n",
        "**Diamond Problem Illustration**\n",
        "\n",
        "Consider the following class hierarchy:\n",
        "\n",
        "      A\n",
        "     / \\\n",
        "    B   C\n",
        "     \\ /\n",
        "      D\n",
        "\n",
        "**Class A** is the base class.\n",
        "\n",
        "**Class B** and **Class C** both inherit from Class A.\n",
        "\n",
        "**Class D** inherits from both Class B and Class C.\n",
        "\n",
        "When you create an instance of Class D and call a method or access an attribute that is defined in Class A, the interpreter needs to determine which path to follow to reach Class A. This can lead to ambiguity, as it’s unclear whether to take the path through B or through C.\n",
        "\n",
        "**How Python Resolves the Diamond Problem**\n",
        "\n",
        "Python uses a method resolution order (MRO) to resolve this ambiguity. The MRO defines the order in which classes are searched when executing a method or accessing an attribute. Python employs an algorithm called C3 linearization (or C3 superclass linearization) to create a consistent MRO.\n",
        "\n",
        "**MRO in Python**\n",
        "\n",
        "**1 C3 Linearization:**\n",
        "\n",
        "The MRO is determined by the order of the classes in the inheritance hierarchy.\n",
        "Python ensures that:\n",
        "A class appears before its parents in the MRO.\n",
        "Parents are considered in the order they are listed in the class definition.\n",
        "A class can only be selected once in the MRO.\n",
        "\n",
        "**2 Using the mro() Method:**\n",
        "\n",
        "You can view the MRO of a class using the mro() method or the __mro__ attribute.\n",
        "\n",
        "**Example Implementation**\n",
        "\n",
        "Here's an example to illustrate the Diamond Problem and how Python resolves it:\n",
        "\n"
      ],
      "metadata": {
        "id": "SkNAIQ7UHeHT"
      }
    },
    {
      "cell_type": "code",
      "source": [
        "class A:\n",
        "    def greet(self):\n",
        "        print(\"Hello from Class A\")\n",
        "\n",
        "class B(A):\n",
        "    def greet(self):\n",
        "        print(\"Hello from Class B\")\n",
        "\n",
        "class C(A):\n",
        "    def greet(self):\n",
        "        print(\"Hello from Class C\")\n",
        "\n",
        "class D(B, C):\n",
        "    pass\n",
        "\n",
        "# Create an instance of D\n",
        "d = D()\n",
        "d.greet()  # This will call greet() from Class B\n",
        "\n",
        "# Check the MRO\n",
        "print(D.mro())  # Output: [<class '__main__.D'>, <class '__main__.B'>, <class '__main__.C'>, <class '__main__.A'>, <class 'object'>]\n"
      ],
      "metadata": {
        "colab": {
          "base_uri": "https://localhost:8080/"
        },
        "id": "G80UwTfle041",
        "outputId": "2edf224d-e64c-4a97-822e-c79c4ea85cf8"
      },
      "execution_count": 20,
      "outputs": [
        {
          "output_type": "stream",
          "name": "stdout",
          "text": [
            "Hello from Class B\n",
            "[<class '__main__.D'>, <class '__main__.B'>, <class '__main__.C'>, <class '__main__.A'>, <class 'object'>]\n"
          ]
        }
      ]
    },
    {
      "cell_type": "markdown",
      "source": [
        "**Explanation of the Example**\n",
        "\n",
        "In this example, the greet() method is defined in classes A, B, and C.\n",
        "\n",
        "Class D inherits from both B and C.\n",
        "\n",
        "When d.greet() is called, Python looks for the greet() method starting from D, then B, and finally C.\n",
        "\n",
        "The MRO [D, B, C, A, object] indicates that Python will call the method from Class B because it appears first in the order."
      ],
      "metadata": {
        "id": "NtHH0pTOe4qG"
      }
    },
    {
      "cell_type": "markdown",
      "source": [
        "# **14. Write a class method that keeps track of the number of instances created from a class.**\n",
        "\n",
        "To create a class method that keeps track of the number of instances created from a class in Python, you can use a class variable to maintain the count and a class method to retrieve it. Here's how you can implement this:\n",
        "\n",
        "**Example Implementation**"
      ],
      "metadata": {
        "id": "CsNhsfyPHgMv"
      }
    },
    {
      "cell_type": "code",
      "source": [
        "class InstanceCounter:\n",
        "    # Class variable to keep track of the number of instances\n",
        "    instance_count = 0\n",
        "\n",
        "    def __init__(self):\n",
        "        # Increment the instance count every time a new instance is created\n",
        "        InstanceCounter.instance_count += 1\n",
        "\n",
        "    @classmethod\n",
        "    def get_instance_count(cls):\n",
        "        \"\"\"Class method to return the number of instances created.\"\"\"\n",
        "        return cls.instance_count\n",
        "\n",
        "# Example usage\n",
        "obj1 = InstanceCounter()\n",
        "obj2 = InstanceCounter()\n",
        "obj3 = InstanceCounter()\n",
        "\n",
        "# Retrieve the instance count\n",
        "print(f\"Number of instances created: {InstanceCounter.get_instance_count()}\")  # Output: 3\n"
      ],
      "metadata": {
        "colab": {
          "base_uri": "https://localhost:8080/"
        },
        "id": "4rQRaw9EfJjc",
        "outputId": "7b184bd3-bbb4-4603-b767-29a4d4e87942"
      },
      "execution_count": 21,
      "outputs": [
        {
          "output_type": "stream",
          "name": "stdout",
          "text": [
            "Number of instances created: 3\n"
          ]
        }
      ]
    },
    {
      "cell_type": "markdown",
      "source": [
        "**Explanation**\n",
        "\n",
        "**1 Class Variable:**\n",
        "\n",
        "instance_count is a class variable that keeps track of how many instances of the class have been created.\n",
        "\n",
        "**2 Constructor (__init__ method):**\n",
        "\n",
        "Each time a new instance of InstanceCounter is created, the constructor increments the instance_count by 1.\n",
        "\n",
        "**3 Class Method (get_instance_count):**\n",
        "\n",
        "The get_instance_count class method returns the current value of instance_count.\n",
        "The @classmethod decorator is used to define a class method, allowing it to access class-level data.\n",
        "\n",
        "**4 Example Usage:**\n",
        "\n",
        "Three instances of InstanceCounter are created.\n",
        "Calling InstanceCounter.get_instance_count() returns the number of instances created."
      ],
      "metadata": {
        "id": "wpz3gSSifP0i"
      }
    },
    {
      "cell_type": "markdown",
      "source": [
        "# **15. Implement a static method in a class that checks if a given year is a leap year.**\n",
        "\n",
        "To implement a static method in a class that checks if a given year is a leap year, you can define the method using the @staticmethod decorator. A leap year is defined as a year that is divisible by 4 but not divisible by 100, unless it is also divisible by 400.\n",
        "\n",
        "**Example Implementation**\n",
        "\n",
        "Here's how you can implement this:"
      ],
      "metadata": {
        "id": "G7TsLkpjHib3"
      }
    },
    {
      "cell_type": "code",
      "execution_count": 22,
      "metadata": {
        "colab": {
          "base_uri": "https://localhost:8080/"
        },
        "id": "dKrII0RHGzn3",
        "outputId": "60a6850e-7330-4e0b-e84e-2ebc99696a36"
      },
      "outputs": [
        {
          "output_type": "stream",
          "name": "stdout",
          "text": [
            "2024 is a leap year.\n",
            "1900 is not a leap year.\n"
          ]
        }
      ],
      "source": [
        "class YearChecker:\n",
        "    @staticmethod\n",
        "    def is_leap_year(year):\n",
        "        \"\"\"Check if the given year is a leap year.\"\"\"\n",
        "        if (year % 4 == 0 and year % 100 != 0) or (year % 400 == 0):\n",
        "            return True\n",
        "        else:\n",
        "            return False\n",
        "\n",
        "# Example usage\n",
        "year = 2024\n",
        "if YearChecker.is_leap_year(year):\n",
        "    print(f\"{year} is a leap year.\")\n",
        "else:\n",
        "    print(f\"{year} is not a leap year.\")\n",
        "\n",
        "year = 1900\n",
        "if YearChecker.is_leap_year(year):\n",
        "    print(f\"{year} is a leap year.\")\n",
        "else:\n",
        "    print(f\"{year} is not a leap year.\")\n"
      ]
    },
    {
      "cell_type": "markdown",
      "source": [
        "**Explanation**\n",
        "\n",
        "**1 Static Method:**\n",
        "\n",
        "The is_leap_year method is defined as a static method using the @staticmethod decorator. This means it does not require access to any instance or class-level data.\n",
        "\n",
        "**2 Leap Year Logic:**\n",
        "\n",
        "**The method checks:**\n",
        "\n",
        "   .If the year is divisible by 4 and not divisible by 100, or\n",
        "\n",
        "   .If the year is divisible by 400.\n",
        "\n",
        "If either condition is true, the method returns True, indicating it's a leap year; otherwise, it returns False.\n",
        "\n",
        "**3 Example Usage:**\n",
        "\n",
        "The method is called with different years to check if they are leap years, and the results are printed."
      ],
      "metadata": {
        "id": "jK7f0fCKfw4K"
      }
    },
    {
      "cell_type": "code",
      "source": [],
      "metadata": {
        "id": "9NKvwxAFftuH"
      },
      "execution_count": null,
      "outputs": []
    }
  ]
}
