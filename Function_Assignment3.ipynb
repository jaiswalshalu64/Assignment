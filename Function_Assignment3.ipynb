{
  "nbformat": 4,
  "nbformat_minor": 0,
  "metadata": {
    "colab": {
      "provenance": []
    },
    "kernelspec": {
      "name": "python3",
      "display_name": "Python 3"
    },
    "language_info": {
      "name": "python"
    }
  },
  "cells": [
    {
      "cell_type": "code",
      "execution_count": null,
      "metadata": {
        "id": "N4XUwsL344_m"
      },
      "outputs": [],
      "source": []
    },
    {
      "cell_type": "markdown",
      "source": [
        "# **Theory Questions**"
      ],
      "metadata": {
        "id": "fiwyW0Pm5I0y"
      }
    },
    {
      "cell_type": "markdown",
      "source": [
        "## **Q1 What is the difference between a function and a method in Python?**"
      ],
      "metadata": {
        "id": "3OuW2VT_5ZX_"
      }
    },
    {
      "cell_type": "markdown",
      "source": [
        "\n",
        "In Python, both functions and methods are used to perform a specific task, but they differ in where and how they are used.\n",
        "\n",
        "**1. Function:**\n",
        "\n",
        "A function is a block of code that performs a specific task.\n",
        "\n",
        "It is defined using the def keyword and can be called independently.\n",
        "\n",
        "Functions can exist outside of a class and can take parameters and return values.\n",
        "\n",
        "**Example:**"
      ],
      "metadata": {
        "id": "NrREQhHg7MXb"
      }
    },
    {
      "cell_type": "code",
      "source": [
        "def my_function():\n",
        "    return \"This is a function\"\n",
        "\n",
        "print(my_function())  # This is a function\n"
      ],
      "metadata": {
        "colab": {
          "base_uri": "https://localhost:8080/"
        },
        "id": "wwLaFl3Q5nGj",
        "outputId": "a37eed07-6a00-4305-a0b2-deea2d3cbf5f"
      },
      "execution_count": null,
      "outputs": [
        {
          "output_type": "stream",
          "name": "stdout",
          "text": [
            "This is a function\n"
          ]
        }
      ]
    },
    {
      "cell_type": "markdown",
      "source": [
        "**2. Method:**\n",
        "\n",
        "A method is also a function, but it is associated with an object (usually defined within a class).\n",
        "\n",
        "Methods belong to a class and are called on instances of that class (i.e., objects).\n",
        "\n",
        "Methods can modify the state of an object and usually take self as their first parameter to access instance variables.\n",
        "\n",
        "**Example:**"
      ],
      "metadata": {
        "id": "-fd5O-Rx7bTQ"
      }
    },
    {
      "cell_type": "code",
      "source": [
        "class MyClass:\n",
        "    def my_method(self):\n",
        "        return \"This is a method\"\n",
        "\n",
        "obj = MyClass()\n",
        "print(obj.my_method())  # This is a method\n"
      ],
      "metadata": {
        "colab": {
          "base_uri": "https://localhost:8080/"
        },
        "id": "vWuL-JHw5nC_",
        "outputId": "43626030-f8ee-4feb-80bc-b03ef1abee69"
      },
      "execution_count": null,
      "outputs": [
        {
          "output_type": "stream",
          "name": "stdout",
          "text": [
            "This is a method\n"
          ]
        }
      ]
    },
    {
      "cell_type": "markdown",
      "source": [
        "**Key Differences:**\n",
        "\n",
        "**Location:** Functions can exist independently, while methods are always tied to an object or a class.\n",
        "\n",
        "**Calling:** Functions are called using their name directly, whereas methods are called on objects or class instances.\n",
        "\n",
        "**self Parameter:** Methods usually require the self parameter to refer to the instance they are called on, whereas functions don't."
      ],
      "metadata": {
        "id": "eaSwcB-k78Vx"
      }
    },
    {
      "cell_type": "markdown",
      "source": [
        "# **Q2. Explain the concept of function arguments and parameters in Python.**\n",
        "\n",
        "In Python, functions are defined to perform specific tasks, and they often take input values to operate on. These input values are passed through parameters and arguments.\n",
        "\n",
        "**1. Parameters vs Arguments**\n",
        "\n",
        "**Parameters:** These are the placeholders defined in the function signature when a function is declared. They represent the expected inputs to the function.\n",
        "\n",
        "**Arguments:** These are the actual values passed to the function when it is called.\n",
        "\n",
        "**Example:**"
      ],
      "metadata": {
        "id": "5vd2W-VADjrp"
      }
    },
    {
      "cell_type": "code",
      "source": [
        "# 'x' and 'y' are parameters\n",
        "def add(x, y):\n",
        "    return x + y\n",
        "\n",
        "# '3' and '5' are arguments\n",
        "result = add(3, 5)\n",
        "print(result)  # Output: 8\n"
      ],
      "metadata": {
        "colab": {
          "base_uri": "https://localhost:8080/"
        },
        "id": "tgv-P2SeMnNr",
        "outputId": "bcbc8789-af24-4735-c88d-c1ba8bd4d868"
      },
      "execution_count": 1,
      "outputs": [
        {
          "output_type": "stream",
          "name": "stdout",
          "text": [
            "8\n"
          ]
        }
      ]
    },
    {
      "cell_type": "markdown",
      "source": [
        "Here:\n",
        "\n",
        "x and y are parameters in the function definition add(x, y).\n",
        "\n",
        "3 and 5 are the arguments passed during the function call add(3, 5).\n",
        "\n",
        "**2. Types of Function Arguments and Parameters**\n",
        "\n",
        "Python supports various types of arguments that can be passed to a function:\n",
        "\n",
        "**A. Positional Arguments**\n",
        "\n",
        "The most common way to pass arguments. The position of the argument in the function call corresponds to the position of the parameter in the function definition.\n",
        "\n",
        "**Example:**"
      ],
      "metadata": {
        "id": "XJggXFf5Nb_Z"
      }
    },
    {
      "cell_type": "code",
      "source": [
        "def greet(name, message):\n",
        "    print(f\"Hello, {name}! {message}\")\n",
        "\n",
        "greet(\"Shalu\", \"Welcome to Python!\")\n",
        "# Output: Hello, Shalu! Welcome to Python!\n"
      ],
      "metadata": {
        "colab": {
          "base_uri": "https://localhost:8080/"
        },
        "id": "u4JKQRiZPWvo",
        "outputId": "0c9cbea9-c182-4dab-c684-2b23006ecc0a"
      },
      "execution_count": 2,
      "outputs": [
        {
          "output_type": "stream",
          "name": "stdout",
          "text": [
            "Hello, Shalu! Welcome to Python!\n"
          ]
        }
      ]
    },
    {
      "cell_type": "markdown",
      "source": [
        "**B. Keyword Arguments**\n",
        "\n",
        "These are arguments passed by specifying the parameter name along with its value, making it clear which parameter the value is assigned to, regardless of the position.\n",
        "\n",
        "**Example:**"
      ],
      "metadata": {
        "id": "G-a9vU_VPbab"
      }
    },
    {
      "cell_type": "code",
      "source": [
        "def greet(name, message):\n",
        "    print(f\"Hello, {name}! {message}\")\n",
        "\n",
        "greet(message=\"Good to see you!\", name=\"Shalu\")\n",
        "# Output: Hello, Shalu! Good to see you!\n"
      ],
      "metadata": {
        "colab": {
          "base_uri": "https://localhost:8080/"
        },
        "id": "7WojFo7MPjIB",
        "outputId": "20997247-6f18-4f74-d65e-560e9feb90b4"
      },
      "execution_count": 3,
      "outputs": [
        {
          "output_type": "stream",
          "name": "stdout",
          "text": [
            "Hello, Shalu! Good to see you!\n"
          ]
        }
      ]
    },
    {
      "cell_type": "markdown",
      "source": [
        "**C. Default Parameters**\n",
        "\n",
        "You can provide a default value for a parameter in the function definition. If no argument is passed for that parameter, Python uses the default value.\n",
        "\n",
        "**Example:**"
      ],
      "metadata": {
        "id": "tAGi6VXFZi0P"
      }
    },
    {
      "cell_type": "code",
      "source": [
        "def greet(name, message=\"Welcome!\"):\n",
        "    print(f\"Hello, {name}! {message}\")\n",
        "\n",
        "greet(\"Shalu\")\n",
        "# Output: Hello, Shalu! Welcome!\n",
        "\n",
        "greet(\"Shalu\", \"Good morning!\")\n",
        "# Output: Hello, Shalu! Good morning!\n"
      ],
      "metadata": {
        "colab": {
          "base_uri": "https://localhost:8080/"
        },
        "id": "UuhM-31GZoJo",
        "outputId": "499837dc-471e-4faf-fbcb-c27ba6092fb5"
      },
      "execution_count": 1,
      "outputs": [
        {
          "output_type": "stream",
          "name": "stdout",
          "text": [
            "Hello, Shalu! Welcome!\n",
            "Hello, Shalu! Good morning!\n"
          ]
        }
      ]
    },
    {
      "cell_type": "markdown",
      "source": [
        "**D. Variable-Length Arguments**\n",
        "\n",
        "Python allows you to define functions that accept a variable number of arguments using *args for positional arguments and **kwargs for keyword arguments.\n",
        "\n",
        "1.*args (Variable Positional Arguments):\n",
        "\n",
        "Allows the function to accept any number of positional arguments as a tuple.\n",
        "\n",
        "**Example:**"
      ],
      "metadata": {
        "id": "vVBgonN8ZwMr"
      }
    },
    {
      "cell_type": "code",
      "source": [
        "def add_numbers(*args):\n",
        "    total = sum(args)\n",
        "    print(f\"Sum: {total}\")\n",
        "\n",
        "add_numbers(1, 2, 3, 4)\n",
        "# Output: Sum: 10\n"
      ],
      "metadata": {
        "colab": {
          "base_uri": "https://localhost:8080/"
        },
        "id": "fRaSE1iSaMRA",
        "outputId": "ce958ee2-e79b-4e94-a317-7bf34cbdfa74"
      },
      "execution_count": 2,
      "outputs": [
        {
          "output_type": "stream",
          "name": "stdout",
          "text": [
            "Sum: 10\n"
          ]
        }
      ]
    },
    {
      "cell_type": "markdown",
      "source": [
        "2.**kwargs (Variable Keyword Arguments):\n",
        "\n",
        "Allows the function to accept any number of keyword arguments as a dictionary.\n",
        "\n",
        "**Example:**"
      ],
      "metadata": {
        "id": "W3jSJ4MbaPsf"
      }
    },
    {
      "cell_type": "code",
      "source": [
        "def display_info(**kwargs):\n",
        "    for key, value in kwargs.items():\n",
        "        print(f\"{key}: {value}\")\n",
        "\n",
        "display_info(name=\"Shalu\", age=25, city=\"Gopalganj\")\n",
        "# Output:\n",
        "# name: Shalu\n",
        "# age: 25\n",
        "# city: Gopalganj\n"
      ],
      "metadata": {
        "colab": {
          "base_uri": "https://localhost:8080/"
        },
        "id": "9bdro4YpalMC",
        "outputId": "da05e5ea-3990-4ccc-8648-197a2b2c7f2f"
      },
      "execution_count": 3,
      "outputs": [
        {
          "output_type": "stream",
          "name": "stdout",
          "text": [
            "name: Shalu\n",
            "age: 25\n",
            "city: Gopalganj\n"
          ]
        }
      ]
    },
    {
      "cell_type": "markdown",
      "source": [
        "3. Positional-Only and Keyword-Only Arguments (Python 3.8+)\n",
        "\n",
        "Positional-only arguments can only be provided by position, not by keyword, and are defined by placing a / after them in the function signature.\n",
        "\n",
        "Keyword-only arguments can only be provided by keyword, not by position, and are defined by placing a * before them in the function signature.\n",
        "\n",
        "**Example:**"
      ],
      "metadata": {
        "id": "6IpZDEPWRrbe"
      }
    },
    {
      "cell_type": "code",
      "source": [
        "def func(pos1, pos2, /, kwarg1, *, kwarg2):\n",
        "    print(f\"Positional arguments: {pos1}, {pos2}\")\n",
        "    print(f\"Keyword arguments: {kwarg1}, {kwarg2}\")\n",
        "\n",
        "# Calling the function\n",
        "func(1, 2, kwarg1=3, kwarg2=4)\n",
        "# Output:\n",
        "# Positional arguments: 1, 2\n",
        "# Keyword arguments: 3, 4\n"
      ],
      "metadata": {
        "colab": {
          "base_uri": "https://localhost:8080/"
        },
        "id": "rOtMRCLGR1An",
        "outputId": "6fa75313-28fd-43e8-e0bf-0c594569fc49"
      },
      "execution_count": 1,
      "outputs": [
        {
          "output_type": "stream",
          "name": "stdout",
          "text": [
            "Positional arguments: 1, 2\n",
            "Keyword arguments: 3, 4\n"
          ]
        }
      ]
    },
    {
      "cell_type": "markdown",
      "source": [
        "# **Q3. What are the different ways to define and call a function in Python?**\n",
        "\n",
        "Python provides various ways to define and call functions, allowing flexibility in how arguments are passed, the type of functions, and how they are called. Let's explore the different methods:\n",
        "\n",
        "**1. Defining a Function**\n",
        "\n",
        "In Python, a function is defined using the def keyword followed by the function name, parameters, and a block of code that executes when the function is called.\n",
        "\n",
        "**Basic Function Definition:**"
      ],
      "metadata": {
        "id": "c9SqnjcgDjl7"
      }
    },
    {
      "cell_type": "code",
      "source": [
        "def function_name(parameters):\n",
        "    # Function body\n",
        "    return result\n"
      ],
      "metadata": {
        "id": "bMJ_FIk4SRY5"
      },
      "execution_count": 2,
      "outputs": []
    },
    {
      "cell_type": "markdown",
      "source": [
        "**Example:**"
      ],
      "metadata": {
        "id": "uMK-zD3wSTGI"
      }
    },
    {
      "cell_type": "code",
      "source": [
        "def greet(name):\n",
        "    return f\"Hello, {name}!\"\n",
        "\n",
        "# Calling the function\n",
        "print(greet(\"Shalu\"))\n",
        "# Output: Hello, Shalu!\n"
      ],
      "metadata": {
        "colab": {
          "base_uri": "https://localhost:8080/"
        },
        "id": "FErBw1e-SVnC",
        "outputId": "89898a97-d17f-45bb-c308-3e916570f3f5"
      },
      "execution_count": 3,
      "outputs": [
        {
          "output_type": "stream",
          "name": "stdout",
          "text": [
            "Hello, Shalu!\n"
          ]
        }
      ]
    },
    {
      "cell_type": "markdown",
      "source": [
        "**2. Calling a Function**\n",
        "\n",
        "Once defined, a function is called by writing its name followed by parentheses containing any required arguments.\n",
        "\n",
        "**Example:**"
      ],
      "metadata": {
        "id": "UTPiqCoZScNL"
      }
    },
    {
      "cell_type": "code",
      "source": [
        "def add(x, y):\n",
        "    return x + y\n",
        "\n",
        "# Calling the function\n",
        "result = add(3, 5)\n",
        "print(result)\n",
        "# Output: 8\n"
      ],
      "metadata": {
        "colab": {
          "base_uri": "https://localhost:8080/"
        },
        "id": "KIPmTCajSgEt",
        "outputId": "5d9fe2de-e382-4ef7-da65-45bf067d910b"
      },
      "execution_count": 4,
      "outputs": [
        {
          "output_type": "stream",
          "name": "stdout",
          "text": [
            "8\n"
          ]
        }
      ]
    },
    {
      "cell_type": "markdown",
      "source": [
        "**3. Different Ways to Define Functions**\n",
        "\n",
        "**A. Positional Arguments Function**\n",
        "\n",
        "The simplest way to define and call a function is using positional arguments, where the arguments are passed in the same order as the parameters are defined."
      ],
      "metadata": {
        "id": "_09TcY7YSlSE"
      }
    },
    {
      "cell_type": "code",
      "source": [
        "def multiply(a, b):\n",
        "    return a * b\n",
        "\n",
        "# Calling the function\n",
        "print(multiply(4, 5))  # Output: 20\n"
      ],
      "metadata": {
        "id": "E0jqkRAcSrVV"
      },
      "execution_count": null,
      "outputs": []
    },
    {
      "cell_type": "markdown",
      "source": [
        "**B. Keyword Arguments Function**\n",
        "\n",
        "You can define functions where you call them by passing keyword arguments. This is useful when you want to specify which value goes to which parameter, regardless of their order."
      ],
      "metadata": {
        "id": "1lWErH13SuSU"
      }
    },
    {
      "cell_type": "code",
      "source": [
        "def divide(x, y):\n",
        "    return x / y\n",
        "\n",
        "# Calling the function with keyword arguments\n",
        "print(divide(y=10, x=2))  # Output: 0.2\n"
      ],
      "metadata": {
        "colab": {
          "base_uri": "https://localhost:8080/"
        },
        "id": "nKW8phtFSyiB",
        "outputId": "d24f0539-5c3a-498b-cd02-5bf16271eace"
      },
      "execution_count": 5,
      "outputs": [
        {
          "output_type": "stream",
          "name": "stdout",
          "text": [
            "0.2\n"
          ]
        }
      ]
    },
    {
      "cell_type": "markdown",
      "source": [
        "**C. Default Parameters**\n",
        "\n",
        "Functions can have default parameters, meaning if no argument is provided for that parameter, it takes the default value."
      ],
      "metadata": {
        "id": "3FUZEw5ZS4EP"
      }
    },
    {
      "cell_type": "code",
      "source": [
        "def greet(name, message=\"Hello\"):\n",
        "    return f\"{message}, {name}!\"\n",
        "\n",
        "# Calling with and without specifying the default parameter\n",
        "print(greet(\"Shalu\"))           # Output: Hello, Shalu!\n",
        "print(greet(\"Shalu\", \"Hi\"))     # Output: Hi, Shalu!\n"
      ],
      "metadata": {
        "colab": {
          "base_uri": "https://localhost:8080/"
        },
        "id": "VW6fpb7aS8QC",
        "outputId": "f1cfcfbd-5b92-417e-d528-faa7f71eebfa"
      },
      "execution_count": 6,
      "outputs": [
        {
          "output_type": "stream",
          "name": "stdout",
          "text": [
            "Hello, Shalu!\n",
            "Hi, Shalu!\n"
          ]
        }
      ]
    },
    {
      "cell_type": "markdown",
      "source": [
        "D. Variable-Length Arguments (*args and **kwargs)\n",
        "\n",
        "Python allows you to define functions that accept a variable number of arguments using *args (for positional arguments) and **kwargs (for keyword arguments).\n",
        "\n",
        "1 *args (Variable Positional Arguments):"
      ],
      "metadata": {
        "id": "R6HbFNviS_7y"
      }
    },
    {
      "cell_type": "code",
      "source": [
        "def sum_all(*args):\n",
        "    return sum(args)\n",
        "\n",
        "# Calling the function with variable arguments\n",
        "print(sum_all(1, 2, 3, 4))  # Output: 10\n"
      ],
      "metadata": {
        "colab": {
          "base_uri": "https://localhost:8080/"
        },
        "id": "qi3_FjkQTGV1",
        "outputId": "e2e266fe-b7bd-4d2e-fa2e-3b9b5e88877e"
      },
      "execution_count": 7,
      "outputs": [
        {
          "output_type": "stream",
          "name": "stdout",
          "text": [
            "10\n"
          ]
        }
      ]
    },
    {
      "cell_type": "markdown",
      "source": [
        "2 **kwargs (Variable Keyword Arguments):"
      ],
      "metadata": {
        "id": "dmswJaPtTLAT"
      }
    },
    {
      "cell_type": "code",
      "source": [
        "def print_details(**kwargs):\n",
        "    for key, value in kwargs.items():\n",
        "        print(f\"{key}: {value}\")\n",
        "\n",
        "# Calling the function with keyword arguments\n",
        "print_details(name=\"Shalu\", age=25, city=\"Gopalganj\")\n",
        "# Output:\n",
        "# name: Shalu\n",
        "# age: 25\n",
        "# city: Gopalganj\n"
      ],
      "metadata": {
        "colab": {
          "base_uri": "https://localhost:8080/"
        },
        "id": "bkXsy8lHTQaf",
        "outputId": "eedee161-46a9-466a-94dd-3ab6c4d3658e"
      },
      "execution_count": 8,
      "outputs": [
        {
          "output_type": "stream",
          "name": "stdout",
          "text": [
            "name: Shalu\n",
            "age: 25\n",
            "city: Gopalganj\n"
          ]
        }
      ]
    },
    {
      "cell_type": "markdown",
      "source": [
        "**E. Lambda Functions (Anonymous Functions)**\n",
        "\n",
        "Python supports defining anonymous functions (functions without a name) using the lambda keyword. These are small, single-expression functions that are often used as arguments to higher-order functions like map(), filter(), etc."
      ],
      "metadata": {
        "id": "rMLRewXtTXRg"
      }
    },
    {
      "cell_type": "code",
      "source": [
        "# Lambda function to square a number\n",
        "square = lambda x: x * x\n",
        "\n",
        "# Calling the lambda function\n",
        "print(square(5))  # Output: 25\n"
      ],
      "metadata": {
        "colab": {
          "base_uri": "https://localhost:8080/"
        },
        "id": "WgKPM3ZZTelH",
        "outputId": "82ef5612-d587-4acc-ab7f-5a9fff602655"
      },
      "execution_count": 9,
      "outputs": [
        {
          "output_type": "stream",
          "name": "stdout",
          "text": [
            "25\n"
          ]
        }
      ]
    },
    {
      "cell_type": "markdown",
      "source": [
        "**4. Different Ways to Call a Function**\n",
        "\n",
        "**A. Calling with Positional Arguments**\n",
        "You can call a function using positional arguments, where the order of arguments passed must match the order of parameters."
      ],
      "metadata": {
        "id": "vheJSngETivh"
      }
    },
    {
      "cell_type": "code",
      "source": [
        "def add(x, y):\n",
        "    return x + y\n",
        "\n",
        "print(add(3, 5))  # Output: 8\n"
      ],
      "metadata": {
        "colab": {
          "base_uri": "https://localhost:8080/"
        },
        "id": "eGWxgjR-To3L",
        "outputId": "2b23d73b-dc9a-480c-a9ba-b3f0d524edc2"
      },
      "execution_count": 10,
      "outputs": [
        {
          "output_type": "stream",
          "name": "stdout",
          "text": [
            "8\n"
          ]
        }
      ]
    },
    {
      "cell_type": "markdown",
      "source": [
        "**B. Calling with Keyword Arguments**\n",
        "\n",
        "When calling a function, you can use keyword arguments to explicitly specify which parameter receives which value, regardless of their position."
      ],
      "metadata": {
        "id": "lvExaHyVTsh0"
      }
    },
    {
      "cell_type": "code",
      "source": [
        "def introduce(name, age):\n",
        "    print(f\"Name: {name}, Age: {age}\")\n",
        "\n",
        "# Calling with keyword arguments\n",
        "introduce(age=25, name=\"Shalu\")\n",
        "# Output: Name: Shalu, Age: 25\n"
      ],
      "metadata": {
        "colab": {
          "base_uri": "https://localhost:8080/"
        },
        "id": "m3GW8fERTzRW",
        "outputId": "e67e7b83-1ae0-4f79-d67b-3c0c44556603"
      },
      "execution_count": 11,
      "outputs": [
        {
          "output_type": "stream",
          "name": "stdout",
          "text": [
            "Name: Shalu, Age: 25\n"
          ]
        }
      ]
    },
    {
      "cell_type": "markdown",
      "source": [
        "**C. Mixing Positional and Keyword Arguments**\n",
        "\n",
        "You can mix positional and keyword arguments when calling a function. However, all positional arguments must come first before keyword arguments."
      ],
      "metadata": {
        "id": "GnxsSsAiT4BX"
      }
    },
    {
      "cell_type": "code",
      "source": [
        "def introduce(name, age, city):\n",
        "    print(f\"Name: {name}, Age: {age}, City: {city}\")\n",
        "\n",
        "# Calling with mixed arguments\n",
        "introduce(\"Shalu\", age=25, city=\"Gopalganj\")\n",
        "# Output: Name: Shalu, Age: 25, City: Gopalganj\n"
      ],
      "metadata": {
        "colab": {
          "base_uri": "https://localhost:8080/"
        },
        "id": "w9NvCKByT9DR",
        "outputId": "da6f5fe6-a959-446f-e42b-529b1bf46de6"
      },
      "execution_count": 12,
      "outputs": [
        {
          "output_type": "stream",
          "name": "stdout",
          "text": [
            "Name: Shalu, Age: 25, City: Gopalganj\n"
          ]
        }
      ]
    },
    {
      "cell_type": "markdown",
      "source": [
        "D. Calling with Unpacking *args and **kwargs\n",
        "\n",
        "You can use unpacking to pass arguments from a list or dictionary to a function using * for positional arguments and ** for keyword arguments."
      ],
      "metadata": {
        "id": "srH36fvNUB9l"
      }
    },
    {
      "cell_type": "code",
      "source": [
        "# Unpacking positional arguments\n",
        "def add(a, b, c):\n",
        "    return a + b + c\n",
        "\n",
        "args = (1, 2, 3)\n",
        "print(add(*args))  # Output: 6\n",
        "\n",
        "# Unpacking keyword arguments\n",
        "def introduce(name, age):\n",
        "    print(f\"Name: {name}, Age: {age}\")\n",
        "\n",
        "kwargs = {\"name\": \"Shalu\", \"age\": 25}\n",
        "introduce(**kwargs)\n",
        "# Output: Name: Shalu, Age: 25\n"
      ],
      "metadata": {
        "colab": {
          "base_uri": "https://localhost:8080/"
        },
        "id": "irNc4Ib1ULaX",
        "outputId": "c172fef9-2a17-47fd-a2ec-9d0ad100f68d"
      },
      "execution_count": 13,
      "outputs": [
        {
          "output_type": "stream",
          "name": "stdout",
          "text": [
            "6\n",
            "Name: Shalu, Age: 25\n"
          ]
        }
      ]
    },
    {
      "cell_type": "markdown",
      "source": [
        "**5. Higher-Order Functions**\n",
        "\n",
        "Functions can be passed as arguments to other functions. A higher-order function takes another function as an argument or returns a function.\n",
        "\n",
        "**Example:**"
      ],
      "metadata": {
        "id": "4WXupRHGURBU"
      }
    },
    {
      "cell_type": "code",
      "source": [
        "def apply_function(func, x):\n",
        "    return func(x)\n",
        "\n",
        "# Calling a higher-order function\n",
        "print(apply_function(lambda x: x * 2, 5))  # Output: 10\n"
      ],
      "metadata": {
        "colab": {
          "base_uri": "https://localhost:8080/"
        },
        "id": "yOMRNyS3UV-6",
        "outputId": "cfb6088b-f388-44b6-d3b6-ace06c9a3c2c"
      },
      "execution_count": 14,
      "outputs": [
        {
          "output_type": "stream",
          "name": "stdout",
          "text": [
            "10\n"
          ]
        }
      ]
    },
    {
      "cell_type": "markdown",
      "source": [
        "# **Q4. What is the purpose of the `return` statement in a Python function?**\n",
        "\n",
        "The return statement is an essential part of functions in Python. It is used to exit a function and send back a value to the place where the function was called. Here's an in-depth explanation of its purpose and how it works:\n",
        "\n",
        "**1. Exiting the Function**\n",
        "\n",
        "The return statement causes the function to terminate and immediately stop executing any further code inside it. When Python encounters the return statement, it exits the function and returns control to the point where the function was called.\n",
        "\n",
        "**Example:**"
      ],
      "metadata": {
        "id": "4j61kPpwDji9"
      }
    },
    {
      "cell_type": "code",
      "source": [
        "def greet():\n",
        "    print(\"Hello\")\n",
        "    return  # The function stops here\n",
        "    print(\"This will not be executed\")\n",
        "\n",
        "greet()\n",
        "# Output: Hello\n"
      ],
      "metadata": {
        "colab": {
          "base_uri": "https://localhost:8080/"
        },
        "id": "IIDVtO_zUzJ2",
        "outputId": "851c6103-e83c-425e-f427-bd5f468e9f8a"
      },
      "execution_count": 15,
      "outputs": [
        {
          "output_type": "stream",
          "name": "stdout",
          "text": [
            "Hello\n"
          ]
        }
      ]
    },
    {
      "cell_type": "markdown",
      "source": [
        "**2. Returning a Value**\n",
        "\n",
        "One of the primary purposes of return is to send a value from the function back to the caller. This value can then be assigned to a variable or used directly in an expression.\n",
        "\n",
        "**Example:**"
      ],
      "metadata": {
        "id": "6MawWo-_U2jN"
      }
    },
    {
      "cell_type": "code",
      "source": [
        "def add(a, b):\n",
        "    return a + b\n",
        "\n",
        "# Calling the function and storing the result\n",
        "result = add(3, 5)\n",
        "print(result)  # Output: 8\n"
      ],
      "metadata": {
        "colab": {
          "base_uri": "https://localhost:8080/"
        },
        "id": "Tsm36OxqU6LK",
        "outputId": "67ff6275-aa70-4703-9d48-2d0f6869dc83"
      },
      "execution_count": 16,
      "outputs": [
        {
          "output_type": "stream",
          "name": "stdout",
          "text": [
            "8\n"
          ]
        }
      ]
    },
    {
      "cell_type": "markdown",
      "source": [
        "**3. Returning Multiple Values**\n",
        "\n",
        "In Python, you can return multiple values from a function by separating them with commas. These values are returned as a tuple.\n",
        "\n",
        "**Example:**"
      ],
      "metadata": {
        "id": "jy1jpd66U-nB"
      }
    },
    {
      "cell_type": "code",
      "source": [
        "def get_person_info():\n",
        "    name = \"Shalu\"\n",
        "    age = 25\n",
        "    return name, age\n",
        "\n",
        "# Calling the function and unpacking the result\n",
        "name, age = get_person_info()\n",
        "print(f\"Name: {name}, Age: {age}\")\n",
        "# Output: Name: Shalu, Age: 25\n"
      ],
      "metadata": {
        "colab": {
          "base_uri": "https://localhost:8080/"
        },
        "id": "FDd23H3PVCMb",
        "outputId": "8a59e264-ebef-4255-b4bd-4a017dd135b3"
      },
      "execution_count": 17,
      "outputs": [
        {
          "output_type": "stream",
          "name": "stdout",
          "text": [
            "Name: Shalu, Age: 25\n"
          ]
        }
      ]
    },
    {
      "cell_type": "markdown",
      "source": [
        "\n",
        "**4. No return or Returning None**\n",
        "\n",
        "If a function does not have a return statement, or if the return statement does not specify a value, Python automatically returns None.\n",
        "\n",
        "**Example 1: No return**"
      ],
      "metadata": {
        "id": "hur8R8o6VIeY"
      }
    },
    {
      "cell_type": "code",
      "source": [
        "def say_hello():\n",
        "    print(\"Hello\")\n",
        "\n",
        "result = say_hello()\n",
        "print(result)  # Output: None\n"
      ],
      "metadata": {
        "colab": {
          "base_uri": "https://localhost:8080/"
        },
        "id": "aRe4DbiiVMoO",
        "outputId": "5c1209b2-4f8d-42b1-9eed-5cdadea729f2"
      },
      "execution_count": 18,
      "outputs": [
        {
          "output_type": "stream",
          "name": "stdout",
          "text": [
            "Hello\n",
            "None\n"
          ]
        }
      ]
    },
    {
      "cell_type": "markdown",
      "source": [
        "**Example 2: Returning None**"
      ],
      "metadata": {
        "id": "TGgzwZi4VSVd"
      }
    },
    {
      "cell_type": "code",
      "source": [
        "def say_goodbye():\n",
        "    return\n",
        "\n",
        "result = say_goodbye()\n",
        "print(result)  # Output: None\n"
      ],
      "metadata": {
        "colab": {
          "base_uri": "https://localhost:8080/"
        },
        "id": "CKPjlz3UVVGb",
        "outputId": "b7e48cf2-4e2e-48d5-c351-38a3ac5ef702"
      },
      "execution_count": 19,
      "outputs": [
        {
          "output_type": "stream",
          "name": "stdout",
          "text": [
            "None\n"
          ]
        }
      ]
    },
    {
      "cell_type": "markdown",
      "source": [
        "**5. Returning Conditional Values**\n",
        "\n",
        "The return statement can be used conditionally to return different values based on logic inside the function.\n",
        "\n",
        "**Example:**"
      ],
      "metadata": {
        "id": "cRD2VoCYVYY3"
      }
    },
    {
      "cell_type": "code",
      "source": [
        "def check_number(num):\n",
        "    if num > 0:\n",
        "        return \"Positive\"\n",
        "    elif num < 0:\n",
        "        return \"Negative\"\n",
        "    else:\n",
        "        return \"Zero\"\n",
        "\n",
        "print(check_number(10))  # Output: Positive\n",
        "print(check_number(-5))  # Output: Negative\n",
        "print(check_number(0))   # Output: Zero\n"
      ],
      "metadata": {
        "colab": {
          "base_uri": "https://localhost:8080/"
        },
        "id": "ueYKSmBNVcYB",
        "outputId": "05c6e5f0-e0b3-4fee-cbcd-2a1b33a9a3af"
      },
      "execution_count": 20,
      "outputs": [
        {
          "output_type": "stream",
          "name": "stdout",
          "text": [
            "Positive\n",
            "Negative\n",
            "Zero\n"
          ]
        }
      ]
    },
    {
      "cell_type": "markdown",
      "source": [
        "**6. Using return in Recursive Functions**\n",
        "\n",
        "The return statement is crucial in recursive functions, which are functions that call themselves. The returned value is passed back through the recursive calls until the base case is reached.\n",
        "\n",
        "**Example (Factorial Calculation):**"
      ],
      "metadata": {
        "id": "ibeoS8ncVhem"
      }
    },
    {
      "cell_type": "code",
      "source": [
        "def factorial(n):\n",
        "    if n == 1:\n",
        "        return 1\n",
        "    else:\n",
        "        return n * factorial(n - 1)\n",
        "\n",
        "print(factorial(5))  # Output: 120\n"
      ],
      "metadata": {
        "colab": {
          "base_uri": "https://localhost:8080/"
        },
        "id": "BZWoccdCVoLF",
        "outputId": "c18c0f98-1097-4b53-af33-be6c6e2844b9"
      },
      "execution_count": 21,
      "outputs": [
        {
          "output_type": "stream",
          "name": "stdout",
          "text": [
            "120\n"
          ]
        }
      ]
    },
    {
      "cell_type": "markdown",
      "source": [
        "# **Q5. What are iterators in Python and how do they differ from iterables?**"
      ],
      "metadata": {
        "id": "LFG41S80DjgG"
      }
    },
    {
      "cell_type": "markdown",
      "source": [
        "Iterators and iterables are fundamental concepts in Python related to looping through data. Although they are closely related, they are not the same. Here’s an explanation of both concepts and the differences between them:\n",
        "\n",
        "**1. What is an Iterable?**\n",
        "\n",
        "An iterable is any Python object that can return its elements one at a time, allowing it to be looped over (e.g., using a for loop). In simpler terms, if an object can provide an iterator (i.e., it has an __iter__() method), it is considered iterable.\n",
        "\n",
        "Common examples of iterables include:\n",
        "\n",
        "Lists\n",
        "\n",
        "Tuples\n",
        "\n",
        "Strings\n",
        "\n",
        "Dictionaries\n",
        "\n",
        "Sets"
      ],
      "metadata": {
        "id": "uAdTi-YOV1Yx"
      }
    },
    {
      "cell_type": "code",
      "source": [
        "my_list = [1, 2, 3]\n",
        "for item in my_list:\n",
        "    print(item)\n"
      ],
      "metadata": {
        "colab": {
          "base_uri": "https://localhost:8080/"
        },
        "id": "TjllDcfsWOdk",
        "outputId": "dd2c81f0-adb3-4d63-a1db-14272e319346"
      },
      "execution_count": 22,
      "outputs": [
        {
          "output_type": "stream",
          "name": "stdout",
          "text": [
            "1\n",
            "2\n",
            "3\n"
          ]
        }
      ]
    },
    {
      "cell_type": "markdown",
      "source": [
        "**2. What is an Iterator?**\n",
        "\n",
        "An iterator is an object that represents a stream of data and provides a mechanism to traverse through all the elements, one at a time. An iterator object implements two methods:\n",
        "\n",
        "__iter__() which returns the iterator object itself.\n",
        "\n",
        "__next__() which returns the next element in the sequence. When there are no more elements, it raises a StopIteration exception.\n",
        "\n",
        "An iterator in Python is always an iterable, but not all iterables are iterators. Iterators lazily evaluate data, which means they don’t load everything into memory at once.\n",
        "\n",
        "**Example of an Iterator:**"
      ],
      "metadata": {
        "id": "0WOyNiTmWTqp"
      }
    },
    {
      "cell_type": "code",
      "source": [
        "my_list = [1, 2, 3]\n",
        "iterator = iter(my_list)\n",
        "\n",
        "print(next(iterator))  # Output: 1\n",
        "print(next(iterator))  # Output: 2\n",
        "print(next(iterator))  # Output: 3\n"
      ],
      "metadata": {
        "colab": {
          "base_uri": "https://localhost:8080/"
        },
        "id": "hHmMpUIaWgME",
        "outputId": "4561e3b5-25af-4110-d635-56e75d6cf47f"
      },
      "execution_count": 23,
      "outputs": [
        {
          "output_type": "stream",
          "name": "stdout",
          "text": [
            "1\n",
            "2\n",
            "3\n"
          ]
        }
      ]
    },
    {
      "cell_type": "markdown",
      "source": [
        "**3. How Iterators and Iterables Differ**\n",
        "\n",
        "**Definition:**\n",
        "\n",
        "An iterable is any object capable of returning its elements one at a time. It has an __iter__() method that returns an iterator.\n",
        "\n",
        "An iterator is an object that keeps track of the current position in the iterable and knows how to fetch the next element using the __next__() method.\n",
        "\n",
        "**Usage:**\n",
        "\n",
        "Iterables can be looped over (e.g., with a for loop), but you cannot directly retrieve the next element unless you create an iterator from them.\n",
        "\n",
        "Iterators provide a mechanism to retrieve elements one by one using next().\n",
        "\n",
        "**State:**\n",
        "\n",
        "Iterables do not maintain any state. Each time you call __iter__(), it returns a fresh iterator.\n",
        "\n",
        "Iterators maintain state as they traverse the data. Once you reach the end of an iterator, it cannot be reused without creating a new one.\n",
        "\n",
        "**Memory Efficiency:**\n",
        "\n",
        "Iterables like lists and tuples store all their elements in memory.\n",
        "\n",
        "Iterators are more memory-efficient, as they generate items on demand and don't store them in memory.\n",
        "\n",
        "**4. Examples of Iterators and Iterables**\n",
        "\n",
        "**Iterable Example:**"
      ],
      "metadata": {
        "id": "JC4eeUj8WnHd"
      }
    },
    {
      "cell_type": "code",
      "source": [
        "# List is an iterable\n",
        "my_list = [10, 20, 30]\n",
        "\n",
        "# The for loop creates an iterator behind the scenes\n",
        "for item in my_list:\n",
        "    print(item)\n"
      ],
      "metadata": {
        "colab": {
          "base_uri": "https://localhost:8080/"
        },
        "id": "cG5qImNEXIvH",
        "outputId": "435fc417-84d7-478c-e15e-27d87214b721"
      },
      "execution_count": 24,
      "outputs": [
        {
          "output_type": "stream",
          "name": "stdout",
          "text": [
            "10\n",
            "20\n",
            "30\n"
          ]
        }
      ]
    },
    {
      "cell_type": "markdown",
      "source": [
        "**Iterator Example:**"
      ],
      "metadata": {
        "id": "hgHgO5LaXNQn"
      }
    },
    {
      "cell_type": "code",
      "source": [
        "# Convert the iterable into an iterator\n",
        "iterator = iter(my_list)\n",
        "\n",
        "# Manually fetch elements using the iterator\n",
        "print(next(iterator))  # Output: 10\n",
        "print(next(iterator))  # Output: 20\n",
        "print(next(iterator))  # Output: 30\n",
        "\n",
        "# When there are no more elements, StopIteration is raised\n",
        "# print(next(iterator))  # Raises StopIteration\n"
      ],
      "metadata": {
        "colab": {
          "base_uri": "https://localhost:8080/"
        },
        "id": "Pmcy7G-aXPUr",
        "outputId": "4d27dd1f-4fa7-4fd5-accf-bcb7ed52ed16"
      },
      "execution_count": 25,
      "outputs": [
        {
          "output_type": "stream",
          "name": "stdout",
          "text": [
            "10\n",
            "20\n",
            "30\n"
          ]
        }
      ]
    },
    {
      "cell_type": "markdown",
      "source": [
        "**5. Creating a Custom Iterator**\n",
        "\n",
        "You can create your own iterator class by defining __iter__() and __next__() methods.\n",
        "\n",
        "**Example: Custom Iterator for Fibonacci Sequence**"
      ],
      "metadata": {
        "id": "mG07ert8XVsW"
      }
    },
    {
      "cell_type": "code",
      "source": [
        "class FibonacciIterator:\n",
        "    def __init__(self, max):\n",
        "        self.max = max\n",
        "        self.a = 0\n",
        "        self.b = 1\n",
        "\n",
        "    def __iter__(self):\n",
        "        return self\n",
        "\n",
        "    def __next__(self):\n",
        "        if self.a > self.max:\n",
        "            raise StopIteration\n",
        "        next_value = self.a\n",
        "        self.a, self.b = self.b, self.a + self.b\n",
        "        return next_value\n",
        "\n",
        "# Using the custom iterator\n",
        "fib = FibonacciIterator(10)\n",
        "for num in fib:\n",
        "    print(num)\n"
      ],
      "metadata": {
        "colab": {
          "base_uri": "https://localhost:8080/"
        },
        "id": "kibvSFnrXaqW",
        "outputId": "a9873c21-1427-46b8-f24e-5808e0f9fefb"
      },
      "execution_count": 26,
      "outputs": [
        {
          "output_type": "stream",
          "name": "stdout",
          "text": [
            "0\n",
            "1\n",
            "1\n",
            "2\n",
            "3\n",
            "5\n",
            "8\n"
          ]
        }
      ]
    },
    {
      "cell_type": "markdown",
      "source": [
        "# **Q6. Explain the concept of generators in Python and how they are defined.**\n",
        "\n",
        "Generators in Python are a special type of iterable, like lists or tuples, but they allow you to iterate over data lazily (i.e., generate data on-the-fly without storing everything in memory at once). They are ideal for situations where you want to handle large datasets or infinite sequences without memory constraints.\n",
        "\n",
        "**1. What is a Generator?**\n",
        "\n",
        "A generator is a function that yields one value at a time, allowing you to iterate over the values without creating a list or other collection in memory. Instead of returning all values at once, generators \"yield\" one result at a time, and they pause their state between each result.\n",
        "\n",
        "**2. How Are Generators Defined?**\n",
        "\n",
        "Generators are defined using the same syntax as regular functions but instead of using the return statement, they use the yield statement. When a generator function is called, it returns a generator object without executing the function. The function only runs when you iterate over the generator or explicitly call next().\n",
        "\n",
        "**Example of a Generator:**"
      ],
      "metadata": {
        "id": "ZI24F7zwDjdk"
      }
    },
    {
      "cell_type": "code",
      "source": [
        "def count_up_to(max):\n",
        "    count = 1\n",
        "    while count <= max:\n",
        "        yield count\n",
        "        count += 1\n",
        "\n",
        "# Creating a generator object\n",
        "counter = count_up_to(5)\n",
        "\n",
        "# Iterating over the generator using a for loop\n",
        "for num in counter:\n",
        "    print(num)\n"
      ],
      "metadata": {
        "colab": {
          "base_uri": "https://localhost:8080/"
        },
        "id": "JEO0rG9IZvFE",
        "outputId": "4d19d167-585a-4c42-c4d4-58add7d1262b"
      },
      "execution_count": 27,
      "outputs": [
        {
          "output_type": "stream",
          "name": "stdout",
          "text": [
            "1\n",
            "2\n",
            "3\n",
            "4\n",
            "5\n"
          ]
        }
      ]
    },
    {
      "cell_type": "markdown",
      "source": [
        "**3. How Generators Work**\n",
        "\n",
        "**Yielding Values:** When the yield statement is encountered, the generator pauses its execution and returns the current value to the caller. The state of the function (including local variables) is saved so that it can be resumed when the next value is requested.\n",
        "\n",
        "**Resuming Execution:** The generator can be resumed using next(). Each time next() is called, the function continues executing from where it last paused, until it encounters another yield or the function finishes.\n",
        "\n",
        "**StopIteration:** Once the generator has no more values to yield, it raises a StopIteration exception to signal the end of the iteration.\n",
        "\n",
        "**Example of Using next():**"
      ],
      "metadata": {
        "id": "NQwQTrzDbNo_"
      }
    },
    {
      "cell_type": "code",
      "source": [
        "def simple_generator():\n",
        "    yield 1\n",
        "    yield 2\n",
        "    yield 3\n",
        "\n",
        "gen = simple_generator()\n",
        "\n",
        "print(next(gen))  # Output: 1\n",
        "print(next(gen))  # Output: 2\n",
        "print(next(gen))  # Output: 3\n",
        "# print(next(gen))  # Raises StopIteration\n"
      ],
      "metadata": {
        "colab": {
          "base_uri": "https://localhost:8080/"
        },
        "id": "kZREVTI0bZVH",
        "outputId": "676e2399-43a9-40cd-e2b1-e8a1de854133"
      },
      "execution_count": 28,
      "outputs": [
        {
          "output_type": "stream",
          "name": "stdout",
          "text": [
            "1\n",
            "2\n",
            "3\n"
          ]
        }
      ]
    },
    {
      "cell_type": "markdown",
      "source": [
        "\n",
        "**4. Key Features of Generators**\n",
        "\n",
        "Memory Efficiency: Generators don’t store the entire sequence in memory, making them efficient for large data processing. They generate values on-the-fly, one at a time, which is useful for handling large datasets.\n",
        "\n",
        "**Example:**"
      ],
      "metadata": {
        "id": "N-t5bELDbdoB"
      }
    },
    {
      "cell_type": "code",
      "source": [
        "def large_number_generator():\n",
        "    num = 0\n",
        "    while True:\n",
        "        yield num\n",
        "        num += 1\n",
        "\n",
        "# Create an infinite generator\n",
        "gen = large_number_generator()\n",
        "\n",
        "for _ in range(5):\n",
        "    print(next(gen))\n"
      ],
      "metadata": {
        "colab": {
          "base_uri": "https://localhost:8080/"
        },
        "id": "F6fd8-Fcbkpd",
        "outputId": "4a45117a-4ebf-4e3b-9fc3-55015b036bca"
      },
      "execution_count": 29,
      "outputs": [
        {
          "output_type": "stream",
          "name": "stdout",
          "text": [
            "0\n",
            "1\n",
            "2\n",
            "3\n",
            "4\n"
          ]
        }
      ]
    },
    {
      "cell_type": "markdown",
      "source": [
        "**State Retention:** Unlike normal functions, generators retain their state between calls. This makes them ideal for tasks like stream processing, where the previous state needs to be maintained.\n",
        "\n",
        "**5. Generator Expression**\n",
        "\n",
        "In addition to generator functions, Python also provides generator expressions, which are similar to list comprehensions but use parentheses instead of square brackets. Generator expressions create generators and yield items lazily.\n",
        "\n",
        "**Example of a Generator Expression:**"
      ],
      "metadata": {
        "id": "-HHcHCwmbqlb"
      }
    },
    {
      "cell_type": "code",
      "source": [
        "gen_exp = (x**2 for x in range(5))\n",
        "\n",
        "for val in gen_exp:\n",
        "    print(val)\n"
      ],
      "metadata": {
        "colab": {
          "base_uri": "https://localhost:8080/"
        },
        "id": "gPW6uPC6bxeK",
        "outputId": "7b9dbdf1-3aa1-444f-aee3-5b04f06c7205"
      },
      "execution_count": 30,
      "outputs": [
        {
          "output_type": "stream",
          "name": "stdout",
          "text": [
            "0\n",
            "1\n",
            "4\n",
            "9\n",
            "16\n"
          ]
        }
      ]
    },
    {
      "cell_type": "markdown",
      "source": [
        "**6. Differences Between Generators and Regular Functions**\n",
        "\n",
        "| Feature         | Regular Functions              | Generator Functions                     |\n",
        "|-----------------|-------------------------------|-----------------------------------------|\n",
        "| Return Type     | Return a value (or None)       | Return a generator object               |\n",
        "| State           | Do not retain state between calls | Retain state between yield calls       |\n",
        "| Memory Usage    | Can use a lot of memory (e.g., lists) | Use less memory, generate values on demand |\n",
        "| Execution       | Executes fully when called     | Executes lazily, values produced one by one |\n",
        "| Control Flow    | Uses return to send back value and terminate | Uses yield to pause execution and resume later |\n",
        "\n",
        "\n",
        "**7. Use Cases for Generators**\n",
        "\n",
        "**Large Data Processing:** Generators are ideal when dealing with large datasets because they don’t require loading all data into memory. For example, reading large files or streams of data.\n",
        "\n",
        "**Streaming Data:** Generators are perfect for dealing with infinite data streams or continuous event streams, such as real-time logs or sensor data.\n",
        "\n",
        "**Pipelines:** Generators can be used to build data pipelines where each step of processing yields results to the next step.\n",
        "\n",
        "**8. Example Use Case: Reading Large Files Line by Line**\n",
        "\n",
        "Generators are commonly used to read large files, processing them one line at a time without loading the entire file into memory.\n",
        "\n",
        "**Example:**"
      ],
      "metadata": {
        "id": "1B-U5NU9cGX9"
      }
    },
    {
      "cell_type": "code",
      "source": [
        "def read_large_file(file_path):\n",
        "    with open(file_path, 'r') as file:\n",
        "        for line in file:\n",
        "            yield line\n",
        "\n",
        "# Using the generator to read the file\n",
        "file_gen = read_large_file('tech_edu.txt')\n",
        "for line in file_gen:\n",
        "    print(line.strip())\n"
      ],
      "metadata": {
        "colab": {
          "base_uri": "https://localhost:8080/"
        },
        "id": "LmHrm6FiceQw",
        "outputId": "ab818dd3-86da-47ed-d570-2d7db6c334e7"
      },
      "execution_count": 32,
      "outputs": [
        {
          "output_type": "stream",
          "name": "stdout",
          "text": [
            "The Importance of Technology in Education\n",
            "Technology has become an integral part of modern society, transforming almost every aspect of our daily lives. One of the areas where technology has had a significant impact is education. From elementary schools to universities, educational institutions around the world are embracing technology to enhance learning experiences, streamline operations, and prepare students for the future.\n",
            "\n",
            "Enhancing Learning Experiences\n",
            "One of the most notable benefits of technology in education is its ability to enhance learning experiences. Interactive learning tools such as educational apps, online resources, and multimedia presentations make learning more engaging and accessible for students. Rather than relying solely on traditional textbooks, students can now explore topics through videos, interactive simulations, and online discussions.\n",
            "\n",
            "Moreover, technology allows for personalized learning, where students can progress at their own pace. With adaptive learning software, students who may struggle with a particular subject can receive additional support, while advanced learners can be challenged with more complex material. This individualized approach not only helps students stay motivated but also ensures that no one is left behind.\n",
            "\n",
            "Expanding Access to Education\n",
            "In the past, access to quality education was often limited by geographical location or financial constraints. However, technology has broken down many of these barriers. Online learning platforms, such as Coursera, Khan Academy, and edX, provide access to courses from top universities around the world, enabling students to learn from the best instructors without the need to be physically present on campus.\n",
            "\n",
            "Distance learning programs have also allowed students in remote or underserved areas to pursue higher education without needing to relocate. This expanded access to education is helping to bridge the gap between different socio-economic groups, providing more opportunities for students from all backgrounds.\n",
            "\n",
            "Preparing Students for the Future\n",
            "As the workforce becomes increasingly reliant on technology, it is essential that students are equipped with the skills needed to succeed in a digital world. Schools and universities are integrating technology into their curricula to ensure that students are proficient in using tools such as computers, software applications, and the internet.\n",
            "\n",
            "In addition to technical skills, technology is fostering the development of critical thinking, problem-solving, and collaboration. Group projects that require students to work together online, solve complex problems using data analysis software, or present their ideas through digital media are preparing students for the challenges they will face in their future careers.\n",
            "\n",
            "Challenges and Considerations\n",
            "While the benefits of technology in education are clear, there are also challenges that need to be addressed. One of the primary concerns is the digital divide — the gap between students who have access to technology and those who do not. In many low-income communities, students may lack access to computers or the internet at home, making it difficult for them to take full advantage of online learning opportunities.\n",
            "\n",
            "Additionally, the rapid pace of technological advancement means that educational institutions must continuously update their infrastructure and teaching methods to keep up with new tools and trends. This can be costly and time-consuming, particularly for schools with limited budgets.\n",
            "\n",
            "Lastly, the reliance on technology in education raises concerns about data privacy and security. With so much information being stored online, it is crucial for schools to implement robust security measures to protect students' personal data.\n",
            "\n",
            "Conclusion\n",
            "Technology has undoubtedly transformed education, offering new ways to engage students, expand access to learning, and prepare future generations for a digital world. However, it is important to address the challenges that come with this shift to ensure that all students can benefit from technological advancements. As we continue to integrate technology into education, we must remain mindful of its impact and work towards creating an inclusive and secure learning environment for all.\n"
          ]
        }
      ]
    },
    {
      "cell_type": "markdown",
      "source": [
        "# **Q7. What are the advantages of using generators over regular functions?**\n",
        "\n",
        "**1 Memory Efficiency:**\n",
        "\n",
        "Generators generate values on demand and do not store all values in memory at once, which is particularly useful when dealing with large datasets or infinite sequences.\n",
        "\n",
        "Regular functions that return lists or other collections hold all values in memory, which can lead to high memory usage for large datasets.\n",
        "\n",
        "**Example:**"
      ],
      "metadata": {
        "id": "OmCwk-7iDjaU"
      }
    },
    {
      "cell_type": "code",
      "source": [
        "def my_generator():\n",
        "    for i in range(1000000):\n",
        "        yield i  # Generates one value at a time\n"
      ],
      "metadata": {
        "id": "xdh9X0GmgHwW"
      },
      "execution_count": 33,
      "outputs": []
    },
    {
      "cell_type": "markdown",
      "source": [
        "**2 Lazy Evaluation:**\n",
        "\n",
        "Generators follow a lazy evaluation approach, meaning they only produce the next value when requested. This is efficient for computations that might not need all values to be computed upfront.\n",
        "Regular functions execute fully and return all results at once.\n",
        "\n",
        "**3 Improved Performance for I/O Operations:**\n",
        "\n",
        "Generators can handle I/O operations like reading files line by line or streaming data without loading the entire file or stream into memory. This makes them efficient for handling large files or real-time data streams.\n",
        "\n",
        "**Example:**"
      ],
      "metadata": {
        "id": "6ES4gYJigMcE"
      }
    },
    {
      "cell_type": "code",
      "source": [
        "def read_large_file(file_path):\n",
        "    with open(file_path, 'r') as file:\n",
        "        for line in file:\n",
        "            yield line.strip()  # Process each line as needed\n"
      ],
      "metadata": {
        "id": "rKfc0k-6gxxm"
      },
      "execution_count": 34,
      "outputs": []
    },
    {
      "cell_type": "markdown",
      "source": [
        "**4 Simplified Code:**\n",
        "\n",
        "Generators provide a cleaner and more concise way to handle iterations and sequences. You avoid using multiple variables to maintain the state of iteration, as generators automatically resume from where they left off.\n",
        "\n",
        "**5 State Retention:**\n",
        "\n",
        "Generators maintain the state of local variables between iterations without needing external data structures. Each time a generator is resumed, it picks up where it left off, which simplifies the management of iteration.\n",
        "\n",
        "**6 Infinite Sequences:**\n",
        "\n",
        "Since generators don’t need to generate all values upfront, they are ideal for representing infinite sequences or continuously running operations (e.g., real-time sensor data).\n",
        "\n",
        "**Example:**"
      ],
      "metadata": {
        "id": "lLPAP-Y4g7Er"
      }
    },
    {
      "cell_type": "code",
      "source": [
        "def infinite_counter():\n",
        "    n = 1\n",
        "    while True:\n",
        "        yield n\n",
        "        n += 1\n"
      ],
      "metadata": {
        "id": "LP2d-dAIhKoJ"
      },
      "execution_count": 35,
      "outputs": []
    },
    {
      "cell_type": "markdown",
      "source": [
        "**7 Pipelining Operations:**\n",
        "\n",
        "Generators can be chained together to form pipelines, where each step processes data and passes it to the next. This allows for efficient data flow processing without creating intermediate large data structures.\n",
        "\n",
        "**8 Easier Debugging and Maintenance:**\n",
        "\n",
        "Since generators only execute when needed, they help reduce unnecessary computations and make it easier to debug and optimize specific steps of an operation by yielding results incrementally."
      ],
      "metadata": {
        "id": "F4SWmIi9hNw6"
      }
    },
    {
      "cell_type": "markdown",
      "source": [
        "# **Q8. What is a lambda function in Python and when is it typically used?**\n",
        "\n",
        "\n",
        "A lambda function in Python is a small, anonymous function defined without a name. It is a concise way to create functions for short-term use. Unlike regular functions defined using def, lambda functions are defined using the lambda keyword.\n",
        "\n",
        "**1. Syntax of Lambda Function:**\n",
        "The syntax for a lambda function is:\n",
        "\n",
        "lambda arguments: expression\n",
        "\n",
        "**lambda:** The keyword used to define a lambda function.\n",
        "arguments: A comma-separated list of arguments, similar to function parameters.\n",
        "\n",
        "**expression:** A single expression that is evaluated and returned. Lambda functions can only contain a single expression.\n",
        "\n",
        "**Example:**"
      ],
      "metadata": {
        "id": "R1jpAbXOD4B7"
      }
    },
    {
      "cell_type": "code",
      "source": [
        "# A lambda function that adds 10 to a given number\n",
        "add_10 = lambda x: x + 10\n",
        "\n",
        "print(add_10(5))  # Output: 15\n"
      ],
      "metadata": {
        "colab": {
          "base_uri": "https://localhost:8080/"
        },
        "id": "ZJ2nF3owh5Ul",
        "outputId": "27d446f5-6536-4c27-b633-ce9b0b63f57f"
      },
      "execution_count": 36,
      "outputs": [
        {
          "output_type": "stream",
          "name": "stdout",
          "text": [
            "15\n"
          ]
        }
      ]
    },
    {
      "cell_type": "markdown",
      "source": [
        "**2. Characteristics of Lambda Functions:**\n",
        "\n",
        "**Anonymous:** Lambda functions are usually used without a name and are typically passed as arguments to other functions.\n",
        "\n",
        "**Single Expression:** Lambda functions can only contain a single expression, which is evaluated and returned. They are meant for simple operations and cannot contain complex logic or multiple statements.\n",
        "\n",
        "**Return Implicitly:** Lambda functions automatically return the result of the expression, so there is no need to use the return keyword.\n",
        "\n",
        "**Short-Lived:** Lambda functions are often used in situations where a simple function is needed for a short period, such as in higher-order functions or sorting.\n",
        "\n",
        "**3. When to Use Lambda Functions:**\n",
        "\n",
        "**a. Higher-Order Functions:**\n",
        "\n",
        "Lambda functions are frequently used as arguments to higher-order functions like map(), filter(), and reduce().\n",
        "\n",
        "**Example (with map()):**"
      ],
      "metadata": {
        "id": "G1wfHp0qiVmO"
      }
    },
    {
      "cell_type": "code",
      "source": [
        "# Convert a list of Celsius temperatures to Fahrenheit\n",
        "celsius = [0, 10, 20, 30]\n",
        "fahrenheit = list(map(lambda c: (c * 9/5) + 32, celsius))\n",
        "print(fahrenheit)  # Output: [32.0, 50.0, 68.0, 86.0]\n"
      ],
      "metadata": {
        "colab": {
          "base_uri": "https://localhost:8080/"
        },
        "id": "ZbU-7Jj3lB3o",
        "outputId": "f4d1d1f5-b4f7-445f-a639-877267c9d5a1"
      },
      "execution_count": 37,
      "outputs": [
        {
          "output_type": "stream",
          "name": "stdout",
          "text": [
            "[32.0, 50.0, 68.0, 86.0]\n"
          ]
        }
      ]
    },
    {
      "cell_type": "markdown",
      "source": [
        "**Example (with filter()):**"
      ],
      "metadata": {
        "id": "yAreapEGlG2v"
      }
    },
    {
      "cell_type": "code",
      "source": [
        "# Filter out even numbers from a list\n",
        "numbers = [1, 2, 3, 4, 5, 6]\n",
        "odd_numbers = list(filter(lambda x: x % 2 != 0, numbers))\n",
        "print(odd_numbers)  # Output: [1, 3, 5]\n"
      ],
      "metadata": {
        "colab": {
          "base_uri": "https://localhost:8080/"
        },
        "id": "L6NWSekllKKA",
        "outputId": "5ecdaac5-3598-4e0a-924d-cf46ab1bcbe4"
      },
      "execution_count": 38,
      "outputs": [
        {
          "output_type": "stream",
          "name": "stdout",
          "text": [
            "[1, 3, 5]\n"
          ]
        }
      ]
    },
    {
      "cell_type": "markdown",
      "source": [
        "**b. Sorting:**\n",
        "Lambda functions are commonly used with the sorted() function or the sort() method to specify custom sorting behavior, such as sorting by specific elements in a tuple or object.\n",
        "\n",
        "**Example (sorting a list of tuples by the second element):**"
      ],
      "metadata": {
        "id": "9ERvn1PAlQHQ"
      }
    },
    {
      "cell_type": "code",
      "source": [
        "tuples = [(1, 'apple'), (3, 'banana'), (2, 'cherry')]\n",
        "sorted_tuples = sorted(tuples, key=lambda x: x[1])\n",
        "print(sorted_tuples)  # Output: [(1, 'apple'), (3, 'banana'), (2, 'cherry')]\n"
      ],
      "metadata": {
        "colab": {
          "base_uri": "https://localhost:8080/"
        },
        "id": "O3WXgG3KoGHF",
        "outputId": "da42fac0-dbcc-4a90-8c1c-5311ff6f8adf"
      },
      "execution_count": 39,
      "outputs": [
        {
          "output_type": "stream",
          "name": "stdout",
          "text": [
            "[(1, 'apple'), (3, 'banana'), (2, 'cherry')]\n"
          ]
        }
      ]
    },
    {
      "cell_type": "markdown",
      "source": [
        "**c. Inline Function for Simple Operations:**\n",
        "\n",
        "For simple, one-off operations, lambda functions can be useful. Instead of defining a separate function with def, you can use a lambda function to avoid cluttering your code with function definitions.\n",
        "\n",
        "**Example:**"
      ],
      "metadata": {
        "id": "ml8ZzhnVoQ6d"
      }
    },
    {
      "cell_type": "code",
      "source": [
        "# A lambda function to multiply two numbers\n",
        "multiply = lambda x, y: x * y\n",
        "print(multiply(4, 5))  # Output: 20\n"
      ],
      "metadata": {
        "colab": {
          "base_uri": "https://localhost:8080/"
        },
        "id": "TdrWVM5KoZda",
        "outputId": "34071d45-bc8b-4230-eb1c-c28872e8036e"
      },
      "execution_count": 40,
      "outputs": [
        {
          "output_type": "stream",
          "name": "stdout",
          "text": [
            "20\n"
          ]
        }
      ]
    },
    {
      "cell_type": "markdown",
      "source": [
        "**d. Reducing Code Complexity:**\n",
        "\n",
        "When you need a quick function in just one place, using a lambda can reduce the need for defining a full function, making your code more concise and readable.\n",
        "\n",
        "**4. Limitations of Lambda Functions:**\n",
        "\n",
        "**Single Expression Only:** Lambda functions are limited to a single expression, which makes them unsuitable for complex operations or multi-step calculations.\n",
        "\n",
        "**No Name:** Lambda functions are usually anonymous, so they are not as reusable or as easy to debug as named functions.\n",
        "Reduced Readability: Overusing lambda functions, especially in complex operations, can reduce the readability of the code.\n",
        "\n",
        "**5. Example Comparisons with Regular Functions:**\n",
        "\n",
        "**Using a Regular Function:**"
      ],
      "metadata": {
        "id": "f3clduibohO6"
      }
    },
    {
      "cell_type": "code",
      "source": [
        "def add_10(x):\n",
        "    return x + 10\n",
        "\n",
        "print(add_10(5))  # Output: 15\n"
      ],
      "metadata": {
        "colab": {
          "base_uri": "https://localhost:8080/"
        },
        "id": "7S181Vpwo9H1",
        "outputId": "d2ada4ac-0b05-458f-e554-60f1980ed811"
      },
      "execution_count": 41,
      "outputs": [
        {
          "output_type": "stream",
          "name": "stdout",
          "text": [
            "15\n"
          ]
        }
      ]
    },
    {
      "cell_type": "markdown",
      "source": [
        "**Using a Lambda Function:**"
      ],
      "metadata": {
        "id": "4MiVxiPYo-2d"
      }
    },
    {
      "cell_type": "code",
      "source": [
        "add_10 = lambda x: x + 10\n",
        "print(add_10(5))  # Output: 15\n"
      ],
      "metadata": {
        "colab": {
          "base_uri": "https://localhost:8080/"
        },
        "id": "e5jnfVE_pC98",
        "outputId": "f6355a66-06b9-4467-d602-5307295e6e0f"
      },
      "execution_count": 42,
      "outputs": [
        {
          "output_type": "stream",
          "name": "stdout",
          "text": [
            "15\n"
          ]
        }
      ]
    },
    {
      "cell_type": "markdown",
      "source": [
        "# **Q9. Explain the purpose and usage of the `map()` function in Python.**\n",
        "\n",
        "The map() function in Python is used to apply a specified function to each item of an iterable (like a list, tuple, etc.) and returns an iterator (map object) with the results. The function operates element-wise over the iterable(s), allowing you to perform operations on every item in a single step without using explicit loops.\n",
        "\n",
        "**Syntax:**\n",
        "\n",
        "map(function, iterable[, iterable2, iterable3, ...])\n"
      ],
      "metadata": {
        "id": "PFiU61OwD6Ye"
      }
    },
    {
      "cell_type": "markdown",
      "source": [
        "**function:** A function that takes one or more arguments.\n",
        "\n",
        "**iterable:** One or more iterables (e.g., lists, tuples). All iterables must be of the same length when multiple are provided.\n",
        "\n",
        "**How map() Works:**\n",
        "\n",
        "It applies the function to each element of the provided iterable(s).\n",
        "The function must be capable of accepting the number of arguments equal to the number of iterables passed.\n",
        "It returns a map object (which is an iterator). To get the final results, you need to convert this map object into a list, tuple, or another sequence type.\n",
        "\n",
        "**Examples:**\n",
        "\n",
        "**1. Using map() with a Single Iterable:**\n",
        "\n",
        "Here, the map() function applies the provided function to each element in the list."
      ],
      "metadata": {
        "id": "vPhmYPDvqHod"
      }
    },
    {
      "cell_type": "code",
      "source": [
        "# Convert a list of Celsius temperatures to Fahrenheit\n",
        "def celsius_to_fahrenheit(celsius):\n",
        "    return (celsius * 9/5) + 32\n",
        "\n",
        "celsius = [0, 10, 20, 30]\n",
        "fahrenheit = list(map(celsius_to_fahrenheit, celsius))\n",
        "print(fahrenheit)  # Output: [32.0, 50.0, 68.0, 86.0]\n"
      ],
      "metadata": {
        "colab": {
          "base_uri": "https://localhost:8080/"
        },
        "id": "jDoAr7fEqECZ",
        "outputId": "435ae1df-01a6-42e8-df24-483b7fd970eb"
      },
      "execution_count": 43,
      "outputs": [
        {
          "output_type": "stream",
          "name": "stdout",
          "text": [
            "[32.0, 50.0, 68.0, 86.0]\n"
          ]
        }
      ]
    },
    {
      "cell_type": "markdown",
      "source": [
        "**2. Using map() with a Lambda Function:**\n",
        "\n",
        "A lambda function can be used inside map() for conciseness."
      ],
      "metadata": {
        "id": "kqVW9kTmwwkx"
      }
    },
    {
      "cell_type": "code",
      "source": [
        "# Same example using a lambda function\n",
        "celsius = [0, 10, 20, 30]\n",
        "fahrenheit = list(map(lambda c: (c * 9/5) + 32, celsius))\n",
        "print(fahrenheit)  # Output: [32.0, 50.0, 68.0, 86.0]\n"
      ],
      "metadata": {
        "colab": {
          "base_uri": "https://localhost:8080/"
        },
        "id": "ydyGhbQ0w9Zg",
        "outputId": "f7733530-6c1e-4568-d636-50c52aa884f4"
      },
      "execution_count": 44,
      "outputs": [
        {
          "output_type": "stream",
          "name": "stdout",
          "text": [
            "[32.0, 50.0, 68.0, 86.0]\n"
          ]
        }
      ]
    },
    {
      "cell_type": "markdown",
      "source": [
        "**3. Using map() with Multiple Iterables:**\n",
        "\n",
        "If multiple iterables are provided, the function must accept multiple arguments (one from each iterable). The function will apply to the elements from the corresponding positions in the iterables."
      ],
      "metadata": {
        "id": "im2OjPTvxCj7"
      }
    },
    {
      "cell_type": "code",
      "source": [
        "# Add elements from two lists\n",
        "numbers1 = [1, 2, 3]\n",
        "numbers2 = [4, 5, 6]\n",
        "result = list(map(lambda x, y: x + y, numbers1, numbers2))\n",
        "print(result)  # Output: [5, 7, 9]\n"
      ],
      "metadata": {
        "colab": {
          "base_uri": "https://localhost:8080/"
        },
        "id": "aQlGlmbOxFQh",
        "outputId": "43c166d6-c2ed-47ee-d7ce-3f261da75ee0"
      },
      "execution_count": 45,
      "outputs": [
        {
          "output_type": "stream",
          "name": "stdout",
          "text": [
            "[5, 7, 9]\n"
          ]
        }
      ]
    },
    {
      "cell_type": "markdown",
      "source": [
        "**Use Cases for map():**\n",
        "\n",
        "**1 Transforming Data:**\n",
        "\n",
        "map() is commonly used to transform or process all elements of an iterable at once, like converting types or applying a mathematical operation."
      ],
      "metadata": {
        "id": "7YVIz3eKxK1u"
      }
    },
    {
      "cell_type": "code",
      "source": [
        "# Convert all elements to strings\n",
        "numbers = [1, 2, 3, 4]\n",
        "strings = list(map(str, numbers))\n",
        "print(strings)  # Output: ['1', '2', '3', '4']\n"
      ],
      "metadata": {
        "colab": {
          "base_uri": "https://localhost:8080/"
        },
        "id": "TctrnNPQxSJa",
        "outputId": "9fd5556c-f020-4ee3-c611-2383b2be2038"
      },
      "execution_count": 46,
      "outputs": [
        {
          "output_type": "stream",
          "name": "stdout",
          "text": [
            "['1', '2', '3', '4']\n"
          ]
        }
      ]
    },
    {
      "cell_type": "markdown",
      "source": [
        "**2 Element-wise Operations:**\n",
        "\n",
        "When you have multiple iterables and need to perform element-wise operations (like adding two lists), map() provides an elegant solution.\n",
        "\n",
        "**3 Using Predefined Functions:**\n",
        "\n",
        "You can apply predefined functions, such as str(), int(), or any custom function, to all elements in an iterable."
      ],
      "metadata": {
        "id": "Og0R8ew1xVwh"
      }
    },
    {
      "cell_type": "code",
      "source": [
        "numbers = [\"1\", \"2\", \"3\"]\n",
        "integers = list(map(int, numbers))\n",
        "print(integers)  # Output: [1, 2, 3]\n"
      ],
      "metadata": {
        "colab": {
          "base_uri": "https://localhost:8080/"
        },
        "id": "nAQhczZixkQE",
        "outputId": "fcfb6a12-76a1-4e6b-dcad-e137d94e724a"
      },
      "execution_count": 47,
      "outputs": [
        {
          "output_type": "stream",
          "name": "stdout",
          "text": [
            "[1, 2, 3]\n"
          ]
        }
      ]
    },
    {
      "cell_type": "markdown",
      "source": [
        "**Advantages of map():**\n",
        "\n",
        "**Clean and Concise:** It avoids the need for writing explicit for loops, making the code more compact and readable.\n",
        "\n",
        "**Efficiency:** It can be more efficient than using loops, especially with\n",
        "large datasets.\n",
        "\n",
        "**Iterator-Based:** The map() function returns an iterator, meaning that it computes results lazily (on demand), which is memory efficient."
      ],
      "metadata": {
        "id": "s5gO4U6Xxn6a"
      }
    },
    {
      "cell_type": "markdown",
      "source": [
        "# **Q10. What is the difference between `map()`, `reduce()`, and `filter()` functions in Python?**\n",
        "\n",
        "The map(), reduce(), and filter() functions in Python are all higher-order functions, meaning they take a function as an argument and apply it to elements in an iterable. However, they each serve different purposes and behave in unique ways. Here's a detailed comparison:"
      ],
      "metadata": {
        "id": "bDUI7j3ED90E"
      }
    },
    {
      "cell_type": "markdown",
      "source": [
        "**1. map() Function**\n",
        "\n",
        "**Purpose:** The map() function applies a given function to each item in an iterable (such as a list) and returns a new iterable (a map object) with the transformed results.\n",
        "\n",
        "**Syntax:**"
      ],
      "metadata": {
        "id": "PFiqv6pfyizn"
      }
    },
    {
      "cell_type": "code",
      "source": [
        "map(function, iterable)\n"
      ],
      "metadata": {
        "id": "KwhtpD97zOuL"
      },
      "execution_count": null,
      "outputs": []
    },
    {
      "cell_type": "markdown",
      "source": [
        "**Use Case:** Use map() when you need to apply the same transformation to every element in an iterable.\n",
        "\n",
        "**Example:**"
      ],
      "metadata": {
        "id": "y5QhQR-NzQPs"
      }
    },
    {
      "cell_type": "code",
      "source": [
        "# Example: Convert a list of integers to their squares\n",
        "numbers = [1, 2, 3, 4]\n",
        "squares = list(map(lambda x: x ** 2, numbers))\n",
        "print(squares)  # Output: [1, 4, 9, 16]\n"
      ],
      "metadata": {
        "colab": {
          "base_uri": "https://localhost:8080/"
        },
        "id": "-31d86YUzYJM",
        "outputId": "39bdfec2-d68e-496d-f1ae-979b8efdba36"
      },
      "execution_count": 49,
      "outputs": [
        {
          "output_type": "stream",
          "name": "stdout",
          "text": [
            "[1, 4, 9, 16]\n"
          ]
        }
      ]
    },
    {
      "cell_type": "markdown",
      "source": [
        "**2. filter() Function**\n",
        "\n",
        "**Purpose:** The filter() function applies a given function (that returns True or False) to each item in an iterable and returns an iterable with only the items where the function returned True.\n",
        "\n",
        "**Syntax:**\n",
        "\n",
        "filter(function, iterable)\n",
        "\n",
        "Use Case: Use filter() when you want to select a subset of elements from an iterable based on a condition.\n",
        "\n",
        "**Example:**"
      ],
      "metadata": {
        "id": "OKILIgqmzh6p"
      }
    },
    {
      "cell_type": "code",
      "source": [
        "# Example: Filter out even numbers from a list\n",
        "numbers = [1, 2, 3, 4, 5, 6]\n",
        "odd_numbers = list(filter(lambda x: x % 2 != 0, numbers))\n",
        "print(odd_numbers)  # Output: [1, 3, 5]\n"
      ],
      "metadata": {
        "colab": {
          "base_uri": "https://localhost:8080/"
        },
        "id": "1l44hNAy4Y-R",
        "outputId": "1a45463d-bc86-4938-f991-abc04b901109"
      },
      "execution_count": 50,
      "outputs": [
        {
          "output_type": "stream",
          "name": "stdout",
          "text": [
            "[1, 3, 5]\n"
          ]
        }
      ]
    },
    {
      "cell_type": "markdown",
      "source": [
        "**3. reduce() Function**\n",
        "\n",
        "**Purpose:** The reduce() function applies a given function to pair of elements from the iterable cumulatively, reducing the iterable to a single value. It's commonly used for accumulation tasks like summing or multiplying values. Unlike map() and filter(), it reduces the iterable into a single output.\n",
        "\n",
        "**Syntax:**"
      ],
      "metadata": {
        "id": "IvqqTFRx4dbA"
      }
    },
    {
      "cell_type": "code",
      "source": [
        "from functools import reduce\n",
        "reduce(function, iterable)\n"
      ],
      "metadata": {
        "id": "xL3wrVS143yl"
      },
      "execution_count": null,
      "outputs": []
    },
    {
      "cell_type": "markdown",
      "source": [
        "**Use Case:** Use reduce() when you need to combine all elements of an iterable into a single result by applying a binary function cumulatively.\n",
        "\n",
        "**Example:**"
      ],
      "metadata": {
        "id": "NHAgmzzy4oJ7"
      }
    },
    {
      "cell_type": "code",
      "source": [
        "from functools import reduce\n",
        "\n",
        "# Example: Sum up all elements in a list\n",
        "numbers = [1, 2, 3, 4]\n",
        "sum_of_numbers = reduce(lambda x, y: x + y, numbers)\n",
        "print(sum_of_numbers)  # Output: 10\n"
      ],
      "metadata": {
        "colab": {
          "base_uri": "https://localhost:8080/"
        },
        "id": "3YXtRFJa4xLr",
        "outputId": "49f1dfc5-b895-46ca-908d-71f504a54872"
      },
      "execution_count": 52,
      "outputs": [
        {
          "output_type": "stream",
          "name": "stdout",
          "text": [
            "10\n"
          ]
        }
      ]
    },
    {
      "cell_type": "markdown",
      "source": [
        "| Feature        | map()                                        | filter()                                      | reduce()                                      |\n",
        "|----------------|---------------------------------------------|----------------------------------------------|----------------------------------------------|\n",
        "| Purpose        | Applies a function to each item in an iterable. | Filters items based on a condition (boolean test). | Combines all items into a single value.     |\n",
        "| Return Value   | A transformed iterable (map object).        | A filtered iterable (filter object).         | A single result by cumulatively applying the function. |\n",
        "| Arguments      | A function and one or more iterables.       | A function (returning True/False) and one iterable. | A function and one iterable.                 |\n",
        "| Use Case       | To transform or modify elements.            | To filter elements based on a condition.     | To reduce an iterable to a single value (e.g., sum). |\n",
        "| Operation      | Applies the function to each item.          | Keeps items where the function returns True. | Applies the function cumulatively on pairs of elements. |\n",
        "| Output Type    | Iterator (or list, if converted).           | Iterator (or list, if converted).            | Single value.                                |\n",
        "| Example        | `list(map(lambda x: x**2, [1, 2, 3]))`     | `list(filter(lambda x: x > 2, [1, 2, 3]))` | `reduce(lambda x, y: x + y, [1, 2, 3])`    |\n"
      ],
      "metadata": {
        "id": "RKk9J1nQ5IXp"
      }
    },
    {
      "cell_type": "markdown",
      "source": [
        "**Key Differences:**\n",
        "\n",
        "**1 Transformation (map()) vs. Filtering (filter()):**\n",
        "\n",
        "map() is used to transform all elements in an iterable (such as converting, modifying, or performing mathematical operations on each element).\n",
        "\n",
        "filter() is used to select only some elements based on a condition (such as filtering numbers or strings that meet certain criteria).\n",
        "\n",
        "**2 Reduction (reduce()):**\n",
        "\n",
        "reduce() is different from both map() and filter() because it reduces the iterable to a single cumulative value (such as the sum of all elements in a list), while map() and filter() return new iterables.\n",
        "\n",
        "**3 Return Type:**\n",
        "\n",
        "map() and filter() return iterators (which can be converted to lists or tuples), but reduce() returns a single value.\n",
        "\n",
        "**4 Number of Iterables:**\n",
        "\n",
        "Both map() and filter() work with a single iterable, but map() can take multiple iterables and apply a function to elements from each.\n",
        "\n",
        "reduce() only takes one iterable and applies the function to reduce it to a single value."
      ],
      "metadata": {
        "id": "N3gITLZu5MY3"
      }
    },
    {
      "cell_type": "markdown",
      "source": [
        "# **Q11. Using pen & Paper write the internal mechanism for sum operation using  reduce function on this given**\n",
        "# **list:[47,11,42,13];**"
      ],
      "metadata": {
        "id": "UqqV1v2qEBFS"
      }
    },
    {
      "cell_type": "code",
      "source": [
        "import matplotlib.pyplot as plt\n",
        "import matplotlib.image as mpimg\n",
        "\n",
        "# Load images (replace with your uploaded image filenames)\n",
        "img1 = mpimg.imread('1.jpg')  # Replace with your first image name\n",
        "img2 = mpimg.imread('2.jpg')  # Replace with your second image name\n",
        "\n",
        "# Create a figure and axis\n",
        "fig, axes = plt.subplots(1, 2, figsize=(10, 5))  # 1 row, 2 columns\n",
        "\n",
        "# Display the first image\n",
        "axes[0].imshow(img1)\n",
        "axes[0].axis('off')  # Hide axes\n",
        "axes[0].set_title('Page 1')  # Title for the first image\n",
        "\n",
        "# Display the second image\n",
        "axes[1].imshow(img2)\n",
        "axes[1].axis('off')  # Hide axes\n",
        "axes[1].set_title('page 2')  # Title for the second image\n",
        "\n",
        "# Show the images\n",
        "plt.tight_layout()  # Adjust layout\n",
        "plt.show()\n",
        "\n"
      ],
      "metadata": {
        "colab": {
          "base_uri": "https://localhost:8080/",
          "height": 507
        },
        "id": "CNfn8EnZ91NU",
        "outputId": "b7818ed5-7c05-4e12-c6a3-a0b8f127e344"
      },
      "execution_count": 56,
      "outputs": [
        {
          "output_type": "display_data",
          "data": {
            "text/plain": [
              "<Figure size 1000x500 with 2 Axes>"
            ],
            "image/png": "[encoded data removed]"
          },
          "metadata": {}
        }
      ]
    },
    {
      "cell_type": "markdown",
      "source": [
        "# **Practical Questions:**"
      ],
      "metadata": {
        "id": "-lCLY3Kf8MIG"
      }
    },
    {
      "cell_type": "markdown",
      "source": [
        "# **Q1. Write a Python function that takes a list of numbers as input and returns the sum of all even numbers in the list.**"
      ],
      "metadata": {
        "id": "m259NuUU8SAP"
      }
    },
    {
      "cell_type": "code",
      "source": [
        "def my_function(numbers):\n",
        "    even_sum = 0\n",
        "    for i in numbers:\n",
        "        if i % 2 == 0:\n",
        "            even_sum += i\n",
        "    return even_sum"
      ],
      "metadata": {
        "id": "HdcfxP5b8aXO"
      },
      "execution_count": null,
      "outputs": []
    },
    {
      "cell_type": "code",
      "source": [
        "my_function([1,2,3,4,5,6,7,8,9,10])"
      ],
      "metadata": {
        "colab": {
          "base_uri": "https://localhost:8080/"
        },
        "id": "eJgR-05w9A0g",
        "outputId": "7abf667d-6f42-40ef-b531-d93bd1c6bc83"
      },
      "execution_count": null,
      "outputs": [
        {
          "output_type": "execute_result",
          "data": {
            "text/plain": [
              "30"
            ]
          },
          "metadata": {},
          "execution_count": 6
        }
      ]
    },
    {
      "cell_type": "markdown",
      "source": [
        "# **Q2. Create a Python function that accepts a string and returns the reverse of that string.**"
      ],
      "metadata": {
        "id": "EvaKdQuW9Qiv"
      }
    },
    {
      "cell_type": "code",
      "source": [
        "def my_function(string):\n",
        "    return string[::-1]"
      ],
      "metadata": {
        "id": "nNRpAUk_9Fp-"
      },
      "execution_count": null,
      "outputs": []
    },
    {
      "cell_type": "code",
      "source": [
        "my_function(\"Function_assignment2\")"
      ],
      "metadata": {
        "colab": {
          "base_uri": "https://localhost:8080/",
          "height": 36
        },
        "id": "H3ClDwXj9f6a",
        "outputId": "3fe5af2b-debb-4149-ae9f-fc9c136e3f10"
      },
      "execution_count": null,
      "outputs": [
        {
          "output_type": "execute_result",
          "data": {
            "text/plain": [
              "'2tnemngissa_noitcnuF'"
            ],
            "application/vnd.google.colaboratory.intrinsic+json": {
              "type": "string"
            }
          },
          "metadata": {},
          "execution_count": 8
        }
      ]
    },
    {
      "cell_type": "markdown",
      "source": [
        "# **Q3. Implement a Python function that takes a list of integers and returns a new list containing the squares of each number.**"
      ],
      "metadata": {
        "id": "HY0GH7p_9yHO"
      }
    },
    {
      "cell_type": "code",
      "source": [
        "def my_function(Integers):\n",
        "    new_list = []\n",
        "    for i in Integers:\n",
        "        i = i**2\n",
        "        new_list.append(i)\n",
        "    return new_list\n",
        "my_function([-2,-4,6,8,10,40])"
      ],
      "metadata": {
        "colab": {
          "base_uri": "https://localhost:8080/"
        },
        "id": "4EajcIMP9slr",
        "outputId": "3165a6ff-d1a5-44b5-948d-0edae2bab463"
      },
      "execution_count": null,
      "outputs": [
        {
          "output_type": "execute_result",
          "data": {
            "text/plain": [
              "[4, 16, 36, 64, 100, 1600]"
            ]
          },
          "metadata": {},
          "execution_count": 10
        }
      ]
    },
    {
      "cell_type": "markdown",
      "source": [
        "# **Q4.Write a Python function that checks if a given number is prime or not from 1 to 200.**"
      ],
      "metadata": {
        "id": "87HqTc8gGJ2L"
      }
    },
    {
      "cell_type": "code",
      "source": [
        "def is_prime(number):\n",
        "  if number==1:\n",
        "    print('Given number is not prime')\n",
        "  elif number>=2:\n",
        "    for i in range(2,number):\n",
        "      if number % i == 0:\n",
        "        print('Given number is not prime')\n",
        "        break\n",
        "    else:\n",
        "      print('Given number is prime')\n",
        "\n",
        "\n",
        "\n"
      ],
      "metadata": {
        "id": "5AlizWM1KsJL"
      },
      "execution_count": null,
      "outputs": []
    },
    {
      "cell_type": "code",
      "source": [
        "is_prime(7)"
      ],
      "metadata": {
        "colab": {
          "base_uri": "https://localhost:8080/"
        },
        "id": "XZ1ZuWFESAJ1",
        "outputId": "851900b5-1e13-41a0-b7fa-0fdadd570d86"
      },
      "execution_count": null,
      "outputs": [
        {
          "output_type": "stream",
          "name": "stdout",
          "text": [
            "Given number is prime\n"
          ]
        }
      ]
    },
    {
      "cell_type": "code",
      "source": [
        "is_prime(10)"
      ],
      "metadata": {
        "colab": {
          "base_uri": "https://localhost:8080/"
        },
        "id": "vlUy4HszSMr6",
        "outputId": "a67103c3-adce-41b3-9844-38cff176ae14"
      },
      "execution_count": null,
      "outputs": [
        {
          "output_type": "stream",
          "name": "stdout",
          "text": [
            "Given number is not prime\n"
          ]
        }
      ]
    },
    {
      "cell_type": "code",
      "source": [
        "is_prime(2)"
      ],
      "metadata": {
        "colab": {
          "base_uri": "https://localhost:8080/"
        },
        "id": "qxb4UkX5XN7f",
        "outputId": "c9736fb7-be52-4b25-86b2-5442c234e3f4"
      },
      "execution_count": null,
      "outputs": [
        {
          "output_type": "stream",
          "name": "stdout",
          "text": [
            "Given number is prime\n"
          ]
        }
      ]
    },
    {
      "cell_type": "code",
      "source": [
        "is_prime(1)"
      ],
      "metadata": {
        "colab": {
          "base_uri": "https://localhost:8080/"
        },
        "id": "Gq0Hav0eYHpf",
        "outputId": "a6f8ede3-1730-4d33-bcdc-e43dce70ef79"
      },
      "execution_count": null,
      "outputs": [
        {
          "output_type": "stream",
          "name": "stdout",
          "text": [
            "Given number is not prime\n"
          ]
        }
      ]
    },
    {
      "cell_type": "markdown",
      "source": [
        "# **Q5. Create an iterator class in Python that generates the Fibonacci sequence up to a specified number of terms.**"
      ],
      "metadata": {
        "id": "NAB4x5TBGJws"
      }
    },
    {
      "cell_type": "code",
      "source": [
        "class Fibonacci:\n",
        "    def __init__(self, n_terms):\n",
        "        self.n_terms = n_terms  # Number of terms to generate\n",
        "        self.count = 0          # Track the current term\n",
        "        self.a, self.b = 0, 1   # Initialize the first two terms of Fibonacci sequence\n",
        "\n",
        "    def __iter__(self):\n",
        "        return self  # Return the iterator object itself\n",
        "\n",
        "    def __next__(self):\n",
        "        if self.count >= self.n_terms:\n",
        "            raise StopIteration  # Stop the iteration when the limit is reached\n",
        "\n",
        "        if self.count == 0:\n",
        "            self.count += 1\n",
        "            return self.a  # Return 0 as the first Fibonacci number\n",
        "        elif self.count == 1:\n",
        "            self.count += 1\n",
        "            return self.b  # Return 1 as the second Fibonacci number\n",
        "\n",
        "        # For all subsequent terms, calculate the next Fibonacci number\n",
        "        next_value = self.a + self.b\n",
        "        self.a, self.b = self.b, next_value  # Update values for the next iteration\n",
        "        self.count += 1\n",
        "        return next_value\n",
        "\n",
        "# Example usage:\n",
        "n = 10  # Specify the number of Fibonacci terms you want\n",
        "fib_sequence = Fibonacci(n)\n",
        "\n",
        "for num in fib_sequence:\n",
        "    print(num)\n"
      ],
      "metadata": {
        "id": "p_erz26_Z50-",
        "colab": {
          "base_uri": "https://localhost:8080/"
        },
        "outputId": "692b6ab7-142a-4446-dd80-afaf993b1181"
      },
      "execution_count": null,
      "outputs": [
        {
          "output_type": "stream",
          "name": "stdout",
          "text": [
            "0\n",
            "1\n",
            "1\n",
            "2\n",
            "3\n",
            "5\n",
            "8\n",
            "13\n",
            "21\n",
            "34\n"
          ]
        }
      ]
    },
    {
      "cell_type": "markdown",
      "source": [
        "# **Q6. Write a generator function in Python that yields the powers of 2 up to a given exponent.**"
      ],
      "metadata": {
        "id": "i8dZOl2OGJuL"
      }
    },
    {
      "cell_type": "code",
      "source": [
        "def my_function(exponent):\n",
        "    for i in range(exponent + 1):\n",
        "        yield 2 ** i  # Yield the power of 2 instead of printing\n",
        "\n",
        "# Example usage:\n",
        "for power in my_function(5):\n",
        "    print(power)\n"
      ],
      "metadata": {
        "colab": {
          "base_uri": "https://localhost:8080/"
        },
        "id": "kwX4h7vv9Yt-",
        "outputId": "d488ffac-bd6a-4b29-e4e4-bb4b26ba7a17"
      },
      "execution_count": null,
      "outputs": [
        {
          "output_type": "stream",
          "name": "stdout",
          "text": [
            "1\n",
            "2\n",
            "4\n",
            "8\n",
            "16\n",
            "32\n"
          ]
        }
      ]
    },
    {
      "cell_type": "markdown",
      "source": [
        "# **Q7. Implement a generator function that reads a file line by line and yields each line as a string.**"
      ],
      "metadata": {
        "id": "H8yhSqjzGJo5"
      }
    },
    {
      "cell_type": "code",
      "source": [
        "def read_file_line_by_line(file_path):\n",
        "    with open(file_path, 'r') as file:\n",
        "        for line in file:\n",
        "            yield line.strip()  # Yield each line, stripping any extra newline characters\n",
        "\n",
        "# Example usage:\n",
        "for line in read_file_line_by_line('tech_edu.txt'):\n",
        "  print(line)\n"
      ],
      "metadata": {
        "colab": {
          "base_uri": "https://localhost:8080/"
        },
        "id": "WP4vSHGn-vPM",
        "outputId": "c08d509c-fe7f-4e1a-bfdd-f453ebbe2d69"
      },
      "execution_count": null,
      "outputs": [
        {
          "output_type": "stream",
          "name": "stdout",
          "text": [
            "The Importance of Technology in Education\n",
            "Technology has become an integral part of modern society, transforming almost every aspect of our daily lives. One of the areas where technology has had a significant impact is education. From elementary schools to universities, educational institutions around the world are embracing technology to enhance learning experiences, streamline operations, and prepare students for the future.\n",
            "\n",
            "Enhancing Learning Experiences\n",
            "One of the most notable benefits of technology in education is its ability to enhance learning experiences. Interactive learning tools such as educational apps, online resources, and multimedia presentations make learning more engaging and accessible for students. Rather than relying solely on traditional textbooks, students can now explore topics through videos, interactive simulations, and online discussions.\n",
            "\n",
            "Moreover, technology allows for personalized learning, where students can progress at their own pace. With adaptive learning software, students who may struggle with a particular subject can receive additional support, while advanced learners can be challenged with more complex material. This individualized approach not only helps students stay motivated but also ensures that no one is left behind.\n",
            "\n",
            "Expanding Access to Education\n",
            "In the past, access to quality education was often limited by geographical location or financial constraints. However, technology has broken down many of these barriers. Online learning platforms, such as Coursera, Khan Academy, and edX, provide access to courses from top universities around the world, enabling students to learn from the best instructors without the need to be physically present on campus.\n",
            "\n",
            "Distance learning programs have also allowed students in remote or underserved areas to pursue higher education without needing to relocate. This expanded access to education is helping to bridge the gap between different socio-economic groups, providing more opportunities for students from all backgrounds.\n",
            "\n",
            "Preparing Students for the Future\n",
            "As the workforce becomes increasingly reliant on technology, it is essential that students are equipped with the skills needed to succeed in a digital world. Schools and universities are integrating technology into their curricula to ensure that students are proficient in using tools such as computers, software applications, and the internet.\n",
            "\n",
            "In addition to technical skills, technology is fostering the development of critical thinking, problem-solving, and collaboration. Group projects that require students to work together online, solve complex problems using data analysis software, or present their ideas through digital media are preparing students for the challenges they will face in their future careers.\n",
            "\n",
            "Challenges and Considerations\n",
            "While the benefits of technology in education are clear, there are also challenges that need to be addressed. One of the primary concerns is the digital divide — the gap between students who have access to technology and those who do not. In many low-income communities, students may lack access to computers or the internet at home, making it difficult for them to take full advantage of online learning opportunities.\n",
            "\n",
            "Additionally, the rapid pace of technological advancement means that educational institutions must continuously update their infrastructure and teaching methods to keep up with new tools and trends. This can be costly and time-consuming, particularly for schools with limited budgets.\n",
            "\n",
            "Lastly, the reliance on technology in education raises concerns about data privacy and security. With so much information being stored online, it is crucial for schools to implement robust security measures to protect students' personal data.\n",
            "\n",
            "Conclusion\n",
            "Technology has undoubtedly transformed education, offering new ways to engage students, expand access to learning, and prepare future generations for a digital world. However, it is important to address the challenges that come with this shift to ensure that all students can benefit from technological advancements. As we continue to integrate technology into education, we must remain mindful of its impact and work towards creating an inclusive and secure learning environment for all.\n"
          ]
        }
      ]
    },
    {
      "cell_type": "markdown",
      "source": [
        "# **Q8. Use a lambda function in Python to sort a list of tuples based on the second element of each tuple.**"
      ],
      "metadata": {
        "id": "6FPUj6s3GJrh"
      }
    },
    {
      "cell_type": "code",
      "source": [
        "# List of tuples\n",
        "tuple_list = [(1, 5), (3, 2), (6, 8), (2, 3)]\n",
        "\n",
        "# Sorting the list of tuples by the second element\n",
        "sorted_list = sorted(tuple_list, key=lambda x: x[1])\n",
        "\n",
        "# Output the sorted list\n",
        "print(sorted_list)\n"
      ],
      "metadata": {
        "colab": {
          "base_uri": "https://localhost:8080/"
        },
        "id": "QeGif8-MCYu0",
        "outputId": "08d980e7-1dc1-4b28-f05c-586b05a75e2a"
      },
      "execution_count": null,
      "outputs": [
        {
          "output_type": "stream",
          "name": "stdout",
          "text": [
            "[(3, 2), (2, 3), (1, 5), (6, 8)]\n"
          ]
        }
      ]
    },
    {
      "cell_type": "markdown",
      "source": [
        "# **Q9. Write a Python program that uses `map()` to convert a list of temperatures from Celsius to Fahrenheit.**"
      ],
      "metadata": {
        "id": "kztlypnTHIrN"
      }
    },
    {
      "cell_type": "code",
      "source": [
        "# List of temperatures in Celsius\n",
        "celsius_temps = [0, 20, 30, 40, 100]\n",
        "\n",
        "# Conversion formula using map() and a lambda function\n",
        "fahrenheit_temps = list(map(lambda c: (c * 9/5) + 32, celsius_temps))\n",
        "\n",
        "# Output the list of temperatures in Fahrenheit\n",
        "print(fahrenheit_temps)\n"
      ],
      "metadata": {
        "colab": {
          "base_uri": "https://localhost:8080/"
        },
        "id": "FAQaaKW3CcQ-",
        "outputId": "ac22b71c-d070-4711-eb0d-8ad68f554c75"
      },
      "execution_count": null,
      "outputs": [
        {
          "output_type": "stream",
          "name": "stdout",
          "text": [
            "[32.0, 68.0, 86.0, 104.0, 212.0]\n"
          ]
        }
      ]
    },
    {
      "cell_type": "markdown",
      "source": [
        "# **Q10. Create a Python program that uses `filter()` to remove all the vowels from a given string.**"
      ],
      "metadata": {
        "id": "h0oXwehCHJXU"
      }
    },
    {
      "cell_type": "code",
      "source": [
        "# Input string\n",
        "input_string = \"This is a sample string with vowels.\"\n",
        "\n",
        "# Define the vowels\n",
        "vowels = \"aeiouAEIOU\"\n",
        "\n",
        "# Use filter() to remove vowels\n",
        "filtered_string = ''.join(filter(lambda x: x not in vowels, input_string))\n",
        "\n",
        "# Output the result\n",
        "print(filtered_string)\n"
      ],
      "metadata": {
        "colab": {
          "base_uri": "https://localhost:8080/"
        },
        "id": "ftBAlM2tCuxD",
        "outputId": "ef3a267f-8179-4da6-ec1a-bcbaf11a3dca"
      },
      "execution_count": null,
      "outputs": [
        {
          "output_type": "stream",
          "name": "stdout",
          "text": [
            "Ths s  smpl strng wth vwls.\n"
          ]
        }
      ]
    },
    {
      "cell_type": "markdown",
      "source": [
        "# **Q11 Imagine an accounting routine used in a book shop. It works on a list with sublists, which look like this:**\n",
        "\n",
        "| Order Numaber|Block Title and Author | Quantity |Price per Item  |\n",
        "|----------|----------|----------|----------|\n",
        "| 34587  | Learning Python,Mark Lutz|4  |40.95|\n",
        "| 98762    |Programming Python,Mark Lutz|5|56.80|\n",
        "| 77226    | Head First Python, Paul Barry|5|32.95|\n",
        "|88112    |Einfuhrung in Python,Bernd Klein|3|24.99|\n",
        "\n",
        "\n",
        "\n",
        "# **Write a Python program, which returns a list with 2-tuples. Each tuple consists of the order number and the**\n",
        "# **product of the price per item and the quantity. The product should be increased by 10,- € if the value of the**\n",
        "# **order is smaller than 100,00 €.**\n",
        "\n",
        "# **Write a Python program using lambda and map.**"
      ],
      "metadata": {
        "id": "ylynTtjoHKCR"
      }
    },
    {
      "cell_type": "code",
      "source": [
        "# List of orders\n",
        "orders = [\n",
        "    [34587, \"Learning Python, Mark Lutz\", 4, 40.95],\n",
        "    [98762, \"Programming Python, Mark Lutz\", 5, 56.80],\n",
        "    [77226, \"Head First Python, Paul Barry\", 5, 32.95],\n",
        "    [88112, \"Einfuhrung in Python, Bernd Klein\", 3, 24.99]\n",
        "]\n",
        "\n",
        "# Function to calculate total price with adjustment\n",
        "def calculate_total(order):\n",
        "    order_number = order[0]\n",
        "    quantity = order[2]\n",
        "    price_per_item = order[3]\n",
        "\n",
        "    total_price = quantity * price_per_item\n",
        "    if total_price < 100:\n",
        "        total_price += 10  # Add €10 if total price is less than €100\n",
        "    return (order_number, total_price)\n",
        "\n",
        "# Use map with lambda to apply the function to each order\n",
        "result = list(map(lambda order: calculate_total(order), orders))\n",
        "\n",
        "# Output the result\n",
        "print(result)\n"
      ],
      "metadata": {
        "id": "dXFj_PgaF9zm",
        "colab": {
          "base_uri": "https://localhost:8080/"
        },
        "outputId": "f2cfd0f3-eee1-4f27-a576-d11e620f09bb"
      },
      "execution_count": null,
      "outputs": [
        {
          "output_type": "stream",
          "name": "stdout",
          "text": [
            "[(34587, 163.8), (98762, 284.0), (77226, 164.75), (88112, 84.97)]\n"
          ]
        }
      ]
    },
    {
      "cell_type": "code",
      "source": [],
      "metadata": {
        "id": "pHCAZ-ZeDOXc"
      },
      "execution_count": null,
      "outputs": []
    }
  ]
}