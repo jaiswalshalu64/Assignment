{
  "nbformat": 4,
  "nbformat_minor": 0,
  "metadata": {
    "colab": {
      "provenance": []
    },
    "kernelspec": {
      "name": "python3",
      "display_name": "Python 3"
    },
    "language_info": {
      "name": "python"
    }
  },
  "cells": [
    {
      "cell_type": "code",
      "execution_count": null,
      "metadata": {
        "id": "LNMGYXo-QlpC"
      },
      "outputs": [],
      "source": []
    },
    {
      "cell_type": "markdown",
      "source": [
        "# **Theoretical Questions:**"
      ],
      "metadata": {
        "id": "BnTvdI5FQsxW"
      }
    },
    {
      "cell_type": "markdown",
      "source": [
        "# **1. Explain the purpose and advantages of NumPy in scientific computing and data analysis. How does it enhance Python's capabilities for numerical operations?**\n",
        "\n",
        "\n",
        "**Purpose of NumPy in Scientific Computing and Data Analysis**\n",
        "\n",
        "NumPy (short for Numerical Python) is a core library in Python for numerical computations. It provides high-performance tools to work with large, multi-dimensional arrays and matrices, along with a vast collection of mathematical functions to operate on these arrays. NumPy serves as the backbone for many scientific libraries in Python, such as Pandas, SciPy, TensorFlow, and Scikit-learn.\n",
        "\n",
        "**Advantages of NumPy**\n",
        "\n",
        "**1. Efficient Numerical Operations:**\n",
        "\n",
        "NumPy arrays (ndarrays) are optimized for performance, enabling fast element-wise computations.\n",
        "Operations on NumPy arrays are implemented in C, avoiding the slower Python loops.\n",
        "\n",
        "**2. Multi-dimensional Arrays:**\n",
        "\n",
        "Supports arrays of arbitrary dimensions (1D, 2D, 3D, etc.).\n",
        "Offers specialized operations for reshaping, slicing, and performing matrix computations.\n",
        "\n",
        "**3. Broadcasting:**\n",
        "\n",
        "NumPy automatically applies operations element-wise across arrays of compatible shapes, removing the need for explicit looping.\n",
        "\n",
        "**4. Vectorized Operations:**\n",
        "\n",
        "Many mathematical operations can be performed directly on arrays, making code concise and faster compared to Python lists.\n",
        "\n",
        "**5. Rich Mathematical Functions:**\n",
        "\n",
        "Includes functions for linear algebra, Fourier transforms, random number generation, and basic statistics.\n",
        "Ideal for solving problems in machine learning, physics, engineering, and finance.\n",
        "\n",
        "**6. Memory Efficiency:**\n",
        "\n",
        "NumPy arrays consume less memory compared to Python lists for storing the same data because they use contiguous memory blocks.\n",
        "Arrays are homogenous (all elements must be of the same data type), which contributes to their efficiency.\n",
        "\n",
        "**7. Interoperability:**\n",
        "\n",
        "Works well with other scientific libraries like Pandas, Matplotlib, and Scikit-learn.\n",
        "Provides easy integration with low-level languages such as C and Fortran.\n",
        "\n",
        "**8. Ease of Use:**\n",
        "\n",
        "Its syntax is simple and intuitive for numerical operations, reducing development time.\n",
        "\n",
        "**9. Handling Large Datasets:**\n",
        "\n",
        "NumPy efficiently processes large datasets, making it suitable for big data applications.\n",
        "\n",
        "How NumPy Enhances Python's Capabilities for Numerical Operations\n",
        "\n",
        "**1. Faster Performance:**\n",
        "\n",
        "NumPy arrays are much faster than Python lists for numerical operations due to their implementation in C and their contiguous memory layout.\n",
        "\n",
        "**Example:**"
      ],
      "metadata": {
        "id": "5eN9x4haQst0"
      }
    },
    {
      "cell_type": "code",
      "source": [
        "import numpy as np\n",
        "import time\n",
        "\n",
        "# Create a large list and NumPy array\n",
        "python_list = list(range(1, 1000000))\n",
        "numpy_array = np.array(range(1, 1000000))\n",
        "\n",
        "# Time taken for Python list sum\n",
        "start = time.time()\n",
        "sum(python_list)\n",
        "print(\"Python list time:\", time.time() - start)\n",
        "\n",
        "# Time taken for NumPy array sum\n",
        "start = time.time()\n",
        "np.sum(numpy_array)\n",
        "print(\"NumPy array time:\", time.time() - start)\n"
      ],
      "metadata": {
        "colab": {
          "base_uri": "https://localhost:8080/"
        },
        "id": "EwrlxUJx-0BL",
        "outputId": "155fa61f-35de-4a22-ddfe-b714445ab2eb"
      },
      "execution_count": null,
      "outputs": [
        {
          "output_type": "stream",
          "name": "stdout",
          "text": [
            "Python list time: 0.00910186767578125\n",
            "NumPy array time: 0.002977132797241211\n"
          ]
        }
      ]
    },
    {
      "cell_type": "markdown",
      "source": [
        "**2. Vectorized Operations:**\n",
        "\n",
        "NumPy eliminates the need for slow Python loops by applying vectorized operations directly on arrays.\n",
        "\n",
        "**Example:**"
      ],
      "metadata": {
        "id": "DvlfKdX6_u29"
      }
    },
    {
      "cell_type": "code",
      "source": [
        "# Element-wise addition using NumPy\n",
        "arr1 = np.array([1, 2, 3])\n",
        "arr2 = np.array([4, 5, 6])\n",
        "result = arr1 + arr2  # [5, 7, 9]\n"
      ],
      "metadata": {
        "id": "SarBKzpL_1Rg"
      },
      "execution_count": null,
      "outputs": []
    },
    {
      "cell_type": "code",
      "source": [
        "result = [x + y for x, y in zip([1, 2, 3], [4, 5, 6])]\n",
        "result"
      ],
      "metadata": {
        "colab": {
          "base_uri": "https://localhost:8080/"
        },
        "id": "hHNVJj4D_8L5",
        "outputId": "8d05c224-e1da-45ba-ea1a-e010f290e730"
      },
      "execution_count": null,
      "outputs": [
        {
          "output_type": "execute_result",
          "data": {
            "text/plain": [
              "[5, 7, 9]"
            ]
          },
          "metadata": {},
          "execution_count": 43
        }
      ]
    },
    {
      "cell_type": "markdown",
      "source": [
        "**3. Advanced Indexing and Slicing:**\n",
        "\n",
        "NumPy simplifies data manipulation using powerful slicing and indexing capabilities, which are more advanced than Python lists.\n",
        "\n",
        "**Example:**"
      ],
      "metadata": {
        "id": "EFO8UuIxAGlT"
      }
    },
    {
      "cell_type": "code",
      "source": [
        "arr = np.array([1, 2, 3, 4, 5])\n",
        "print(arr[1:4])  # Output: [2 3 4]\n"
      ],
      "metadata": {
        "colab": {
          "base_uri": "https://localhost:8080/"
        },
        "id": "ZhHmIL48Aqgm",
        "outputId": "c04293b5-ef61-4ef9-9e4e-416c1da17214"
      },
      "execution_count": null,
      "outputs": [
        {
          "output_type": "stream",
          "name": "stdout",
          "text": [
            "[2 3 4]\n"
          ]
        }
      ]
    },
    {
      "cell_type": "markdown",
      "source": [
        "**4. Extensive Math Functions:**\n",
        "\n",
        "Built-in support for mathematical operations like dot products, matrix multiplications, and statistical calculations, which are tedious to implement manually.\n",
        "\n",
        "**5. Support for Multi-dimensional Data:**\n",
        "\n",
        "While Python lists are limited to 1D or nested structures, NumPy arrays easily handle multi-dimensional data (e.g., 2D matrices, 3D tensors).\n",
        "\n",
        "**Example:**"
      ],
      "metadata": {
        "id": "c2FrEKA5Av8D"
      }
    },
    {
      "cell_type": "code",
      "source": [
        "# Create a 2D array\n",
        "matrix = np.array([[1, 2], [3, 4]])\n",
        "print(matrix.T)  # Transpose\n"
      ],
      "metadata": {
        "colab": {
          "base_uri": "https://localhost:8080/"
        },
        "id": "Zlmi0Bg0BDYH",
        "outputId": "6266145e-0715-49b0-df77-69fcaeea9616"
      },
      "execution_count": null,
      "outputs": [
        {
          "output_type": "stream",
          "name": "stdout",
          "text": [
            "[[1 3]\n",
            " [2 4]]\n"
          ]
        }
      ]
    },
    {
      "cell_type": "markdown",
      "source": [
        "# **2. Compare and contrast np.mean() and np.average() functions in NumPy. When would you use one over the other?**\n",
        "\n",
        "**Comparison of np.mean() and np.average()**\n",
        "\n",
        "Both np.mean() and np.average() are used to calculate the average of a NumPy array, but there are key differences in their functionality and use cases:\n",
        "\n",
        "**1. np.mean()**\n",
        "\n",
        "**Purpose:** Calculates the arithmetic mean (average) of the array elements.\n",
        "\n",
        "**Weights:** Does not support weights. It simply divides the sum of elements by the total number of elements.\n",
        "\n",
        "**Syntax:**\n",
        "\n",
        "np.mean(array, axis=None, dtype=None, keepdims=False)\n",
        "\n",
        "**Parameters:**\n",
        "\n",
        "**axis:** Specifies the axis along which to calculate the mean.\n",
        "\n",
        "**dtype:** Specifies the data type for the calculation.\n",
        "\n",
        "**keepdims:** Retains the dimensions of the original array if set to True.\n",
        "\n",
        "**Example:**"
      ],
      "metadata": {
        "id": "9iHzvhBxQsrZ"
      }
    },
    {
      "cell_type": "code",
      "source": [
        "import numpy as np\n",
        "arr = np.array([1, 2, 3, 4, 5])\n",
        "print(np.mean(arr))  # Output: 3.0\n"
      ],
      "metadata": {
        "colab": {
          "base_uri": "https://localhost:8080/"
        },
        "id": "LhBvRcFnDqo7",
        "outputId": "e50e1aa9-05e8-4485-89c4-07ade614f245"
      },
      "execution_count": null,
      "outputs": [
        {
          "output_type": "stream",
          "name": "stdout",
          "text": [
            "3.0\n"
          ]
        }
      ]
    },
    {
      "cell_type": "markdown",
      "source": [
        "**2. np.average()**\n",
        "\n",
        "**Purpose:** Computes the weighted average of the array elements. If no weights are provided, it behaves like np.mean().\n",
        "\n",
        "Weights: Supports weights, making it useful for cases where some elements contribute more to the average than others.\n",
        "\n",
        "**Syntax:**\n",
        "\n",
        "np.average(array, axis=None, weights=None, returned=False)\n",
        "\n",
        "**Parameters:**\n",
        "\n",
        "**axis:** Specifies the axis along which to calculate the average.\n",
        "\n",
        "**weights:** A sequence of weights for computing the weighted average. Must have the same shape as the input array.\n",
        "\n",
        "**returned:** If True, returns a tuple containing the average and the sum of the weights.\n",
        "\n",
        "**Example:**"
      ],
      "metadata": {
        "id": "InF9QW7wDxS2"
      }
    },
    {
      "cell_type": "code",
      "source": [
        "arr = np.array([1, 2, 3, 4, 5])\n",
        "weights = np.array([1, 1, 2, 2, 4])\n",
        "print(np.average(arr, weights=weights))  # Output: 4.0\n"
      ],
      "metadata": {
        "colab": {
          "base_uri": "https://localhost:8080/"
        },
        "id": "nBDGLzkzE8JT",
        "outputId": "81bf0334-aead-449e-edd6-cad74fed0805"
      },
      "execution_count": null,
      "outputs": [
        {
          "output_type": "stream",
          "name": "stdout",
          "text": [
            "3.7\n"
          ]
        }
      ]
    },
    {
      "cell_type": "markdown",
      "source": [
        "**When to Use np.mean()**\n",
        "\n",
        "When all data points have equal importance or weight.\n",
        "For simple statistical calculations without any weighted contributions.\n",
        "\n",
        "**Example**"
      ],
      "metadata": {
        "id": "2kgTpTHQFzMm"
      }
    },
    {
      "cell_type": "code",
      "source": [
        "arr = np.array([10, 20, 30, 40, 50])\n",
        "print(np.mean(arr))  # Output: 30.0\n"
      ],
      "metadata": {
        "colab": {
          "base_uri": "https://localhost:8080/"
        },
        "id": "7WyciJ1rF6Ac",
        "outputId": "cfbb92b3-3807-4cee-b1e1-4a8890dea518"
      },
      "execution_count": null,
      "outputs": [
        {
          "output_type": "stream",
          "name": "stdout",
          "text": [
            "30.0\n"
          ]
        }
      ]
    },
    {
      "cell_type": "markdown",
      "source": [
        "**When to Use np.average()**\n",
        "\n",
        "When different elements have different levels of importance (weights).\n",
        "Useful in scenarios such as:\n",
        "Calculating a student's final grade based on weighted scores.\n",
        "Calculating portfolio returns with weights assigned to each stock.\n",
        "\n",
        "**Example:**"
      ],
      "metadata": {
        "id": "w5-haGqJGMiv"
      }
    },
    {
      "cell_type": "code",
      "source": [
        "grades = np.array([80, 90, 70])\n",
        "weights = np.array([0.3, 0.5, 0.2])  # Weightage of assignments\n",
        "print(np.average(grades, weights=weights))  # Output: 82.0\n"
      ],
      "metadata": {
        "colab": {
          "base_uri": "https://localhost:8080/"
        },
        "id": "3SeaPfhLGW4z",
        "outputId": "6357ed14-bf10-4913-d6b8-ee215db20f3a"
      },
      "execution_count": null,
      "outputs": [
        {
          "output_type": "stream",
          "name": "stdout",
          "text": [
            "83.0\n"
          ]
        }
      ]
    },
    {
      "cell_type": "markdown",
      "source": [
        "# **3. Describe the methods for reversing a NumPy array along different axes.Provide examples for 1D and 2D arrays.**\n",
        "\n",
        "\n",
        "Reversing a NumPy array involves changing the order of elements along a specific axis. Here are the methods to reverse a NumPy array for 1D and 2D arrays:\n",
        "\n",
        "\n",
        "**1. Reversing a 1D NumPy Array**\n",
        "\n",
        "You can reverse a 1D array by using slicing or the np.flip() function.\n",
        "\n",
        "**Method 1: Using Slicing**"
      ],
      "metadata": {
        "id": "3VnO_ck7Qsoi"
      }
    },
    {
      "cell_type": "code",
      "source": [
        "import numpy as np\n",
        "\n",
        "# Create a 1D array\n",
        "arr_1d = np.array([1, 2, 3, 4, 5])\n",
        "\n",
        "# Reverse the array\n",
        "reversed_1d = arr_1d[::-1]\n",
        "\n",
        "print(\"Original 1D Array:\", arr_1d)\n",
        "print(\"Reversed 1D Array:\", reversed_1d)\n"
      ],
      "metadata": {
        "id": "WGlhDpIwHHM-"
      },
      "execution_count": null,
      "outputs": []
    },
    {
      "cell_type": "markdown",
      "source": [
        "**Method 2: Using np.flip()**"
      ],
      "metadata": {
        "id": "fCYh39OAHu5i"
      }
    },
    {
      "cell_type": "code",
      "source": [
        "# Reverse using np.flip\n",
        "reversed_1d_flip = np.flip(arr_1d)\n",
        "\n",
        "print(\"Reversed 1D Array with np.flip:\", reversed_1d_flip)\n"
      ],
      "metadata": {
        "id": "7vqLW8vaH1gK"
      },
      "execution_count": null,
      "outputs": []
    },
    {
      "cell_type": "markdown",
      "source": [
        "**2. Reversing a 2D NumPy Array**\n",
        "\n",
        "For 2D arrays, you can reverse elements along different axes (rows, columns, or both).\n",
        "\n",
        "**Method 1: Reverse All Elements (Flattened Order)**\n",
        "\n",
        "**Using slicing:**"
      ],
      "metadata": {
        "id": "89IO054ZIQqH"
      }
    },
    {
      "cell_type": "code",
      "source": [
        "arr_2d = np.array([[1, 2, 3], [4, 5, 6], [7, 8, 9]])\n",
        "\n",
        "# Reverse all elements\n",
        "reversed_2d = arr_2d[::-1, ::-1]\n",
        "\n",
        "print(\"Original 2D Array:\")\n",
        "print(arr_2d)\n",
        "print(\"Fully Reversed 2D Array:\")\n",
        "print(reversed_2d)\n"
      ],
      "metadata": {
        "colab": {
          "base_uri": "https://localhost:8080/"
        },
        "id": "nHFZG-HmJpLB",
        "outputId": "6d534d6e-ba01-4a1f-b1cb-3cd50467ae57"
      },
      "execution_count": null,
      "outputs": [
        {
          "output_type": "stream",
          "name": "stdout",
          "text": [
            "Original 2D Array:\n",
            "[[1 2 3]\n",
            " [4 5 6]\n",
            " [7 8 9]]\n",
            "Fully Reversed 2D Array:\n",
            "[[9 8 7]\n",
            " [6 5 4]\n",
            " [3 2 1]]\n"
          ]
        }
      ]
    },
    {
      "cell_type": "markdown",
      "source": [
        "**Method 2: Reverse Rows**\n",
        "\n",
        "Reverse the order of rows (axis 0) while keeping the columns intact."
      ],
      "metadata": {
        "id": "wij-McfTJuFo"
      }
    },
    {
      "cell_type": "code",
      "source": [
        "# Reverse rows\n",
        "rows_reversed = arr_2d[::-1, :]\n",
        "\n",
        "print(\"Rows Reversed:\")\n",
        "print(rows_reversed)\n"
      ],
      "metadata": {
        "colab": {
          "base_uri": "https://localhost:8080/"
        },
        "id": "yJr4GvlWJ13l",
        "outputId": "b5e6e94d-f843-4115-a5cc-254a25c0eb85"
      },
      "execution_count": null,
      "outputs": [
        {
          "output_type": "stream",
          "name": "stdout",
          "text": [
            "Rows Reversed:\n",
            "[[7 8 9]\n",
            " [4 5 6]\n",
            " [1 2 3]]\n"
          ]
        }
      ]
    },
    {
      "cell_type": "markdown",
      "source": [
        "**Method 3: Reverse Columns**\n",
        "\n",
        "Reverse the order of columns (axis 1) while keeping the rows intact."
      ],
      "metadata": {
        "id": "cOVPdOvNJ632"
      }
    },
    {
      "cell_type": "code",
      "source": [
        "# Reverse columns\n",
        "columns_reversed = arr_2d[:, ::-1]\n",
        "\n",
        "print(\"Columns Reversed:\")\n",
        "print(columns_reversed)\n"
      ],
      "metadata": {
        "colab": {
          "base_uri": "https://localhost:8080/"
        },
        "id": "GJNI-5MkKCuG",
        "outputId": "ad1d2654-9b97-4293-cedc-be92c766d13e"
      },
      "execution_count": null,
      "outputs": [
        {
          "output_type": "stream",
          "name": "stdout",
          "text": [
            "Columns Reversed:\n",
            "[[3 2 1]\n",
            " [6 5 4]\n",
            " [9 8 7]]\n"
          ]
        }
      ]
    },
    {
      "cell_type": "markdown",
      "source": [
        "**Method 4: Using np.flip()**\n",
        "\n",
        "You can reverse along specific axes using the np.flip() function:\n",
        "\n",
        "**Reverse along rows:**"
      ],
      "metadata": {
        "id": "AfwXRzX8KHZa"
      }
    },
    {
      "cell_type": "code",
      "source": [
        "rows_flipped = np.flip(arr_2d, axis=0)\n",
        "print(\"Rows Flipped with np.flip:\")\n",
        "print(rows_flipped)\n"
      ],
      "metadata": {
        "colab": {
          "base_uri": "https://localhost:8080/"
        },
        "id": "k80QjW3cKNvU",
        "outputId": "111db426-262a-4ef6-ca33-1afbd774ed05"
      },
      "execution_count": null,
      "outputs": [
        {
          "output_type": "stream",
          "name": "stdout",
          "text": [
            "Rows Flipped with np.flip:\n",
            "[[7 8 9]\n",
            " [4 5 6]\n",
            " [1 2 3]]\n"
          ]
        }
      ]
    },
    {
      "cell_type": "code",
      "source": [
        "columns_flipped = np.flip(arr_2d, axis=1)\n",
        "print(\"Columns Flipped with np.flip:\")\n",
        "print(columns_flipped)\n"
      ],
      "metadata": {
        "colab": {
          "base_uri": "https://localhost:8080/"
        },
        "id": "Q8ypF_euKRO1",
        "outputId": "2e19dd0d-a84a-43bd-a363-0c5ccdf1e5e3"
      },
      "execution_count": null,
      "outputs": [
        {
          "output_type": "stream",
          "name": "stdout",
          "text": [
            "Columns Flipped with np.flip:\n",
            "[[3 2 1]\n",
            " [6 5 4]\n",
            " [9 8 7]]\n"
          ]
        }
      ]
    },
    {
      "cell_type": "code",
      "source": [
        "both_axes_flipped = np.flip(arr_2d)\n",
        "print(\"Flipped along Both Axes:\")\n",
        "print(both_axes_flipped)\n"
      ],
      "metadata": {
        "colab": {
          "base_uri": "https://localhost:8080/"
        },
        "id": "L-52tKXRKUgw",
        "outputId": "924579b7-1649-40ec-ae96-ae091f0163e7"
      },
      "execution_count": null,
      "outputs": [
        {
          "output_type": "stream",
          "name": "stdout",
          "text": [
            "Flipped along Both Axes:\n",
            "[[9 8 7]\n",
            " [6 5 4]\n",
            " [3 2 1]]\n"
          ]
        }
      ]
    },
    {
      "cell_type": "markdown",
      "source": [
        "# **4. How can you determine the data type of elements in a NumPy array? Discuss the importance of data types in memory management and performance.**\n",
        "\n",
        "\n",
        "**Determining the Data Type of Elements in a NumPy Array**\n",
        "\n",
        "You can determine the data type of elements in a NumPy array using the following methods:\n",
        "\n",
        "**1. Using .dtype Attribute**\n",
        "\n",
        "The .dtype attribute returns the data type of the elements in the array."
      ],
      "metadata": {
        "id": "GpR88Y_DQsl4"
      }
    },
    {
      "cell_type": "code",
      "source": [
        "import numpy as np\n",
        "\n",
        "# Example array\n",
        "arr = np.array([1, 2, 3])\n",
        "\n",
        "# Check data type\n",
        "print(\"Data type:\", arr.dtype)\n"
      ],
      "metadata": {
        "colab": {
          "base_uri": "https://localhost:8080/"
        },
        "id": "6uCLpOT1Ku8j",
        "outputId": "53a938ff-1a80-4e25-bc05-68593418a4f0"
      },
      "execution_count": null,
      "outputs": [
        {
          "output_type": "stream",
          "name": "stdout",
          "text": [
            "Data type: int64\n"
          ]
        }
      ]
    },
    {
      "cell_type": "markdown",
      "source": [
        "**2. Using type() Function**\n",
        "\n",
        "The type() function returns the type of the array object itself, which is often a subclass of numpy.ndarray, but it does not give the data type of the elements."
      ],
      "metadata": {
        "id": "E7SaJ-KJK1QQ"
      }
    },
    {
      "cell_type": "code",
      "source": [
        "# Example\n",
        "print(\"Array type:\", type(arr))  # Outputs: <class 'numpy.ndarray'>\n"
      ],
      "metadata": {
        "colab": {
          "base_uri": "https://localhost:8080/"
        },
        "id": "Nw9TBB90K5q6",
        "outputId": "0ec41fe2-8c4e-4da1-fc1f-d47fe35c9120"
      },
      "execution_count": null,
      "outputs": [
        {
          "output_type": "stream",
          "name": "stdout",
          "text": [
            "Array type: <class 'numpy.ndarray'>\n"
          ]
        }
      ]
    },
    {
      "cell_type": "markdown",
      "source": [
        "Importance of Data Types in NumPy\n",
        "\n",
        "Data types in NumPy arrays play a crucial role in memory management and performance. Here's why:\n",
        "\n",
        "**1. Memory Efficiency**\n",
        "\n",
        "**Fixed Data Types:** NumPy arrays store data in contiguous blocks of memory with a fixed data type. For example, int32 takes 4 bytes per element, while float64 takes 8 bytes. This is more efficient than Python lists, where each element is an object, consuming more memory.\n",
        "\n",
        "**Customizable Data Types:** You can choose the appropriate data type (e.g., int8, int16, float32) based on your needs, minimizing memory usage.\n",
        "\n",
        "**Example:**"
      ],
      "metadata": {
        "id": "duG0qB_vK-uA"
      }
    },
    {
      "cell_type": "code",
      "source": [
        "arr_int32 = np.array([1, 2, 3], dtype=np.int32)\n",
        "arr_int64 = np.array([1, 2, 3], dtype=np.int64)\n",
        "\n",
        "print(\"Memory used by int32:\", arr_int32.nbytes, \"bytes\")\n",
        "print(\"Memory used by int64:\", arr_int64.nbytes, \"bytes\")\n"
      ],
      "metadata": {
        "colab": {
          "base_uri": "https://localhost:8080/"
        },
        "id": "i_1Xla9XLOFY",
        "outputId": "ffab87a9-05f1-4622-ce21-459ab7eeff18"
      },
      "execution_count": null,
      "outputs": [
        {
          "output_type": "stream",
          "name": "stdout",
          "text": [
            "Memory used by int32: 12 bytes\n",
            "Memory used by int64: 24 bytes\n"
          ]
        }
      ]
    },
    {
      "cell_type": "markdown",
      "source": [
        "**2. Computational Performance**\n",
        "\n",
        "**Homogeneous Data:** NumPy arrays are homogeneous, meaning all elements have the same data type. This allows NumPy to use highly optimized C-based operations, leading to faster computations compared to Python lists.\n",
        "\n",
        "**Vectorized Operations:** NumPy can perform operations directly on arrays without explicit loops, leveraging low-level optimizations tied to the data type.\n",
        "\n",
        "**Example:**"
      ],
      "metadata": {
        "id": "9PP88h-ILR_b"
      }
    },
    {
      "cell_type": "code",
      "source": [
        "# NumPy vs. Python list performance\n",
        "arr = np.arange(1_000_000, dtype=np.float32)\n",
        "py_list = list(range(1_000_000))\n",
        "\n",
        "%timeit arr * 2  # Fast NumPy operation\n",
        "%timeit [x * 2 for x in py_list]  # Slower Python list operation\n"
      ],
      "metadata": {
        "colab": {
          "base_uri": "https://localhost:8080/"
        },
        "id": "6fg9CSbULct6",
        "outputId": "f8ec8fe6-fe64-47d8-ef22-68fc44dcf3fd"
      },
      "execution_count": null,
      "outputs": [
        {
          "output_type": "stream",
          "name": "stdout",
          "text": [
            "334 µs ± 14.6 µs per loop (mean ± std. dev. of 7 runs, 1000 loops each)\n",
            "95.3 ms ± 19.2 ms per loop (mean ± std. dev. of 7 runs, 10 loops each)\n"
          ]
        }
      ]
    },
    {
      "cell_type": "markdown",
      "source": [
        "**3. Accuracy and Precision**\n",
        "\n",
        "**Choosing the Right Precision:** When dealing with numerical computations, the data type affects precision. For example, float32 is less precise than float64, which can lead to rounding errors in large calculations.\n",
        "\n",
        "**Example:**"
      ],
      "metadata": {
        "id": "oKw6ShgTLhNU"
      }
    },
    {
      "cell_type": "code",
      "source": [
        "arr_float32 = np.array([0.1, 0.2, 0.3], dtype=np.float32)\n",
        "arr_float64 = np.array([0.1, 0.2, 0.3], dtype=np.float64)\n",
        "\n",
        "print(\"Sum with float32:\", arr_float32.sum())  # May have rounding errors\n",
        "print(\"Sum with float64:\", arr_float64.sum())  # More accurate\n"
      ],
      "metadata": {
        "colab": {
          "base_uri": "https://localhost:8080/"
        },
        "id": "yqKN3vMJLpof",
        "outputId": "87f4102e-8a88-4cdf-9f77-ffb314def52c"
      },
      "execution_count": null,
      "outputs": [
        {
          "output_type": "stream",
          "name": "stdout",
          "text": [
            "Sum with float32: 0.6\n",
            "Sum with float64: 0.6000000000000001\n"
          ]
        }
      ]
    },
    {
      "cell_type": "markdown",
      "source": [
        "**4. Compatibility with External Libraries**\n",
        "\n",
        "Many scientific and machine learning libraries (e.g., Pandas, TensorFlow) require specific data types for input. Using the wrong data type can cause errors or inefficiencies.\n",
        "\n",
        "**Example:**\n",
        "\n",
        "TensorFlow models typically require data in float32 for training to optimize GPU memory usage and speed."
      ],
      "metadata": {
        "id": "GAqaago_LtVS"
      }
    },
    {
      "cell_type": "markdown",
      "source": [
        "# **5. Define ndarrays in NumPy and explain their key features. How do they differ from standard Python lists?**\n",
        "\n",
        "**Definition of ndarray in NumPy:**\n",
        "\n",
        "An ndarray (n-dimensional array) in NumPy is a powerful data structure used to store and manipulate multidimensional data efficiently. It is the core component of the NumPy library and allows for fast mathematical and logical operations on large datasets.\n",
        "\n",
        "**Key Features of ndarray:**\n",
        "\n",
        "**1. Multidimensional:**\n",
        "\n",
        "An ndarray can represent data in multiple dimensions (1D, 2D, 3D, etc.).\n",
        "Example:\n",
        "1D array: [1, 2, 3]\n",
        "2D array: [[1, 2], [3, 4]]\n",
        "3D array: A stack of 2D matrices.\n",
        "\n",
        "**2. Homogeneous Data:**\n",
        "\n",
        "All elements in an ndarray must have the same data type (e.g., integers, floats).\n",
        "This uniformity ensures efficient memory usage and faster operations.\n",
        "\n",
        "**3. Efficient Memory Usage:**\n",
        "\n",
        "ndarray uses a contiguous block of memory, unlike Python lists, which store pointers to objects. This allows for faster computations.\n",
        "\n",
        "**4. Vectorized Operations:**\n",
        "\n",
        "Arithmetic operations can be performed directly on arrays without the need for explicit loops.\n",
        "\n",
        "**Example:**\n",
        "\n"
      ],
      "metadata": {
        "id": "C_oDDNhOQsjC"
      }
    },
    {
      "cell_type": "code",
      "source": [
        "import numpy as np\n",
        "a = np.array([1, 2, 3])\n",
        "b = np.array([4, 5, 6])\n",
        "print(a + b)  # Output: [5 7 9]\n"
      ],
      "metadata": {
        "colab": {
          "base_uri": "https://localhost:8080/"
        },
        "id": "YHwEoOsCyrKz",
        "outputId": "08b3ff93-1e90-42dd-b745-f3b24f474635"
      },
      "execution_count": 1,
      "outputs": [
        {
          "output_type": "stream",
          "name": "stdout",
          "text": [
            "[5 7 9]\n"
          ]
        }
      ]
    },
    {
      "cell_type": "markdown",
      "source": [
        "**5. Broadcasting:**\n",
        "\n",
        "NumPy arrays can perform operations on arrays of different shapes by \"stretching\" smaller arrays.\n",
        "\n",
        "**Example:**"
      ],
      "metadata": {
        "id": "UyW6xuxjyuSP"
      }
    },
    {
      "cell_type": "code",
      "source": [
        "a = np.array([1, 2, 3])\n",
        "b = 2\n",
        "print(a * b)  # Output: [2 4 6]\n"
      ],
      "metadata": {
        "colab": {
          "base_uri": "https://localhost:8080/"
        },
        "id": "mu9qW-puy1Hz",
        "outputId": "907d2191-0a6f-4acd-f5f4-f05607db27e6"
      },
      "execution_count": 2,
      "outputs": [
        {
          "output_type": "stream",
          "name": "stdout",
          "text": [
            "[2 4 6]\n"
          ]
        }
      ]
    },
    {
      "cell_type": "markdown",
      "source": [
        "**6. Indexing and Slicing:**\n",
        "\n",
        "Supports advanced indexing, slicing, and subsetting of data.\n",
        "\n",
        "**Example:**"
      ],
      "metadata": {
        "id": "OwvF2rTPy91A"
      }
    },
    {
      "cell_type": "code",
      "source": [
        "a = np.array([[1, 2], [3, 4]])\n",
        "print(a[0, 1])  # Output: 2\n",
        "print(a[:, 0])  # Output: [1 3]\n"
      ],
      "metadata": {
        "colab": {
          "base_uri": "https://localhost:8080/"
        },
        "id": "nmYNKItUzEI3",
        "outputId": "6ab0333f-7e0e-4cf0-cb49-2183ae031d67"
      },
      "execution_count": 3,
      "outputs": [
        {
          "output_type": "stream",
          "name": "stdout",
          "text": [
            "2\n",
            "[1 3]\n"
          ]
        }
      ]
    },
    {
      "cell_type": "markdown",
      "source": [
        "**7. Rich Functionality:**\n",
        "\n",
        "Includes many built-in methods for statistical, mathematical, and linear algebra operations (e.g., mean(), sum(), dot()).\n",
        "\n",
        "**8. Shape and Reshaping:**\n",
        "\n",
        "ndarray provides attributes like .shape, .ndim, and .size to understand its structure and allows reshaping without data loss.\n",
        "\n",
        "**Example:**"
      ],
      "metadata": {
        "id": "AeTdrZ-zzIh3"
      }
    },
    {
      "cell_type": "code",
      "source": [
        "a = np.array([1, 2, 3, 4])\n",
        "print(a.reshape(2, 2))  # Output: [[1 2]\n",
        "                         #          [3 4]]\n"
      ],
      "metadata": {
        "colab": {
          "base_uri": "https://localhost:8080/"
        },
        "id": "sBuZWG76zTTd",
        "outputId": "0d7750ac-d648-4d14-e94f-b90775a09d61"
      },
      "execution_count": 4,
      "outputs": [
        {
          "output_type": "stream",
          "name": "stdout",
          "text": [
            "[[1 2]\n",
            " [3 4]]\n"
          ]
        }
      ]
    },
    {
      "cell_type": "markdown",
      "source": [
        "### **Differences Between `ndarray` and Python Lists**\n",
        "\n",
        "| Feature               | ndarray (NumPy)                                     | Python List                                  |\n",
        "|-----------------------|----------------------------------------------------|---------------------------------------------|\n",
        "| **Homogeneity**       | All elements must have the same data type.          | Can store elements of different data types. |\n",
        "| **Speed**             | Faster due to optimized C-based implementation.     | Slower due to Python’s dynamic typing.      |\n",
        "| **Memory Efficiency** | Uses less memory (stores data in contiguous blocks).| Requires more memory (stores pointers to objects). |\n",
        "| **Operations**        | Supports vectorized and broadcasting operations.    | Requires explicit loops for element-wise operations. |\n",
        "| **Multidimensional Data** | Supports multidimensional arrays natively (e.g., 2D, 3D). | Requires nested lists for multidimensional data. |\n",
        "| **Built-in Methods**  | Provides a wide range of mathematical and statistical functions. | Limited built-in support for numerical operations. |\n",
        "| **Data Reshaping**    | Can easily reshape arrays.                          | Not applicable for lists.                   |\n"
      ],
      "metadata": {
        "id": "Ln9o4QjO0IGy"
      }
    },
    {
      "cell_type": "markdown",
      "source": [
        "**Example: Performance Comparison**\n",
        "\n",
        "Addition using NumPy vs Python List:"
      ],
      "metadata": {
        "id": "Tf3deUnH0RG1"
      }
    },
    {
      "cell_type": "code",
      "source": [
        "import numpy as np\n",
        "import time\n",
        "\n",
        "# NumPy ndarray\n",
        "a = np.array([i for i in range(1000000)])\n",
        "b = np.array([i for i in range(1000000)])\n",
        "start = time.time()\n",
        "c = a + b\n",
        "print(\"NumPy Time:\", time.time() - start)\n",
        "\n",
        "# Python List\n",
        "a_list = [i for i in range(1000000)]\n",
        "b_list = [i for i in range(1000000)]\n",
        "start = time.time()\n",
        "c_list = [a_list[i] + b_list[i] for i in range(len(a_list))]\n",
        "print(\"Python List Time:\", time.time() - start)\n"
      ],
      "metadata": {
        "colab": {
          "base_uri": "https://localhost:8080/"
        },
        "id": "I4mCRbja0Nvv",
        "outputId": "dc7be9ad-3838-400c-bc8f-a9a53bfd38f4"
      },
      "execution_count": 5,
      "outputs": [
        {
          "output_type": "stream",
          "name": "stdout",
          "text": [
            "NumPy Time: 0.0026268959045410156\n",
            "Python List Time: 0.2096569538116455\n"
          ]
        }
      ]
    },
    {
      "cell_type": "markdown",
      "source": [
        "# **6. Analyze the performance benefits of NumPy arrays over Python lists for large-scale numerical operations.**\n",
        "\n",
        "**Performance Benefits of NumPy Arrays over Python Lists**\n",
        "\n",
        "NumPy arrays (ndarray) are specifically designed for high-performance numerical computations, making them significantly faster and more efficient than Python lists for large-scale numerical operations. Below is a detailed analysis of the benefits:\n",
        "\n",
        "### **Performance Benefits of NumPy Arrays over Python Lists**\n",
        "\n",
        "| **Feature**                | **NumPy Arrays**                                                                 | **Python Lists**                                                |\n",
        "|----------------------------|---------------------------------------------------------------------------------|----------------------------------------------------------------|\n",
        "| **1. Speed**               | - NumPy arrays are implemented in C, allowing direct memory access. <br> - Much faster for numerical operations (e.g., addition, multiplication). | - Python lists are slower because they rely on interpreted Python code for operations. <br> - Element-wise operations require explicit loops. |\n",
        "| **2. Memory Efficiency**   | - NumPy stores data in contiguous memory blocks, requiring less memory. <br> - Fixed data types reduce overhead. | - Lists store pointers to objects, resulting in higher memory usage. <br> - Each element is a full-fledged Python object. |\n",
        "| **3. Vectorized Operations** | - Supports **vectorized operations** (e.g., addition, subtraction) without loops. <br> - Operates on entire arrays at once. | - Operations require explicit loops, which are slower and less efficient. |\n",
        "| **4. Broadcasting**        | - Allows operations between arrays of different shapes by \"broadcasting\" values. <br> - Simplifies operations like matrix addition/multiplication. | - No native support for broadcasting; requires manual logic. |\n",
        "| **5. Built-in Functions**  | - Comes with optimized mathematical, statistical, and linear algebra functions. <br> - Functions are faster because they are implemented in low-level C code. | - Python lists have limited built-in support for numerical functions. <br> - Additional libraries (e.g., `math`) are needed, which are slower. |\n",
        "| **6. Multidimensional Data** | - Handles multidimensional arrays (2D, 3D) natively. <br> - Easy reshaping, slicing, and advanced indexing. | - Multidimensional data requires nested lists, which are cumbersome and error-prone. |\n",
        "| **7. Parallelism**         | - Utilizes efficient parallel processing for large computations. <br> - Many NumPy functions are multi-threaded. | - Python lists do not natively support parallelism in computations. |\n",
        "\n",
        "**Example: Performance Comparison**\n",
        "\n",
        "**1. Speed Comparison**"
      ],
      "metadata": {
        "id": "ZCyQURwKQsgX"
      }
    },
    {
      "cell_type": "code",
      "source": [
        "import numpy as np\n",
        "import time\n",
        "\n",
        "# Large dataset size\n",
        "n = 10**6\n",
        "\n",
        "# NumPy array\n",
        "array = np.arange(n)\n",
        "\n",
        "# Python list\n",
        "py_list = list(range(n))\n",
        "\n",
        "# NumPy addition\n",
        "start = time.time()\n",
        "array_result = array + 5\n",
        "end = time.time()\n",
        "print(f\"NumPy time: {end - start:.5f} seconds\")\n",
        "\n",
        "# Python list addition\n",
        "start = time.time()\n",
        "list_result = [x + 5 for x in py_list]\n",
        "end = time.time()\n",
        "print(f\"Python list time: {end - start:.5f} seconds\")\n"
      ],
      "metadata": {
        "colab": {
          "base_uri": "https://localhost:8080/"
        },
        "id": "GLC5oJZs0_mF",
        "outputId": "f08c88df-2e67-4566-858d-a93429487d8e"
      },
      "execution_count": 6,
      "outputs": [
        {
          "output_type": "stream",
          "name": "stdout",
          "text": [
            "NumPy time: 0.01666 seconds\n",
            "Python list time: 0.18563 seconds\n"
          ]
        }
      ]
    },
    {
      "cell_type": "markdown",
      "source": [
        "**2. Memory Efficiency**"
      ],
      "metadata": {
        "id": "fxGUpguL1HLT"
      }
    },
    {
      "cell_type": "code",
      "source": [
        "import numpy as np\n",
        "import sys\n",
        "\n",
        "# NumPy array\n",
        "array = np.arange(10**6)\n",
        "print(f\"NumPy array size: {array.nbytes} bytes\")\n",
        "\n",
        "# Python list\n",
        "py_list = list(range(10**6))\n",
        "print(f\"Python list size: {sys.getsizeof(py_list) + sys.getsizeof(py_list[0]) * len(py_list)} bytes\")\n"
      ],
      "metadata": {
        "colab": {
          "base_uri": "https://localhost:8080/"
        },
        "id": "FR0gyMO31I_d",
        "outputId": "850d2785-ce3d-4ee1-f9e1-f4746adb986b"
      },
      "execution_count": 7,
      "outputs": [
        {
          "output_type": "stream",
          "name": "stdout",
          "text": [
            "NumPy array size: 8000000 bytes\n",
            "Python list size: 32000056 bytes\n"
          ]
        }
      ]
    },
    {
      "cell_type": "markdown",
      "source": [
        "# **7. Compare vstack() and hstack() functions in NumPy. Provide examples demonstrating their usage and output.**\n",
        "\n",
        "| Feature         | `vstack()`                                     | `hstack()`                                     |\n",
        "|------------------|-----------------------------------------------|-----------------------------------------------|\n",
        "| **Purpose**      | Stacks arrays vertically (row-wise).          | Stacks arrays horizontally (column-wise).     |\n",
        "| **Input Shapes** | Arrays must have the same number of columns.  | Arrays must have the same number of rows.     |\n",
        "| **Output Shape** | Adds rows to create a taller array.           | Adds columns to create a wider array.         |\n",
        "\n",
        "### **Examples**\n",
        "\n",
        "#### Example 1: Using `vstack()`\n",
        "\n",
        "\n"
      ],
      "metadata": {
        "id": "rR7V1rC1Qsd1"
      }
    },
    {
      "cell_type": "code",
      "source": [
        "import numpy as np\n",
        "\n",
        "a = np.array([1, 2, 3])\n",
        "b = np.array([4, 5, 6])\n",
        "\n",
        "result = np.vstack((a, b))\n",
        "print(result)"
      ],
      "metadata": {
        "colab": {
          "base_uri": "https://localhost:8080/"
        },
        "id": "n2Y74TJu1-tC",
        "outputId": "d9567a73-45dc-4e86-9500-873378bd1a0a"
      },
      "execution_count": 8,
      "outputs": [
        {
          "output_type": "stream",
          "name": "stdout",
          "text": [
            "[[1 2 3]\n",
            " [4 5 6]]\n"
          ]
        }
      ]
    },
    {
      "cell_type": "markdown",
      "source": [
        "Example 2: Using hstack()"
      ],
      "metadata": {
        "id": "dR6sfclL2CRf"
      }
    },
    {
      "cell_type": "code",
      "source": [
        "import numpy as np\n",
        "\n",
        "a = np.array([[1], [2], [3]])\n",
        "b = np.array([[4], [5], [6]])\n",
        "\n",
        "result = np.hstack((a, b))\n",
        "print(result)\n"
      ],
      "metadata": {
        "colab": {
          "base_uri": "https://localhost:8080/"
        },
        "id": "i0RexiwA2DaQ",
        "outputId": "364f9fb0-8832-4fed-94d8-2a73a3babb8a"
      },
      "execution_count": 9,
      "outputs": [
        {
          "output_type": "stream",
          "name": "stdout",
          "text": [
            "[[1 4]\n",
            " [2 5]\n",
            " [3 6]]\n"
          ]
        }
      ]
    },
    {
      "cell_type": "markdown",
      "source": [
        "# **8. Explain the differences between fliplr() and flipud() methods in NumPy, including their effects on various array dimensions**\n",
        "\n",
        "| Feature            | `fliplr()`                                   | `flipud()`                                   |\n",
        "|--------------------|---------------------------------------------|---------------------------------------------|\n",
        "| **Purpose**        | Flips the array left to right (horizontally). | Flips the array upside down (vertically).    |\n",
        "| **Axis Affected**  | Affects the columns of the array.           | Affects the rows of the array.               |\n",
        "| **Effect on Shape**| Does not change the shape of the array.     | Does not change the shape of the array.      |\n",
        "| **Usage**          | Commonly used for 2D arrays (matrices) to reverse columns. | Commonly used for 2D arrays (matrices) to reverse rows. |\n",
        "\n",
        "### **Examples**\n",
        "\n",
        "#### Example 1: Using `fliplr()`\n",
        "\n"
      ],
      "metadata": {
        "id": "enIeiU72QsbE"
      }
    },
    {
      "cell_type": "code",
      "source": [
        "\n",
        "import numpy as np\n",
        "\n",
        "a = np.array([[1, 2, 3],\n",
        "              [4, 5, 6]])\n",
        "\n",
        "result = np.fliplr(a)\n",
        "print(result)"
      ],
      "metadata": {
        "colab": {
          "base_uri": "https://localhost:8080/"
        },
        "id": "a81tHbf72RVc",
        "outputId": "d7119ad2-91ee-4dbb-ef64-6de25b950238"
      },
      "execution_count": 10,
      "outputs": [
        {
          "output_type": "stream",
          "name": "stdout",
          "text": [
            "[[3 2 1]\n",
            " [6 5 4]]\n"
          ]
        }
      ]
    },
    {
      "cell_type": "markdown",
      "source": [
        "Example 2: Using flipud()"
      ],
      "metadata": {
        "id": "hlQi8n1i2TrQ"
      }
    },
    {
      "cell_type": "code",
      "source": [
        "import numpy as np\n",
        "\n",
        "a = np.array([[1, 2, 3],\n",
        "              [4, 5, 6]])\n",
        "\n",
        "result = np.flipud(a)\n",
        "print(result)\n"
      ],
      "metadata": {
        "colab": {
          "base_uri": "https://localhost:8080/"
        },
        "id": "u1tSSRjf2XTB",
        "outputId": "fe46e8ac-6b77-435b-df83-8f39bb045de6"
      },
      "execution_count": 11,
      "outputs": [
        {
          "output_type": "stream",
          "name": "stdout",
          "text": [
            "[[4 5 6]\n",
            " [1 2 3]]\n"
          ]
        }
      ]
    },
    {
      "cell_type": "markdown",
      "source": [
        "# **9. Discuss the functionality of the array_split() method in NumPy. How does it handle uneven splits?**\n",
        "\n",
        "| Feature             | `array_split()`                                      |\n",
        "|---------------------|------------------------------------------------------|\n",
        "| **Purpose**         | Splits an array into multiple sub-arrays.            |\n",
        "| **Functionality**   | It allows splitting an array into any number of sub-arrays along a specified axis. |\n",
        "| **Uneven Splits**   | When the array cannot be evenly split, the method distributes the remaining elements across the sub-arrays. Some sub-arrays may contain one extra element to ensure all elements are included. |\n",
        "| **Input Parameters**| Takes the array to split, the number of splits (or an array of indices), and an optional axis. |\n",
        "| **Returns**         | A list of sub-arrays. Each sub-array is a view on the original array. |\n",
        "\n",
        "### **Example**\n"
      ],
      "metadata": {
        "id": "2kW1-AcyQsYM"
      }
    },
    {
      "cell_type": "code",
      "source": [
        "\n",
        "\n",
        "import numpy as np\n",
        "\n",
        "# Creating a 1D array\n",
        "a = np.array([1, 2, 3, 4, 5, 6, 7, 8, 9])\n",
        "\n",
        "# Splitting the array into 4 parts\n",
        "result = np.array_split(a, 4)\n",
        "\n",
        "print(result)\n"
      ],
      "metadata": {
        "colab": {
          "base_uri": "https://localhost:8080/"
        },
        "id": "4idH6vKO2mF1",
        "outputId": "1e093c19-342c-49fa-9943-0795d93c197f"
      },
      "execution_count": 12,
      "outputs": [
        {
          "output_type": "stream",
          "name": "stdout",
          "text": [
            "[array([1, 2, 3]), array([4, 5]), array([6, 7]), array([8, 9])]\n"
          ]
        }
      ]
    },
    {
      "cell_type": "markdown",
      "source": [
        "**Handling Uneven Splits:**\n",
        "\n",
        "If an array cannot be evenly divided, array_split() ensures that all elements are included, with the extra elements distributed across the resulting sub-arrays."
      ],
      "metadata": {
        "id": "lsJ81xc32rrn"
      }
    },
    {
      "cell_type": "markdown",
      "source": [
        "# **10. Explain the concepts of vectorization and broadcasting in NumPy. How do they contribute to efficient array operations?**\n",
        "\n",
        "### **Vectorization in NumPy**\n",
        "\n",
        "| Feature                 | Vectorization in NumPy                              |\n",
        "|-------------------------|-----------------------------------------------------|\n",
        "| **Definition**           | Vectorization refers to the process of performing element-wise operations on entire arrays without the need for explicit loops. |\n",
        "| **Purpose**              | It allows operations to be applied to whole arrays or matrices efficiently, leveraging low-level optimizations. |\n",
        "| **How it Works**         | Instead of using Python loops to iterate over array elements, NumPy applies the operation directly to the entire array or specific slices. |\n",
        "| **Benefits**             | Faster execution, more concise code, and better memory efficiency. |\n",
        "| **Example**              | Instead of looping over an array to add 5 to each element, vectorization lets you do `a + 5` directly on the array. |\n",
        "\n"
      ],
      "metadata": {
        "id": "igDfXzdcQsVc"
      }
    },
    {
      "cell_type": "code",
      "source": [
        "import numpy as np\n",
        "\n",
        "a = np.array([1, 2, 3, 4])\n",
        "b = a + 5  # Vectorized operation\n",
        "print(b)\n"
      ],
      "metadata": {
        "colab": {
          "base_uri": "https://localhost:8080/"
        },
        "id": "Htdy0yhS3gPX",
        "outputId": "64f3ea05-fb5f-4dac-8369-d1e0011ffd39"
      },
      "execution_count": 13,
      "outputs": [
        {
          "output_type": "stream",
          "name": "stdout",
          "text": [
            "[6 7 8 9]\n"
          ]
        }
      ]
    },
    {
      "cell_type": "code",
      "source": [
        "import numpy as np\n",
        "\n",
        "a = np.array([1, 2, 3])\n",
        "b = np.array([4])\n",
        "\n",
        "# Broadcasting 'b' to match the shape of 'a'\n",
        "result = a + b\n",
        "print(result)\n"
      ],
      "metadata": {
        "colab": {
          "base_uri": "https://localhost:8080/"
        },
        "id": "tL3aSZ6N3Hfx",
        "outputId": "5ef10c34-e611-408d-9aa1-0d7fae71d52b"
      },
      "execution_count": 14,
      "outputs": [
        {
          "output_type": "stream",
          "name": "stdout",
          "text": [
            "[5 6 7]\n"
          ]
        }
      ]
    },
    {
      "cell_type": "markdown",
      "source": [
        "**How Vectorization and Broadcasting Contribute to Efficient Array Operations**\n",
        "\n",
        "**1. Vectorization:**\n",
        "\n",
        "Eliminates the need for explicit loops, making the code cleaner and faster.\n",
        "Operations on entire arrays are optimized internally, leading to significant performance improvements, especially with large datasets.\n",
        "\n",
        "**2. Broadcasting:**\n",
        "\n",
        "Enables operations between arrays of different shapes without needing to replicate data manually, saving memory and computational overhead.\n",
        "It automatically adjusts the smaller array's shape to fit the larger one, allowing for element-wise operations to occur seamlessly across different dimensions.\n",
        "Together, vectorization and broadcasting make NumPy highly efficient for numerical computations, as they reduce the amount of code, memory usage, and computational time while maximizing performance."
      ],
      "metadata": {
        "id": "fflIbicQ3rYO"
      }
    },
    {
      "cell_type": "code",
      "source": [],
      "metadata": {
        "id": "I_JfHQMz3HRn"
      },
      "execution_count": null,
      "outputs": []
    },
    {
      "cell_type": "markdown",
      "source": [
        "# **Practical Questions:**"
      ],
      "metadata": {
        "id": "1TFZMfg0QsGs"
      }
    },
    {
      "cell_type": "markdown",
      "source": [
        "# **1. Create a 3x3 NumPy array with random integers between 1 and 100. Then, interchange its rows and columns**"
      ],
      "metadata": {
        "id": "uTQ9XZD2Ryd9"
      }
    },
    {
      "cell_type": "code",
      "source": [
        "import random\n",
        "import numpy as np\n",
        "arr = np.random.randint(1,100,(3,3))\n",
        "arr"
      ],
      "metadata": {
        "colab": {
          "base_uri": "https://localhost:8080/"
        },
        "id": "1yMRp9VIS5Fy",
        "outputId": "bc485a62-e5d2-4c14-e7fc-4c11dcdc1fe5"
      },
      "execution_count": null,
      "outputs": [
        {
          "output_type": "execute_result",
          "data": {
            "text/plain": [
              "array([[91,  9, 85],\n",
              "       [58, 86, 33],\n",
              "       [ 3, 91, 25]])"
            ]
          },
          "metadata": {},
          "execution_count": 2
        }
      ]
    },
    {
      "cell_type": "markdown",
      "source": [
        "# **2. Generate a 1D NumPy array with 10 elements. Reshape it into a 2x5 array, then into a 5x2 array.**"
      ],
      "metadata": {
        "id": "n-ASu9HJR1b_"
      }
    },
    {
      "cell_type": "code",
      "source": [
        "import numpy as np\n",
        "\n",
        "# Step 1: Generate a 1D array with 10 elements\n",
        "array_1d = np.arange(10)\n",
        "\n",
        "# Step 2: Reshape it into a 2x5 array\n",
        "array_2x5 = array_1d.reshape(2, 5)\n",
        "\n",
        "# Step 3: Reshape it into a 5x2 array\n",
        "array_5x2 = array_1d.reshape(5, 2)\n",
        "\n",
        "print(\"1D array with 10 elements:\")\n",
        "print(array_1d)\n",
        "print(\"\\nReshaped into a 2x5 array:\")\n",
        "print(array_2x5)\n",
        "print(\"\\nReshaped into a 5x2 array:\")\n",
        "print(array_5x2)\n"
      ],
      "metadata": {
        "colab": {
          "base_uri": "https://localhost:8080/"
        },
        "id": "6JTRz3n6Tv05",
        "outputId": "9c2908d7-4346-4aae-8459-5a52ef570174"
      },
      "execution_count": null,
      "outputs": [
        {
          "output_type": "stream",
          "name": "stdout",
          "text": [
            "1D array with 10 elements:\n",
            "[0 1 2 3 4 5 6 7 8 9]\n",
            "\n",
            "Reshaped into a 2x5 array:\n",
            "[[0 1 2 3 4]\n",
            " [5 6 7 8 9]]\n",
            "\n",
            "Reshaped into a 5x2 array:\n",
            "[[0 1]\n",
            " [2 3]\n",
            " [4 5]\n",
            " [6 7]\n",
            " [8 9]]\n"
          ]
        }
      ]
    },
    {
      "cell_type": "markdown",
      "source": [
        "# **3. Create a 4x4 NumPy array with random float values. Add a border of zeros around it, resulting in a 6x6 array.**"
      ],
      "metadata": {
        "id": "eU8OypvcR1YW"
      }
    },
    {
      "cell_type": "code",
      "source": [
        "import numpy as np\n",
        "\n",
        "# Step 1: Create a 4x4 array with random float values\n",
        "array_4x4 = np.random.rand(4, 4)\n",
        "\n",
        "# Step 2: Add a border of zeros around it to make a 6x6 array\n",
        "array_6x6 = np.pad(array_4x4, pad_width=1, mode='constant', constant_values=0)\n",
        "\n",
        "print(\"4x4 array with random float values:\")\n",
        "print(array_4x4)\n",
        "print(\"\\n6x6 array with a border of zeros:\")\n",
        "print(array_6x6)\n"
      ],
      "metadata": {
        "colab": {
          "base_uri": "https://localhost:8080/"
        },
        "id": "HF4Q8UYblnBA",
        "outputId": "d4728570-e1d9-42de-cf28-3ba0a8271fc3"
      },
      "execution_count": null,
      "outputs": [
        {
          "output_type": "stream",
          "name": "stdout",
          "text": [
            "4x4 array with random float values:\n",
            "[[0.47846166 0.03413513 0.2489064  0.6506092 ]\n",
            " [0.40560561 0.62182186 0.39971004 0.10434056]\n",
            " [0.87603299 0.47386329 0.39290546 0.59638646]\n",
            " [0.72021445 0.12460527 0.96473619 0.58686777]]\n",
            "\n",
            "6x6 array with a border of zeros:\n",
            "[[0.         0.         0.         0.         0.         0.        ]\n",
            " [0.         0.47846166 0.03413513 0.2489064  0.6506092  0.        ]\n",
            " [0.         0.40560561 0.62182186 0.39971004 0.10434056 0.        ]\n",
            " [0.         0.87603299 0.47386329 0.39290546 0.59638646 0.        ]\n",
            " [0.         0.72021445 0.12460527 0.96473619 0.58686777 0.        ]\n",
            " [0.         0.         0.         0.         0.         0.        ]]\n"
          ]
        }
      ]
    },
    {
      "cell_type": "markdown",
      "source": [
        "# **4. Using NumPy, create an array of integers from 10 to 60 with a step of 5**"
      ],
      "metadata": {
        "id": "8VdkSTWiR1TL"
      }
    },
    {
      "cell_type": "code",
      "source": [
        "import numpy as np\n",
        "\n",
        "# Create an array of integers from 10 to 60 with a step of 5\n",
        "array = np.arange(10, 65, 5)\n",
        "print(array)\n"
      ],
      "metadata": {
        "colab": {
          "base_uri": "https://localhost:8080/"
        },
        "id": "Nf_S3ElWqW3K",
        "outputId": "f2ea22ce-0463-43ec-d9e6-6bc981603275"
      },
      "execution_count": null,
      "outputs": [
        {
          "output_type": "stream",
          "name": "stdout",
          "text": [
            "[10 15 20 25 30 35 40 45 50 55 60]\n"
          ]
        }
      ]
    },
    {
      "cell_type": "markdown",
      "source": [
        "# **5. Create a NumPy array of strings ['python', 'numpy', 'pandas']. Apply different case transformations (uppercase, lowercase, title case, etc.) to each element.**"
      ],
      "metadata": {
        "id": "rfGW5efyR1Qq"
      }
    },
    {
      "cell_type": "code",
      "source": [
        "import numpy as np\n",
        "\n",
        "# Step 1: Create a NumPy array of strings\n",
        "arr = np.array(['python', 'numpy', 'pandas'])\n",
        "\n",
        "# Step 2: Apply different case transformations\n",
        "uppercase_arr = np.char.upper(arr)   # Convert to uppercase\n",
        "lowercase_arr = np.char.lower(arr)   # Convert to lowercase\n",
        "titlecase_arr = np.char.title(arr)   # Convert to title case\n",
        "capitalize_arr = np.char.capitalize(arr)  # Capitalize first letter only\n",
        "\n",
        "# Step 3: Print the results\n",
        "print(\"Original array:\", arr)\n",
        "print(\"Uppercase:\", uppercase_arr)\n",
        "print(\"Lowercase:\", lowercase_arr)\n",
        "print(\"Title case:\", titlecase_arr)\n",
        "print(\"Capitalize:\", capitalize_arr)\n"
      ],
      "metadata": {
        "colab": {
          "base_uri": "https://localhost:8080/"
        },
        "id": "W-sMu--daCHV",
        "outputId": "a9a09817-42ad-4b1a-c963-4dcdb3606863"
      },
      "execution_count": null,
      "outputs": [
        {
          "output_type": "stream",
          "name": "stdout",
          "text": [
            "Original array: ['python' 'numpy' 'pandas']\n",
            "Uppercase: ['PYTHON' 'NUMPY' 'PANDAS']\n",
            "Lowercase: ['python' 'numpy' 'pandas']\n",
            "Title case: ['Python' 'Numpy' 'Pandas']\n",
            "Capitalize: ['Python' 'Numpy' 'Pandas']\n"
          ]
        }
      ]
    },
    {
      "cell_type": "markdown",
      "source": [
        "# **6. Generate a NumPy array of words. Insert a space between each character of every word in the array.**"
      ],
      "metadata": {
        "id": "E2Agvb7PR1OA"
      }
    },
    {
      "cell_type": "code",
      "source": [
        "import numpy as np\n",
        "\n",
        "# Step 1: Create a NumPy array of words\n",
        "words = np.array(['python', 'numpy', 'pandas'])\n",
        "\n",
        "# Step 2: Insert a space between each character of every word\n",
        "spaced_words = np.char.join(' ', words)\n",
        "\n",
        "# Step 3: Print the result\n",
        "print(\"Original words:\", words)\n",
        "print(\"Words with spaces between characters:\", spaced_words)\n"
      ],
      "metadata": {
        "id": "UMjJbkkYbfd3",
        "colab": {
          "base_uri": "https://localhost:8080/"
        },
        "outputId": "9918e88e-4ee8-44b0-cc44-1d4b71da6f22"
      },
      "execution_count": null,
      "outputs": [
        {
          "output_type": "stream",
          "name": "stdout",
          "text": [
            "Original words: ['python' 'numpy' 'pandas']\n",
            "Words with spaces between characters: ['p y t h o n' 'n u m p y' 'p a n d a s']\n"
          ]
        }
      ]
    },
    {
      "cell_type": "markdown",
      "source": [
        "# **7. Create two 2D NumPy arrays and perform element-wise addition, subtraction, multiplication, and division.**"
      ],
      "metadata": {
        "id": "H94ZdVY9R1LX"
      }
    },
    {
      "cell_type": "code",
      "source": [],
      "metadata": {
        "id": "V5Beanvy3SAm"
      },
      "execution_count": null,
      "outputs": []
    },
    {
      "cell_type": "code",
      "source": [
        "import numpy as np\n",
        "# Create first NumPy array of words\n",
        "arr1 = np.array([ [ 1,  2,  3,  4],\n",
        "                  [ 5,  6,  7,  8],\n",
        "                  [ 9, 10, 11, 12]])\n",
        "\n",
        "\n",
        "# Create 2nd NumPy array of words\n",
        "\n",
        "arr2 = np.array([[13,14,15,16],\n",
        "                 [17,18,19,20],\n",
        "                 [21,22,23,24]])\n",
        "\n",
        "# Element wise addition\n",
        "addition = np.add(arr1,arr2)\n",
        "print(\"additon :-\",  addition)\n",
        "\n",
        "\n",
        "# Element wise subtraction\n",
        "subtraction = np.subtract(arr2,arr1)\n",
        "print(\"subtraction :-\",subtraction)\n",
        "\n",
        "\n",
        "# Element wise multiplication\n",
        "multiplication = np.multiply(arr1,arr2)\n",
        "print(\"multiplication :-\",multiplication)\n",
        "\n",
        "\n",
        "# Element wise division\n",
        "division= np.divide(arr2,arr1)\n",
        "print(\"division :-\",division)"
      ],
      "metadata": {
        "id": "mtTntfCJ2ZKT",
        "colab": {
          "base_uri": "https://localhost:8080/"
        },
        "outputId": "5406c96d-abbc-4220-a7e3-46341c03322d"
      },
      "execution_count": null,
      "outputs": [
        {
          "output_type": "stream",
          "name": "stdout",
          "text": [
            "additon :- [[14 16 18 20]\n",
            " [22 24 26 28]\n",
            " [30 32 34 36]]\n",
            "subtraction :- [[12 12 12 12]\n",
            " [12 12 12 12]\n",
            " [12 12 12 12]]\n",
            "multiplication :- [[ 13  28  45  64]\n",
            " [ 85 108 133 160]\n",
            " [189 220 253 288]]\n",
            "division :- [[13.          7.          5.          4.        ]\n",
            " [ 3.4         3.          2.71428571  2.5       ]\n",
            " [ 2.33333333  2.2         2.09090909  2.        ]]\n"
          ]
        }
      ]
    },
    {
      "cell_type": "markdown",
      "source": [
        "# **8. Use NumPy to create a 5x5 identity matrix, then extract its diagonal elements.**"
      ],
      "metadata": {
        "id": "1ksbSV2ER1In"
      }
    },
    {
      "cell_type": "code",
      "source": [
        "import numpy as np\n",
        "\n",
        "# Create a 5x5 identity matrix\n",
        "identity_matrix = np.eye(5)\n",
        "\n",
        "# Extract diagonal elements\n",
        "diagonal_elements = np.diag(identity_matrix)\n",
        "\n",
        "print(\"5x5 Identity Matrix:\")\n",
        "print(identity_matrix)\n",
        "\n",
        "print(\"\\nDiagonal Elements:\")\n",
        "print(diagonal_elements)\n"
      ],
      "metadata": {
        "colab": {
          "base_uri": "https://localhost:8080/"
        },
        "id": "QYcBnLRjiY2m",
        "outputId": "54a4549c-c513-4efd-8d03-ad0ab9a48bd5"
      },
      "execution_count": null,
      "outputs": [
        {
          "output_type": "stream",
          "name": "stdout",
          "text": [
            "5x5 Identity Matrix:\n",
            "[[1. 0. 0. 0. 0.]\n",
            " [0. 1. 0. 0. 0.]\n",
            " [0. 0. 1. 0. 0.]\n",
            " [0. 0. 0. 1. 0.]\n",
            " [0. 0. 0. 0. 1.]]\n",
            "\n",
            "Diagonal Elements:\n",
            "[1. 1. 1. 1. 1.]\n"
          ]
        }
      ]
    },
    {
      "cell_type": "markdown",
      "source": [
        "# **9. Generate a NumPy array of 100 random integers between 0 and 1000. Find and display all prime numbers in this array.**"
      ],
      "metadata": {
        "id": "Xr-UlJeHR1F9"
      }
    },
    {
      "cell_type": "code",
      "source": [
        "import numpy as np\n",
        "\n",
        "# Helper function to check if a number is prime\n",
        "def is_prime(num):\n",
        "    if num < 2:  # Numbers less than 2 are not prime\n",
        "        return False\n",
        "    for i in range(2, int(num**0.5) + 1):  # Check divisors up to the square root of the number\n",
        "        if num % i == 0:\n",
        "            return False\n",
        "    return True\n",
        "\n",
        "# Generate a NumPy array of 100 random integers between 0 and 1000\n",
        "random_array = np.random.randint(0, 1000, size=100)\n",
        "\n",
        "# Extract prime numbers from the array\n",
        "prime_numbers = [num for num in random_array if is_prime(num)]\n",
        "\n",
        "# Display results\n",
        "print(\"Random Array:\", random_array)\n",
        "print(\"Prime Numbers:\", prime_numbers)\n"
      ],
      "metadata": {
        "colab": {
          "base_uri": "https://localhost:8080/"
        },
        "id": "ZWvkij8KnTy6",
        "outputId": "adb5831a-4be3-4fb0-fa22-338200b3246c"
      },
      "execution_count": null,
      "outputs": [
        {
          "output_type": "stream",
          "name": "stdout",
          "text": [
            "Random Array: [982 384 776 123 762 123 208 966 568  16 948 657 414 258 311 660 746  30\n",
            "  43 233 197 102 517 644 132  92  23 218 425 611 599 307 836 628 410 647\n",
            " 369 528 951 956   5 909 457 243 131 191 249 503 912 956 867 192 131 744\n",
            " 554 254  83 277 555  60 614 490 486 314 365  59 634 995 292 242 367 776\n",
            " 776 119 988 238 659 978 473  43 157 665 877 536 818 800 706 850 600 142\n",
            " 575 781  26 172 194 593 819 816 601 723]\n",
            "Prime Numbers: [311, 43, 233, 197, 23, 599, 307, 647, 5, 457, 131, 191, 503, 131, 83, 277, 59, 367, 659, 43, 157, 877, 593, 601]\n"
          ]
        }
      ]
    },
    {
      "cell_type": "markdown",
      "source": [
        "# **10. Create a NumPy array representing daily temperatures for a month. Calculate and display the weekly averages.**"
      ],
      "metadata": {
        "id": "AV8vShcuR1DM"
      }
    },
    {
      "cell_type": "code",
      "source": [
        "import numpy as np\n",
        "\n",
        "# Generate a NumPy array of daily temperatures for 30 days\n",
        "daily_temperatures = np.random.randint(20, 40, size=30)  # Temperatures between 20°C and 40°C\n",
        "\n",
        "# Divide the array into weeks (4 weeks of 7 days each and 2 extra days)\n",
        "weeks = daily_temperatures[:28].reshape(4, 7)  # First 28 days into 4 weeks of 7 days\n",
        "remaining_days = daily_temperatures[28:]  # Last 2 days\n",
        "\n",
        "# Calculate weekly averages\n",
        "weekly_averages = np.mean(weeks, axis=1)\n",
        "\n",
        "# Handle the remaining days\n",
        "if len(remaining_days) > 0:\n",
        "    remaining_average = np.mean(remaining_days)\n",
        "    weekly_averages = np.append(weekly_averages, remaining_average)\n",
        "\n",
        "# Display results\n",
        "print(\"Daily Temperatures:\", daily_temperatures)\n",
        "print(\"Weekly Averages:\", weekly_averages)\n"
      ],
      "metadata": {
        "id": "O-UxtpYcX_QM",
        "colab": {
          "base_uri": "https://localhost:8080/"
        },
        "outputId": "7b08c8af-1ac0-447f-ff58-6d3143746ac1"
      },
      "execution_count": null,
      "outputs": [
        {
          "output_type": "stream",
          "name": "stdout",
          "text": [
            "Daily Temperatures: [26 24 21 39 22 27 20 30 33 29 39 38 35 35 37 36 37 26 21 20 20 20 35 29\n",
            " 26 21 27 27 30 24]\n",
            "Weekly Averages: [25.57142857 34.14285714 28.14285714 26.42857143 27.        ]\n"
          ]
        }
      ]
    },
    {
      "cell_type": "code",
      "source": [],
      "metadata": {
        "id": "el-FsVkEYBDi"
      },
      "execution_count": null,
      "outputs": []
    },
    {
      "cell_type": "code",
      "source": [],
      "metadata": {
        "id": "_XwbLItLYAy5"
      },
      "execution_count": null,
      "outputs": []
    }
  ]
}