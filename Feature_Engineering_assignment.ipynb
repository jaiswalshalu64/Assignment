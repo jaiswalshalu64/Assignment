{
  "cells": [
    {
      "cell_type": "markdown",
      "id": "8bc81367",
      "metadata": {
        "id": "8bc81367"
      },
      "source": [
        "### Question 1: What is a parameter?"
      ]
    },
    {
      "cell_type": "markdown",
      "id": "627166a6",
      "metadata": {
        "id": "627166a6"
      },
      "source": [
        "**Answer:**\n",
        "\n",
        "A parameter is a variable that the model learns during training. For example, weights and biases in a neural network are parameters."
      ]
    },
    {
      "cell_type": "markdown",
      "id": "693ccd14",
      "metadata": {
        "id": "693ccd14"
      },
      "source": [
        "### Question 2: What is correlation? What does negative correlation mean?"
      ]
    },
    {
      "cell_type": "markdown",
      "id": "20e64ae5",
      "metadata": {
        "id": "20e64ae5"
      },
      "source": [
        "**Answer:**\n",
        "\n",
        "Correlation measures the strength and direction of a linear relationship between two variables. Negative correlation means that as one variable increases, the other decreases."
      ]
    },
    {
      "cell_type": "markdown",
      "id": "f836fdc6",
      "metadata": {
        "id": "f836fdc6"
      },
      "source": [
        "### Question 3: Define Machine Learning. What are the main components in Machine Learning?"
      ]
    },
    {
      "cell_type": "markdown",
      "id": "bf9af052",
      "metadata": {
        "id": "bf9af052"
      },
      "source": [
        "**Answer:**\n",
        "\n",
        "Machine Learning is a subset of artificial intelligence where systems learn from data to make predictions or decisions. The main components include:\n",
        "- Data\n",
        "- Algorithms\n",
        "- Models\n",
        "- Training\n",
        "- Evaluation."
      ]
    },
    {
      "cell_type": "markdown",
      "id": "c6522acb",
      "metadata": {
        "id": "c6522acb"
      },
      "source": [
        "### Question 4: How does loss value help in determining whether the model is good or not?"
      ]
    },
    {
      "cell_type": "markdown",
      "id": "30397fe2",
      "metadata": {
        "id": "30397fe2"
      },
      "source": [
        "**Answer:**\n",
        "\n",
        "The loss value indicates how well the model's predictions match the true values. A lower loss value implies better model performance."
      ]
    },
    {
      "cell_type": "markdown",
      "id": "cbaaa0aa",
      "metadata": {
        "id": "cbaaa0aa"
      },
      "source": [
        "### Question 5: What are continuous and categorical variables?"
      ]
    },
    {
      "cell_type": "markdown",
      "id": "5f19d411",
      "metadata": {
        "id": "5f19d411"
      },
      "source": [
        "**Answer:**\n",
        "\n",
        "Continuous variables are numerical and can take any value within a range (e.g., height, weight). Categorical variables represent categories or groups (e.g., colors, gender)."
      ]
    },
    {
      "cell_type": "markdown",
      "id": "9ce14117",
      "metadata": {
        "id": "9ce14117"
      },
      "source": [
        "### Question 6: How do we handle categorical variables in Machine Learning? What are the common techniques?"
      ]
    },
    {
      "cell_type": "markdown",
      "id": "a8a72846",
      "metadata": {
        "id": "a8a72846"
      },
      "source": [
        "**Answer:**\n",
        "\n",
        "Categorical variables can be handled using techniques such as:\n",
        "- Label Encoding\n",
        "- One-Hot Encoding\n",
        "- Target Encoding."
      ]
    },
    {
      "cell_type": "markdown",
      "id": "83344c59",
      "metadata": {
        "id": "83344c59"
      },
      "source": [
        "### Question 7: What do you mean by training and testing a dataset?"
      ]
    },
    {
      "cell_type": "markdown",
      "id": "52cbddbf",
      "metadata": {
        "id": "52cbddbf"
      },
      "source": [
        "**Answer:**\n",
        "\n",
        "Training a dataset involves using it to teach the model to learn patterns. Testing evaluates the model's performance on unseen data."
      ]
    },
    {
      "cell_type": "markdown",
      "id": "79604730",
      "metadata": {
        "id": "79604730"
      },
      "source": [
        "### Question 8: What is sklearn.preprocessing?"
      ]
    },
    {
      "cell_type": "markdown",
      "id": "232a98dc",
      "metadata": {
        "id": "232a98dc"
      },
      "source": [
        "**Answer:**\n",
        "\n",
        "The sklearn.preprocessing module provides tools for data preprocessing, such as scaling, encoding, and normalizing."
      ]
    },
    {
      "cell_type": "markdown",
      "id": "f06ee3b3",
      "metadata": {
        "id": "f06ee3b3"
      },
      "source": [
        "### Question 9: What is a Test set?"
      ]
    },
    {
      "cell_type": "markdown",
      "id": "5849fc81",
      "metadata": {
        "id": "5849fc81"
      },
      "source": [
        "**Answer:**\n",
        "\n",
        "A Test set is a portion of the dataset used to evaluate the model's performance after training."
      ]
    },
    {
      "cell_type": "markdown",
      "id": "0dcdf9c9",
      "metadata": {
        "id": "0dcdf9c9"
      },
      "source": [
        "### Question 10: How do we split data for model fitting (training and testing) in Python? How do you approach a Machine Learning problem?"
      ]
    },
    {
      "cell_type": "markdown",
      "id": "1b5b23b3",
      "metadata": {
        "id": "1b5b23b3"
      },
      "source": [
        "**Answer:**\n",
        "\n",
        "Data splitting can be done using `train_test_split` from sklearn. For example:\n",
        "```python\n",
        "from sklearn.model_selection import train_test_split\n",
        "X_train, X_test, y_train, y_test = train_test_split(X, y, test_size=0.2, random_state=42)\n",
        "```\n",
        "Approaching a ML problem involves:\n",
        "1. Understanding the problem\n",
        "2. Collecting and cleaning data\n",
        "3. Feature engineering\n",
        "4. Choosing a model\n",
        "5. Training and tuning\n",
        "6. Evaluating and deploying."
      ]
    },
    {
      "cell_type": "markdown",
      "id": "6908d79e",
      "metadata": {
        "id": "6908d79e"
      },
      "source": [
        "### Question 11: Why do we have to perform EDA before fitting a model to the data?"
      ]
    },
    {
      "cell_type": "markdown",
      "id": "042d1cf7",
      "metadata": {
        "id": "042d1cf7"
      },
      "source": [
        "**Answer:**\n",
        "\n",
        "Exploratory Data Analysis (EDA) helps understand the dataset, identify patterns, and detect missing or anomalous data, ensuring better model performance."
      ]
    },
    {
      "cell_type": "markdown",
      "id": "ba860eb7",
      "metadata": {
        "id": "ba860eb7"
      },
      "source": [
        "### Question 12: What is correlation? What does negative correlation mean?"
      ]
    },
    {
      "cell_type": "markdown",
      "id": "ff56e161",
      "metadata": {
        "id": "ff56e161"
      },
      "source": [
        "**Answer:**\n",
        "\n",
        "Correlation measures the relationship between two variables. Negative correlation means one variable decreases as the other increases."
      ]
    },
    {
      "cell_type": "markdown",
      "id": "0a416d6d",
      "metadata": {
        "id": "0a416d6d"
      },
      "source": [
        "### Question 13: How can you find correlation between variables in Python?"
      ]
    },
    {
      "cell_type": "markdown",
      "id": "4c69ad0f",
      "metadata": {
        "id": "4c69ad0f"
      },
      "source": [
        "**Answer:**\n",
        "\n",
        "You can use pandas' `.corr()` method:\n",
        "```python\n",
        "import pandas as pd\n",
        "correlation = df.corr()\n",
        "```"
      ]
    },
    {
      "cell_type": "markdown",
      "id": "71dbf080",
      "metadata": {
        "id": "71dbf080"
      },
      "source": [
        "### Question 14: What is causation? Explain difference between correlation and causation with an example."
      ]
    },
    {
      "cell_type": "markdown",
      "id": "e6b96b47",
      "metadata": {
        "id": "e6b96b47"
      },
      "source": [
        "**Answer:**\n",
        "\n",
        "Causation implies that one variable directly affects another. Correlation is just a relationship.\n",
        "Example:\n",
        "- Correlation: Ice cream sales and drowning incidents increase in summer.\n",
        "- Causation: More sunlight increases temperature."
      ]
    },
    {
      "cell_type": "markdown",
      "id": "a3fe05f6",
      "metadata": {
        "id": "a3fe05f6"
      },
      "source": [
        "### Question 15: What is an Optimizer? What are different types of optimizers? Explain each with an example."
      ]
    },
    {
      "cell_type": "markdown",
      "id": "71f36fa1",
      "metadata": {
        "id": "71f36fa1"
      },
      "source": [
        "**Answer:**\n",
        "\n",
        "An optimizer adjusts the model's parameters to minimize the loss function. Examples of optimizers:\n",
        "- SGD (Stochastic Gradient Descent)\n",
        "- Adam (Adaptive Moment Estimation)\n",
        "- RMSprop."
      ]
    },
    {
      "cell_type": "markdown",
      "id": "8b628b58",
      "metadata": {
        "id": "8b628b58"
      },
      "source": [
        "### Question 16: What is sklearn.linear_model?"
      ]
    },
    {
      "cell_type": "markdown",
      "id": "bff8dda7",
      "metadata": {
        "id": "bff8dda7"
      },
      "source": [
        "**Answer:**\n",
        "\n",
        "The sklearn.linear_model module provides linear models like Linear Regression, Logistic Regression, etc."
      ]
    },
    {
      "cell_type": "markdown",
      "id": "c76d1f82",
      "metadata": {
        "id": "c76d1f82"
      },
      "source": [
        "### Question 17: What does model.fit() do? What arguments must be given?"
      ]
    },
    {
      "cell_type": "markdown",
      "id": "6180dcb0",
      "metadata": {
        "id": "6180dcb0"
      },
      "source": [
        "**Answer:**\n",
        "\n",
        "The `model.fit()` method trains the model on the provided data. Arguments include:\n",
        "- Input data (X)\n",
        "- Target labels (y)."
      ]
    },
    {
      "cell_type": "markdown",
      "id": "f715402a",
      "metadata": {
        "id": "f715402a"
      },
      "source": [
        "### Question 18: What does model.predict() do? What arguments must be given?"
      ]
    },
    {
      "cell_type": "markdown",
      "id": "7e7200e2",
      "metadata": {
        "id": "7e7200e2"
      },
      "source": [
        "**Answer:**\n",
        "\n",
        "The `model.predict()` method makes predictions using the trained model. Arguments include input data (X)."
      ]
    },
    {
      "cell_type": "markdown",
      "id": "5d97262a",
      "metadata": {
        "id": "5d97262a"
      },
      "source": [
        "### Question 19: What are continuous and categorical variables?"
      ]
    },
    {
      "cell_type": "markdown",
      "id": "bf6235fa",
      "metadata": {
        "id": "bf6235fa"
      },
      "source": [
        "**Answer:**\n",
        "\n",
        "Continuous variables are numeric and can have any value. Categorical variables represent discrete categories."
      ]
    },
    {
      "cell_type": "markdown",
      "id": "71951d0d",
      "metadata": {
        "id": "71951d0d"
      },
      "source": [
        "### Question 20: What is feature scaling? How does it help in Machine Learning?"
      ]
    },
    {
      "cell_type": "markdown",
      "id": "b9fc2091",
      "metadata": {
        "id": "b9fc2091"
      },
      "source": [
        "**Answer:**\n",
        "\n",
        "Feature scaling standardizes the range of input features. It improves model performance by ensuring features contribute equally."
      ]
    },
    {
      "cell_type": "markdown",
      "id": "0e4360b9",
      "metadata": {
        "id": "0e4360b9"
      },
      "source": [
        "### Question 21: How do we perform scaling in Python?"
      ]
    },
    {
      "cell_type": "markdown",
      "id": "1cc28c9c",
      "metadata": {
        "id": "1cc28c9c"
      },
      "source": [
        "**Answer:**\n",
        "\n",
        "Scaling can be done using `StandardScaler` or `MinMaxScaler` from sklearn:\n",
        "```python\n",
        "from sklearn.preprocessing import StandardScaler\n",
        "scaler = StandardScaler()\n",
        "scaled_data = scaler.fit_transform(data)\n",
        "```"
      ]
    },
    {
      "cell_type": "markdown",
      "id": "5cdbb87e",
      "metadata": {
        "id": "5cdbb87e"
      },
      "source": [
        "### Question 22: What is sklearn.preprocessing?"
      ]
    },
    {
      "cell_type": "markdown",
      "id": "edbd2926",
      "metadata": {
        "id": "edbd2926"
      },
      "source": [
        "**Answer:**\n",
        "\n",
        "It is a module for data preprocessing, including scaling, encoding, and normalization."
      ]
    },
    {
      "cell_type": "markdown",
      "id": "03b7c3ef",
      "metadata": {
        "id": "03b7c3ef"
      },
      "source": [
        "### Question 23: How do we split data for model fitting (training and testing) in Python?"
      ]
    },
    {
      "cell_type": "markdown",
      "id": "ffdc74be",
      "metadata": {
        "id": "ffdc74be"
      },
      "source": [
        "**Answer:**\n",
        "\n",
        "We use the `train_test_split` function:\n",
        "```python\n",
        "from sklearn.model_selection import train_test_split\n",
        "X_train, X_test, y_train, y_test = train_test_split(X, y, test_size=0.2, random_state=42)\n",
        "```"
      ]
    },
    {
      "cell_type": "markdown",
      "id": "48352301",
      "metadata": {
        "id": "48352301"
      },
      "source": [
        "### Question 24: Explain data encoding."
      ]
    },
    {
      "cell_type": "markdown",
      "id": "205dd487",
      "metadata": {
        "id": "205dd487"
      },
      "source": [
        "**Answer:**\n",
        "\n",
        "Data encoding converts categorical data into numerical format. Techniques include:\n",
        "- Label Encoding\n",
        "- One-Hot Encoding."
      ]
    }
  ],
  "metadata": {
    "colab": {
      "provenance": []
    }
  },
  "nbformat": 4,
  "nbformat_minor": 5
}