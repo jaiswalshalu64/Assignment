{
  "nbformat": 4,
  "nbformat_minor": 0,
  "metadata": {
    "colab": {
      "provenance": []
    },
    "kernelspec": {
      "name": "python3",
      "display_name": "Python 3"
    },
    "language_info": {
      "name": "python"
    }
  },
  "cells": [
    {
      "cell_type": "code",
      "execution_count": null,
      "metadata": {
        "id": "HM9b7kvrrvtF"
      },
      "outputs": [],
      "source": []
    },
    {
      "cell_type": "markdown",
      "source": [
        "# **Q1 Discuss string slicing and provide examples.**\n",
        "\n",
        "\n",
        "String slicing in Python is a method that allows you to extract a portion of a string by specifying a range of indices. Python strings are immutable, meaning you can't modify them directly, but you can slice them to retrieve substrings. The slicing process involves specifying a start, stop, and step to access a sequence of characters from the original string.\n",
        "\n",
        "**Basic Syntax of String Slicing:**\n",
        "\n",
        "string[start:stop:step]\n",
        "\n",
        "**start:** The starting index (inclusive). The slice begins at this index.\n",
        "\n",
        "**stop:** The ending index (exclusive). The slice ends just before this index.\n",
        "\n",
        "**step:** The number of steps to jump between each character in the slice. If omitted, the step is considered 1 by default.\n",
        "\n",
        "\n",
        "**Important Points:**\n",
        "\n",
        "**Indexing starts from 0:** The first character has an index of 0, the second character has an index of 1, and so on.\n",
        "\n",
        "If the **start** or **stop** index is omitted, the slicing will assume the beginning or the end of the string by default.\n",
        "\n",
        "If **step** is omitted, it defaults to 1, meaning the slice will include every character in the range from start to stop.\n",
        "\n",
        "\n",
        "\n",
        "**Examples:**\n",
        "\n",
        "**1 Basic Slicing:**"
      ],
      "metadata": {
        "id": "Z34xCLR2r4eR"
      }
    },
    {
      "cell_type": "code",
      "source": [
        "string = \"Hello, Python!\"\n",
        "# Extract characters from index 0 to 4 (stop is exclusive)\n",
        "slice1 = string[0:5]\n",
        "print(slice1)  # Output: Hello\n"
      ],
      "metadata": {
        "colab": {
          "base_uri": "https://localhost:8080/"
        },
        "id": "EAUmTm6ouRV7",
        "outputId": "fcf838a1-f300-4673-fdb1-d6b60478d1e7"
      },
      "execution_count": 1,
      "outputs": [
        {
          "output_type": "stream",
          "name": "stdout",
          "text": [
            "Hello\n"
          ]
        }
      ]
    },
    {
      "cell_type": "markdown",
      "source": [
        "**2 Omitting Start or Stop:**\n",
        "\n",
        "**Omitting** start: If you omit the start index, slicing starts from the beginning.\n",
        "\n",
        "**Omitting** stop: If you omit the stop index, slicing goes until the end of the string."
      ],
      "metadata": {
        "id": "y60D8R7GuYt7"
      }
    },
    {
      "cell_type": "code",
      "source": [
        "string = \"Hello, Python!\"\n",
        "print(string[:5])   # Output: Hello (starts from index 0)\n",
        "print(string[7:])   # Output: Python! (goes until the end)\n"
      ],
      "metadata": {
        "colab": {
          "base_uri": "https://localhost:8080/"
        },
        "id": "fJ2lFAWAuh-J",
        "outputId": "7e33613d-bbbe-42d5-ad35-afc5c95c6037"
      },
      "execution_count": 2,
      "outputs": [
        {
          "output_type": "stream",
          "name": "stdout",
          "text": [
            "Hello\n",
            "Python!\n"
          ]
        }
      ]
    },
    {
      "cell_type": "markdown",
      "source": [
        "**3 Using Negative Indexing:** Negative indexing allows you to slice strings from the end. In Python, -1 represents the last character, -2 represents the second-last character, and so on."
      ],
      "metadata": {
        "id": "DDkvRireyhrK"
      }
    },
    {
      "cell_type": "code",
      "source": [
        "string = \"Hello, Python!\"\n",
        "print(string[-7:])  # Output: Python! (slices the last 7 characters)\n",
        "print(string[-6:-1])  # Output: ython (slices between index -6 and -1)\n"
      ],
      "metadata": {
        "colab": {
          "base_uri": "https://localhost:8080/"
        },
        "id": "wMNQG6_Xyo3_",
        "outputId": "a1129c16-d6d4-4378-c2ba-d5c2d5ed314e"
      },
      "execution_count": 3,
      "outputs": [
        {
          "output_type": "stream",
          "name": "stdout",
          "text": [
            "Python!\n",
            "ython\n"
          ]
        }
      ]
    },
    {
      "cell_type": "markdown",
      "source": [
        "**4 Using Step in Slicing:** The step parameter determines how many characters to skip in the slice.\n",
        "\n",
        "**Positive Step:** Moves forward in the string.\n",
        "\n",
        "**Negative Step:** Moves backward in the string"
      ],
      "metadata": {
        "id": "rAeD5wUQyvsd"
      }
    },
    {
      "cell_type": "code",
      "source": [
        "string = \"Hello, Python!\"\n",
        "# Every second character from index 0 to 12\n",
        "print(string[0:12:2])  # Output: Hlo yhn\n",
        "\n",
        "# Reverse the entire string using a negative step\n",
        "print(string[::-1])  # Output: !nohtyP ,olleH\n"
      ],
      "metadata": {
        "colab": {
          "base_uri": "https://localhost:8080/"
        },
        "id": "m99M6Wjmy1ja",
        "outputId": "6eea850e-8080-41aa-82cb-fc43f16e7643"
      },
      "execution_count": 4,
      "outputs": [
        {
          "output_type": "stream",
          "name": "stdout",
          "text": [
            "Hlo yh\n",
            "!nohtyP ,olleH\n"
          ]
        }
      ]
    },
    {
      "cell_type": "markdown",
      "source": [
        "**5 Reversing a String:** A common use of slicing is to reverse a string. This can be achieved by setting the step to -1."
      ],
      "metadata": {
        "id": "vVeomEszy7qV"
      }
    },
    {
      "cell_type": "code",
      "source": [
        "string = \"Python\"\n",
        "reversed_string = string[::-1]\n",
        "print(reversed_string)  # Output: nohtyP\n"
      ],
      "metadata": {
        "colab": {
          "base_uri": "https://localhost:8080/"
        },
        "id": "q2gsEYjWzBjQ",
        "outputId": "b8e4a83e-8f49-4e3b-e262-8e69fec65b20"
      },
      "execution_count": 5,
      "outputs": [
        {
          "output_type": "stream",
          "name": "stdout",
          "text": [
            "nohtyP\n"
          ]
        }
      ]
    },
    {
      "cell_type": "markdown",
      "source": [
        "**6 Partial Slicing:** You can use slicing to get a substring from the middle of a string.\n"
      ],
      "metadata": {
        "id": "wsbhU4MgzEks"
      }
    },
    {
      "cell_type": "code",
      "source": [
        "string = \"Python programming\"\n",
        "print(string[7:18])  # Output: programming\n"
      ],
      "metadata": {
        "colab": {
          "base_uri": "https://localhost:8080/"
        },
        "id": "B5gIMqAlzOae",
        "outputId": "ad574b93-d0e1-4eb4-8acf-1ba212b47630"
      },
      "execution_count": 6,
      "outputs": [
        {
          "output_type": "stream",
          "name": "stdout",
          "text": [
            "programming\n"
          ]
        }
      ]
    },
    {
      "cell_type": "markdown",
      "source": [
        "**Practical Use of String Slicing:**\n",
        "\n",
        "**Extracting a Substring:**\n",
        "\n",
        "Extract part of a string based on known positions (e.g., first name or domain from an email)."
      ],
      "metadata": {
        "id": "2m8RHOi9zVFa"
      }
    },
    {
      "cell_type": "code",
      "source": [
        "email = \"shalu.kumari@example.com\"\n",
        "username = email[:email.index(\"@\")]  # Extract everything before '@'\n",
        "domain = email[email.index(\"@\") + 1:]  # Extract everything after '@'\n",
        "print(username)  # Output: shalu.kumari\n",
        "print(domain)    # Output: example.com\n"
      ],
      "metadata": {
        "colab": {
          "base_uri": "https://localhost:8080/"
        },
        "id": "Ty4e6vTszbMx",
        "outputId": "7db801a1-e217-4ad9-97f4-151f9c5c897c"
      },
      "execution_count": 11,
      "outputs": [
        {
          "output_type": "stream",
          "name": "stdout",
          "text": [
            "shalu.kumari\n",
            "example.com\n"
          ]
        }
      ]
    },
    {
      "cell_type": "markdown",
      "source": [
        "**Skipping Characters:** Extract every alternate character from a string."
      ],
      "metadata": {
        "id": "RCJSy-qj1nCB"
      }
    },
    {
      "cell_type": "code",
      "source": [
        "string = \"abcdefg\"\n",
        "print(string[::2])  # Output: aceg\n"
      ],
      "metadata": {
        "colab": {
          "base_uri": "https://localhost:8080/"
        },
        "id": "N0Bhmi_e1pnS",
        "outputId": "f3296398-16d8-4cdc-ae98-d96d6e35be29"
      },
      "execution_count": 12,
      "outputs": [
        {
          "output_type": "stream",
          "name": "stdout",
          "text": [
            "aceg\n"
          ]
        }
      ]
    },
    {
      "cell_type": "markdown",
      "source": [
        "# **Q 2 Explain the key features of lists in Python.**\n",
        "\n",
        "A list in Python is one of the most versatile and widely used data structures. It is an ordered collection of items, which can store elements of different data types (integers, strings, floats, etc.). Lists provide various powerful features that make them useful in a wide range of applications.\n",
        "\n",
        "Here are the key features of lists in Python:\n",
        "\n",
        "\n",
        "\n",
        "**1. Ordered Collection:**\n",
        "\n",
        "Lists maintain the order of elements: When you add elements to a list, they are stored in the exact order you insert them.\n",
        "You can access elements using their index, which starts at 0 (i.e., the first element is at index 0, the second at 1, and so on).\n",
        "\n",
        "\n",
        "**Example:**"
      ],
      "metadata": {
        "id": "1Hpj6Ti1r5Fk"
      }
    },
    {
      "cell_type": "code",
      "source": [
        "my_list = [10, 20, 30, 40]\n",
        "print(my_list[0])\n",
        "print(my_list[2])\n"
      ],
      "metadata": {
        "colab": {
          "base_uri": "https://localhost:8080/"
        },
        "id": "8nc84JV-6TCG",
        "outputId": "f834b4a0-0e02-4f6d-cd46-f52d309ddec1"
      },
      "execution_count": 13,
      "outputs": [
        {
          "output_type": "stream",
          "name": "stdout",
          "text": [
            "10\n",
            "30\n"
          ]
        }
      ]
    },
    {
      "cell_type": "markdown",
      "source": [
        "**2. Heterogeneous (Mixed) Data Types:**\n",
        "\n",
        "Lists can store elements of different data types in the same list. A single list can contain integers, strings, floats, booleans, or even other lists.\n",
        "\n",
        "**Example:**"
      ],
      "metadata": {
        "id": "9-xJHpbl6j-9"
      }
    },
    {
      "cell_type": "code",
      "source": [
        "mixed_list = [1, \"Hello\", 3.14, True]\n",
        "print(mixed_list)\n"
      ],
      "metadata": {
        "colab": {
          "base_uri": "https://localhost:8080/"
        },
        "id": "9qolHVoX6pCC",
        "outputId": "0bba57da-8311-49e7-fa4f-f14ef8904c87"
      },
      "execution_count": 14,
      "outputs": [
        {
          "output_type": "stream",
          "name": "stdout",
          "text": [
            "[1, 'Hello', 3.14, True]\n"
          ]
        }
      ]
    },
    {
      "cell_type": "markdown",
      "source": [
        "**3. Mutable (Changeable):**\n",
        "\n",
        "Lists are mutable, meaning you can change, modify, or update elements after creating the list. You can add, remove, or modify elements using various list methods like append(), insert(), remove(), and more.\n",
        "\n",
        "**Example:**"
      ],
      "metadata": {
        "id": "1nge95Za6xm3"
      }
    },
    {
      "cell_type": "code",
      "source": [
        "my_list = [1, 2, 3]\n",
        "my_list[1] = 20  # Modifying the second element\n",
        "print(my_list)  # Output: [1, 20, 3]\n",
        "\n",
        "my_list.append(4)  # Adding an element to the list\n",
        "print(my_list)  # Output: [1, 20, 3, 4]\n"
      ],
      "metadata": {
        "colab": {
          "base_uri": "https://localhost:8080/"
        },
        "id": "n3B0J4W-64GX",
        "outputId": "815d5d75-020a-4580-fb43-17fc3340f40e"
      },
      "execution_count": 15,
      "outputs": [
        {
          "output_type": "stream",
          "name": "stdout",
          "text": [
            "[1, 20, 3]\n",
            "[1, 20, 3, 4]\n"
          ]
        }
      ]
    },
    {
      "cell_type": "markdown",
      "source": [
        "\n",
        "**4. Dynamic Size:**\n",
        "\n",
        "Python lists are dynamic, which means you can add or remove elements as needed. The list will automatically adjust its size to accommodate new elements or shrink when elements are removed.\n",
        "\n",
        "**Example:**"
      ],
      "metadata": {
        "id": "MqCSndQC7oYL"
      }
    },
    {
      "cell_type": "code",
      "source": [
        "my_list = [1, 2]\n",
        "my_list.append(3)  # Adding a new element increases the size\n",
        "print(my_list)  # Output: [1, 2, 3]\n",
        "\n",
        "my_list.remove(2)  # Removing an element decreases the size\n",
        "print(my_list)  # Output: [1, 3]\n"
      ],
      "metadata": {
        "colab": {
          "base_uri": "https://localhost:8080/"
        },
        "id": "LwXDjmfJ7skq",
        "outputId": "b89b441d-bbff-4ea3-fe2f-210dbf46a0e6"
      },
      "execution_count": 16,
      "outputs": [
        {
          "output_type": "stream",
          "name": "stdout",
          "text": [
            "[1, 2, 3]\n",
            "[1, 3]\n"
          ]
        }
      ]
    },
    {
      "cell_type": "markdown",
      "source": [
        "**5. Slicing and Indexing:**\n",
        "\n",
        "Lists support indexing and slicing, allowing you to access a single element by its index or retrieve a subset of elements using slicing.\n",
        "Slicing syntax: list[start:stop:step]\n",
        "\n",
        "**Example:**"
      ],
      "metadata": {
        "id": "Fm_iTKv480l_"
      }
    },
    {
      "cell_type": "code",
      "source": [
        "my_list = [10, 20, 30, 40, 50]\n",
        "print(my_list[2])      # Output: 30  (Accessing the third element)\n",
        "print(my_list[1:4])    # Output: [20, 30, 40] (Slicing elements from index 1 to 3)\n",
        "print(my_list[::-1])   # Output: [50, 40, 30, 20, 10] (Reversed list)\n"
      ],
      "metadata": {
        "colab": {
          "base_uri": "https://localhost:8080/"
        },
        "id": "RSUoQwNx86YE",
        "outputId": "ff6e5dd0-93c2-470c-fed5-827359919dcf"
      },
      "execution_count": 17,
      "outputs": [
        {
          "output_type": "stream",
          "name": "stdout",
          "text": [
            "30\n",
            "[20, 30, 40]\n",
            "[50, 40, 30, 20, 10]\n"
          ]
        }
      ]
    },
    {
      "cell_type": "markdown",
      "source": [
        "**6. Nested Lists:**\n",
        "\n",
        "Lists can contain other lists as elements, allowing you to create multi-dimensional lists (such as a list of lists). This makes lists useful for representing matrices or tables.\n",
        "\n",
        "**Example:**"
      ],
      "metadata": {
        "id": "c2zGFFPj8-4L"
      }
    },
    {
      "cell_type": "code",
      "source": [
        "matrix = [\n",
        "    [1, 2, 3],\n",
        "    [4, 5, 6],\n",
        "    [7, 8, 9]\n",
        "]\n",
        "print(matrix[0])      # Output: [1, 2, 3]\n",
        "print(matrix[1][2])   # Output: 6 (Accessing row 2, column 3)\n"
      ],
      "metadata": {
        "colab": {
          "base_uri": "https://localhost:8080/"
        },
        "id": "7ND1RKnD9HjD",
        "outputId": "f140378e-3a7a-4d5d-ec4e-3a66dbc0f818"
      },
      "execution_count": 18,
      "outputs": [
        {
          "output_type": "stream",
          "name": "stdout",
          "text": [
            "[1, 2, 3]\n",
            "6\n"
          ]
        }
      ]
    },
    {
      "cell_type": "markdown",
      "source": [
        "**7. Variety of Built-in Methods:**\n",
        "\n",
        "Python lists come with several built-in methods to make operations easier:\n",
        "\n",
        "**append():** Adds an element to the end of the list.\n",
        "\n",
        "**extend():** Extends the list by appending elements from another list.\n",
        "\n",
        "**insert():** Inserts an element at a specified position.\n",
        "\n",
        "**remove():** Removes the first occurrence of an element.\n",
        "\n",
        "**pop():** Removes and returns the last element (or an element at a specified index).\n",
        "\n",
        "**sort():** Sorts the list in ascending or descending order.\n",
        "\n",
        "**reverse():** Reverses the order of the list.\n",
        "\n",
        "**Example:**"
      ],
      "metadata": {
        "id": "a3Vo74Un9mW1"
      }
    },
    {
      "cell_type": "code",
      "source": [
        "my_list = [3, 1, 4, 1, 5]\n",
        "my_list.append(9)\n",
        "print(my_list)  # Output: [3, 1, 4, 1, 5, 9]\n",
        "\n",
        "my_list.sort()\n",
        "print(my_list)  # Output: [1, 1, 3, 4, 5, 9]\n"
      ],
      "metadata": {
        "colab": {
          "base_uri": "https://localhost:8080/"
        },
        "id": "ZenlLYk796mw",
        "outputId": "365d9e16-e678-40a7-97e8-faff7b8d3de0"
      },
      "execution_count": 19,
      "outputs": [
        {
          "output_type": "stream",
          "name": "stdout",
          "text": [
            "[3, 1, 4, 1, 5, 9]\n",
            "[1, 1, 3, 4, 5, 9]\n"
          ]
        }
      ]
    },
    {
      "cell_type": "markdown",
      "source": [
        "**8. List Comprehension:**\n",
        "\n",
        "List comprehensions provide a concise way to create lists based on existing lists or iterables. It's an elegant and efficient way to generate lists in one line of code.\n",
        "\n",
        "**Example:**"
      ],
      "metadata": {
        "id": "zsyFnh36-DBq"
      }
    },
    {
      "cell_type": "code",
      "source": [
        "# List of squares from 1 to 5\n",
        "squares = [x**2 for x in range(1, 6)]\n",
        "print(squares)  # Output: [1, 4, 9, 16, 25]\n"
      ],
      "metadata": {
        "colab": {
          "base_uri": "https://localhost:8080/"
        },
        "id": "MDhrp9El-M9B",
        "outputId": "38901e05-f527-4205-9028-0e1cb6ffdd41"
      },
      "execution_count": 20,
      "outputs": [
        {
          "output_type": "stream",
          "name": "stdout",
          "text": [
            "[1, 4, 9, 16, 25]\n"
          ]
        }
      ]
    },
    {
      "cell_type": "markdown",
      "source": [
        "**9. Supports Iteration:**\n",
        "\n",
        "Lists can be iterated over using loops like for or while. This makes them useful for processing a collection of items.\n",
        "\n",
        "**Example:**"
      ],
      "metadata": {
        "id": "lL4Cb0HF_dfK"
      }
    },
    {
      "cell_type": "code",
      "source": [
        "my_list = [\"apple\", \"banana\", \"cherry\"]\n",
        "for fruit in my_list:\n",
        "    print(fruit)\n"
      ],
      "metadata": {
        "colab": {
          "base_uri": "https://localhost:8080/"
        },
        "id": "-8mC52pD_k9u",
        "outputId": "68c7ae93-d687-4524-9645-786365cf60e8"
      },
      "execution_count": 21,
      "outputs": [
        {
          "output_type": "stream",
          "name": "stdout",
          "text": [
            "apple\n",
            "banana\n",
            "cherry\n"
          ]
        }
      ]
    },
    {
      "cell_type": "markdown",
      "source": [
        "**10. Efficient Membership Testing:**\n",
        "\n",
        "You can check if an element exists in a list using the in keyword, which is efficient for membership testing.\n",
        "\n",
        "**Example:**"
      ],
      "metadata": {
        "id": "Mhv09V2AeWuv"
      }
    },
    {
      "cell_type": "code",
      "source": [
        "my_list = [1, 2, 3, 4, 5]\n",
        "print(3 in my_list)  # Output: True\n",
        "print(6 in my_list)  # Output: False\n"
      ],
      "metadata": {
        "colab": {
          "base_uri": "https://localhost:8080/"
        },
        "id": "0MTBA6Brearh",
        "outputId": "29b15cbb-4963-4cee-ee6a-5a28977c926d"
      },
      "execution_count": 1,
      "outputs": [
        {
          "output_type": "stream",
          "name": "stdout",
          "text": [
            "True\n",
            "False\n"
          ]
        }
      ]
    },
    {
      "cell_type": "markdown",
      "source": [
        "# **Q3 Describe how to access, modify, and delete elements in a list with examples.**\n",
        "\n",
        "**1. Accessing Elements in a List**\n",
        "\n",
        "You can access individual elements in a list using their index. The indexing in Python starts from 0, where 0 refers to the first element, 1 to the second element, and so on.\n",
        "\n",
        "**Example:**"
      ],
      "metadata": {
        "id": "JBBcLzRor5Kg"
      }
    },
    {
      "cell_type": "code",
      "source": [
        "my_list = [10, 20, 30, 40, 50]\n",
        "\n",
        "# Accessing the first element\n",
        "print(my_list[0])  # Output: 10\n",
        "\n",
        "# Accessing the third element\n",
        "print(my_list[2])  # Output: 30\n",
        "\n",
        "# Accessing the last element using negative indexing\n",
        "print(my_list[-1])  # Output: 50\n"
      ],
      "metadata": {
        "colab": {
          "base_uri": "https://localhost:8080/"
        },
        "id": "W_0D9KaNjU4f",
        "outputId": "e89a3244-f0be-4b1d-ce9f-a795b71ec648"
      },
      "execution_count": 4,
      "outputs": [
        {
          "output_type": "stream",
          "name": "stdout",
          "text": [
            "10\n",
            "30\n",
            "50\n"
          ]
        }
      ]
    },
    {
      "cell_type": "markdown",
      "source": [
        "**2. Modifying Elements in a List**\n",
        "\n",
        "Since lists are mutable, you can change the value of a specific element by assigning a new value to its index.\n",
        "\n",
        "**Example:**"
      ],
      "metadata": {
        "id": "cKfcbr9Xn97P"
      }
    },
    {
      "cell_type": "code",
      "source": [
        "my_list = [10, 20, 30, 40, 50]\n",
        "\n",
        "# Modifying the second element\n",
        "my_list[1] = 25\n",
        "print(my_list)  # Output: [10, 25, 30, 40, 50]\n",
        "\n",
        "# Modifying the last element\n",
        "my_list[-1] = 55\n",
        "print(my_list)  # Output: [10, 25, 30, 40, 55]\n"
      ],
      "metadata": {
        "colab": {
          "base_uri": "https://localhost:8080/"
        },
        "id": "P_aZZhLwn7Cw",
        "outputId": "927641c9-5225-463a-cd00-d19c9be0d619"
      },
      "execution_count": 5,
      "outputs": [
        {
          "output_type": "stream",
          "name": "stdout",
          "text": [
            "[10, 25, 30, 40, 50]\n",
            "[10, 25, 30, 40, 55]\n"
          ]
        }
      ]
    },
    {
      "cell_type": "markdown",
      "source": [
        "**3. Deleting Elements in a List**\n",
        "\n",
        "You can delete elements from a list in several ways:\n",
        "\n",
        "**a) Using the del Keyword:**\n",
        "\n",
        "The del keyword allows you to remove an element at a specific index.\n",
        "\n",
        "**Example:**"
      ],
      "metadata": {
        "id": "g8m_XIXroWOw"
      }
    },
    {
      "cell_type": "code",
      "source": [
        "my_list = [10, 20, 30, 40, 50]\n",
        "\n",
        "# Deleting the second element\n",
        "del my_list[1]\n",
        "print(my_list)  # Output: [10, 30, 40, 50]\n",
        "\n",
        "# Deleting the last element\n",
        "del my_list[-1]\n",
        "print(my_list)  # Output: [10, 30, 40]\n"
      ],
      "metadata": {
        "colab": {
          "base_uri": "https://localhost:8080/"
        },
        "id": "7VRKwBXFok9n",
        "outputId": "aa12ec82-5f38-48b8-9157-f8ee893f040b"
      },
      "execution_count": 6,
      "outputs": [
        {
          "output_type": "stream",
          "name": "stdout",
          "text": [
            "[10, 30, 40, 50]\n",
            "[10, 30, 40]\n"
          ]
        }
      ]
    },
    {
      "cell_type": "markdown",
      "source": [
        "**b) Using the remove() Method:**\n",
        "\n",
        "The remove() method removes the first occurrence of a specified value from the list."
      ],
      "metadata": {
        "id": "LobxWykJpn0J"
      }
    },
    {
      "cell_type": "code",
      "source": [
        "my_list = [10, 20, 30, 40, 30]\n",
        "\n",
        "# Removing the first occurrence of the value 30\n",
        "my_list.remove(30)\n",
        "print(my_list)  # Output: [10, 20, 40, 30]\n"
      ],
      "metadata": {
        "colab": {
          "base_uri": "https://localhost:8080/"
        },
        "id": "MBh-sbHJp4aB",
        "outputId": "539fe3df-1759-4a6a-8f03-d0d51bc53828"
      },
      "execution_count": 7,
      "outputs": [
        {
          "output_type": "stream",
          "name": "stdout",
          "text": [
            "[10, 20, 40, 30]\n"
          ]
        }
      ]
    },
    {
      "cell_type": "markdown",
      "source": [
        "**c) Using the pop() Method:**\n",
        "\n",
        "The pop() method removes and returns the element at a specified index. If no index is provided, it removes the last element."
      ],
      "metadata": {
        "id": "ZJf_8qxDqOdb"
      }
    },
    {
      "cell_type": "code",
      "source": [
        "my_list = [10, 20, 30, 40, 50]\n",
        "\n",
        "# Removing and returning the element at index 2\n",
        "removed_element = my_list.pop(2)\n",
        "print(removed_element)  # Output: 30\n",
        "print(my_list)          # Output: [10, 20, 40, 50]\n",
        "\n",
        "# Removing the last element\n",
        "my_list.pop()\n",
        "print(my_list)  # Output: [10, 20, 40]\n"
      ],
      "metadata": {
        "colab": {
          "base_uri": "https://localhost:8080/"
        },
        "id": "6YKcAMqVqViM",
        "outputId": "5c3ad023-1c85-4772-e0a7-9c35cf23b195"
      },
      "execution_count": 8,
      "outputs": [
        {
          "output_type": "stream",
          "name": "stdout",
          "text": [
            "30\n",
            "[10, 20, 40, 50]\n",
            "[10, 20, 40]\n"
          ]
        }
      ]
    },
    {
      "cell_type": "markdown",
      "source": [
        "**d) Clearing All Elements:**\n",
        "\n",
        "To remove all elements from a list, you can use the clear() method."
      ],
      "metadata": {
        "id": "xNOgrV_VqroR"
      }
    },
    {
      "cell_type": "code",
      "source": [
        "my_list = [10, 20, 30]\n",
        "\n",
        "# Clearing the entire list\n",
        "my_list.clear()\n",
        "print(my_list)  # Output: []\n"
      ],
      "metadata": {
        "colab": {
          "base_uri": "https://localhost:8080/"
        },
        "id": "zKMWFBAMquA-",
        "outputId": "2eb0ec7e-7668-42e2-d954-2251ca5dd676"
      },
      "execution_count": 9,
      "outputs": [
        {
          "output_type": "stream",
          "name": "stdout",
          "text": [
            "[]\n"
          ]
        }
      ]
    },
    {
      "cell_type": "markdown",
      "source": [
        "# **Q4 Compare and contrast tuples and lists with examples.**\n",
        "\n",
        "**Tuples** and **lists** are two of the most commonly used data structures in Python. Both are sequences that can store collections of items, but they have some key differences in terms of functionality, behavior, and usage.\n",
        "\n",
        "Here's a comparison of **tuples** and **lists** with examples.\n",
        "\n",
        "**1. Mutability:**\n",
        "\n",
        "Lists are mutable, meaning you can change, modify, or update their elements after creation.\n",
        "\n",
        "Tuples are immutable, meaning once they are created, their elements cannot be changed.\n",
        "\n",
        "**Example:**"
      ],
      "metadata": {
        "id": "SfjKd0-Br5NS"
      }
    },
    {
      "cell_type": "code",
      "source": [
        "# List is mutable\n",
        "my_list = [10, 20, 30]\n",
        "my_list[1] = 25  # You can change elements\n",
        "print(my_list)   # Output: [10, 25, 30]\n",
        "\n",
        "\n"
      ],
      "metadata": {
        "colab": {
          "base_uri": "https://localhost:8080/"
        },
        "id": "tGBR_uQuvKmB",
        "outputId": "c3b12d28-5cbf-47f3-ac6f-90af726e2de4"
      },
      "execution_count": 10,
      "outputs": [
        {
          "output_type": "stream",
          "name": "stdout",
          "text": [
            "[10, 25, 30]\n"
          ]
        }
      ]
    },
    {
      "cell_type": "code",
      "source": [
        "# Tuple is immutable\n",
        "my_tuple = (10, 20, 30)\n",
        "my_tuple[1] = 25  # This will raise a TypeError"
      ],
      "metadata": {
        "colab": {
          "base_uri": "https://localhost:8080/",
          "height": 176
        },
        "id": "GKEezRA6wWBI",
        "outputId": "0841e95a-4ab2-4ebd-c3f1-b06823fac61c"
      },
      "execution_count": 11,
      "outputs": [
        {
          "output_type": "error",
          "ename": "TypeError",
          "evalue": "'tuple' object does not support item assignment",
          "traceback": [
            "\u001b[0;31m---------------------------------------------------------------------------\u001b[0m",
            "\u001b[0;31mTypeError\u001b[0m                                 Traceback (most recent call last)",
            "\u001b[0;32m<ipython-input-11-db8134916679>\u001b[0m in \u001b[0;36m<cell line: 3>\u001b[0;34m()\u001b[0m\n\u001b[1;32m      1\u001b[0m \u001b[0;31m# Tuple is immutable\u001b[0m\u001b[0;34m\u001b[0m\u001b[0;34m\u001b[0m\u001b[0m\n\u001b[1;32m      2\u001b[0m \u001b[0mmy_tuple\u001b[0m \u001b[0;34m=\u001b[0m \u001b[0;34m(\u001b[0m\u001b[0;36m10\u001b[0m\u001b[0;34m,\u001b[0m \u001b[0;36m20\u001b[0m\u001b[0;34m,\u001b[0m \u001b[0;36m30\u001b[0m\u001b[0;34m)\u001b[0m\u001b[0;34m\u001b[0m\u001b[0;34m\u001b[0m\u001b[0m\n\u001b[0;32m----> 3\u001b[0;31m \u001b[0mmy_tuple\u001b[0m\u001b[0;34m[\u001b[0m\u001b[0;36m1\u001b[0m\u001b[0;34m]\u001b[0m \u001b[0;34m=\u001b[0m \u001b[0;36m25\u001b[0m  \u001b[0;31m# This will raise a TypeError\u001b[0m\u001b[0;34m\u001b[0m\u001b[0;34m\u001b[0m\u001b[0m\n\u001b[0m",
            "\u001b[0;31mTypeError\u001b[0m: 'tuple' object does not support item assignment"
          ]
        }
      ]
    },
    {
      "cell_type": "markdown",
      "source": [
        "**2. Syntax:**\n",
        "\n",
        "Lists are defined using square brackets [].\n",
        "\n",
        "Tuples are defined using parentheses ().\n",
        "**Example:**"
      ],
      "metadata": {
        "id": "9EuIaG041nH1"
      }
    },
    {
      "cell_type": "code",
      "source": [
        "# List\n",
        "my_list = [1, 2, 3, 4]\n",
        "\n",
        "# Tuple\n",
        "my_tuple = (1, 2, 3, 4)\n"
      ],
      "metadata": {
        "id": "eFWZEAux1uzV"
      },
      "execution_count": 12,
      "outputs": []
    },
    {
      "cell_type": "markdown",
      "source": [
        "**3. Performance:**\n",
        "\n",
        "Tuples are generally faster than lists because of their immutability.\n",
        "\n",
        "If you need a sequence of values that should remain constant, using a tuple can result in performance optimization.\n",
        "\n",
        "**Example:**"
      ],
      "metadata": {
        "id": "AqAb_8Nj12U_"
      }
    },
    {
      "cell_type": "code",
      "source": [
        "import timeit\n",
        "\n",
        "# Time taken to create a list\n",
        "list_time = timeit.timeit(stmt=\"[1, 2, 3, 4, 5]\", number=1000000)\n",
        "print(f\"List time: {list_time}\")\n",
        "\n",
        "# Time taken to create a tuple\n",
        "tuple_time = timeit.timeit(stmt=\"(1, 2, 3, 4, 5)\", number=1000000)\n",
        "print(f\"Tuple time: {tuple_time}\")\n"
      ],
      "metadata": {
        "colab": {
          "base_uri": "https://localhost:8080/"
        },
        "id": "Hvuu1AsQ1_Bo",
        "outputId": "8cf9ac22-7555-465f-dda5-3cfd0f8627cd"
      },
      "execution_count": 13,
      "outputs": [
        {
          "output_type": "stream",
          "name": "stdout",
          "text": [
            "List time: 0.07637006099957944\n",
            "Tuple time: 0.01485235299969645\n"
          ]
        }
      ]
    },
    {
      "cell_type": "markdown",
      "source": [
        "**4. Usage:**\n",
        "\n",
        "Lists are used when you need a collection of items that may change, grow, or shrink over time (e.g., for data that will be frequently updated).\n",
        "Tuples are used when you need a collection of items that should remain constant (e.g., fixed data, configurations).\n",
        "\n",
        "**Example:**"
      ],
      "metadata": {
        "id": "GizdlE88Cami"
      }
    },
    {
      "cell_type": "code",
      "source": [
        "# List (can be updated frequently)\n",
        "shopping_list = [\"apples\", \"bananas\", \"milk\"]\n",
        "shopping_list.append(\"eggs\")  # Adding an item\n",
        "print(shopping_list)  # Output: ['apples', 'bananas', 'milk', 'eggs']\n",
        "\n",
        "\n"
      ],
      "metadata": {
        "colab": {
          "base_uri": "https://localhost:8080/"
        },
        "id": "kYk94WVgCfWI",
        "outputId": "81bf922e-9b1a-49a4-9676-f7b3c7507953"
      },
      "execution_count": 14,
      "outputs": [
        {
          "output_type": "stream",
          "name": "stdout",
          "text": [
            "['apples', 'bananas', 'milk', 'eggs']\n"
          ]
        }
      ]
    },
    {
      "cell_type": "code",
      "source": [
        "# Tuple (fixed data)\n",
        "coordinates = (12.34, 56.78)\n",
        "coordinates[0] = 99.99  # Error: You cannot change values in a tuple"
      ],
      "metadata": {
        "colab": {
          "base_uri": "https://localhost:8080/",
          "height": 176
        },
        "id": "2lrQUyYZEeAM",
        "outputId": "d2bc91c8-c25c-4929-f718-98cf80bd7645"
      },
      "execution_count": 15,
      "outputs": [
        {
          "output_type": "error",
          "ename": "TypeError",
          "evalue": "'tuple' object does not support item assignment",
          "traceback": [
            "\u001b[0;31m---------------------------------------------------------------------------\u001b[0m",
            "\u001b[0;31mTypeError\u001b[0m                                 Traceback (most recent call last)",
            "\u001b[0;32m<ipython-input-15-f7bb5e9a5b81>\u001b[0m in \u001b[0;36m<cell line: 3>\u001b[0;34m()\u001b[0m\n\u001b[1;32m      1\u001b[0m \u001b[0;31m# Tuple (fixed data)\u001b[0m\u001b[0;34m\u001b[0m\u001b[0;34m\u001b[0m\u001b[0m\n\u001b[1;32m      2\u001b[0m \u001b[0mcoordinates\u001b[0m \u001b[0;34m=\u001b[0m \u001b[0;34m(\u001b[0m\u001b[0;36m12.34\u001b[0m\u001b[0;34m,\u001b[0m \u001b[0;36m56.78\u001b[0m\u001b[0;34m)\u001b[0m\u001b[0;34m\u001b[0m\u001b[0;34m\u001b[0m\u001b[0m\n\u001b[0;32m----> 3\u001b[0;31m \u001b[0mcoordinates\u001b[0m\u001b[0;34m[\u001b[0m\u001b[0;36m0\u001b[0m\u001b[0;34m]\u001b[0m \u001b[0;34m=\u001b[0m \u001b[0;36m99.99\u001b[0m  \u001b[0;31m# Error: You cannot change values in a tuple\u001b[0m\u001b[0;34m\u001b[0m\u001b[0;34m\u001b[0m\u001b[0m\n\u001b[0m",
            "\u001b[0;31mTypeError\u001b[0m: 'tuple' object does not support item assignment"
          ]
        }
      ]
    },
    {
      "cell_type": "markdown",
      "source": [
        "**5. Methods:**\n",
        "\n",
        "Lists have more built-in methods than tuples, such as append(), remove(), pop(), sort(), etc., because they are mutable.\n",
        "\n",
        "Tuples have fewer methods, as they are immutable. You can use methods like count() and index(), but you cannot add or remove elements.\n",
        "\n",
        "**Example:**"
      ],
      "metadata": {
        "id": "aX48XPm0ErYk"
      }
    },
    {
      "cell_type": "code",
      "source": [
        "# List methods\n",
        "my_list = [1, 2, 3]\n",
        "my_list.append(4)  # Adds an element\n",
        "print(my_list)     # Output: [1, 2, 3, 4]\n",
        "\n",
        "# Tuple methods\n",
        "my_tuple = (1, 2, 3, 1)\n",
        "print(my_tuple.count(1))  # Output: 2 (Counts occurrences of 1)\n",
        "print(my_tuple.index(3))  # Output: 2 (Finds the index of 3)\n"
      ],
      "metadata": {
        "colab": {
          "base_uri": "https://localhost:8080/"
        },
        "id": "MvoiYJKjFvSY",
        "outputId": "ec16871f-ab3a-44c6-ddf9-b82d439b022a"
      },
      "execution_count": 16,
      "outputs": [
        {
          "output_type": "stream",
          "name": "stdout",
          "text": [
            "[1, 2, 3, 4]\n",
            "2\n",
            "2\n"
          ]
        }
      ]
    },
    {
      "cell_type": "markdown",
      "source": [
        "**6. Size:**\n",
        "\n",
        "Tuples typically take up less memory than lists because they are immutable and more memory-efficient.\n",
        "\n",
        "Lists take up more memory since they are dynamic and mutable.\n",
        "\n",
        "**Example:**"
      ],
      "metadata": {
        "id": "VhxXXIauHMTo"
      }
    },
    {
      "cell_type": "code",
      "source": [
        "import sys\n",
        "\n",
        "my_list = [1, 2, 3, 4, 5]\n",
        "my_tuple = (1, 2, 3, 4, 5)\n",
        "\n",
        "print(sys.getsizeof(my_list))   # Output: Memory size of the list\n",
        "print(sys.getsizeof(my_tuple))  # Output: Memory size of the tuple (usually smaller)\n"
      ],
      "metadata": {
        "colab": {
          "base_uri": "https://localhost:8080/"
        },
        "id": "wLKjY-7KHZJH",
        "outputId": "6db7ada7-a041-406c-c97d-32d413c28c7a"
      },
      "execution_count": 17,
      "outputs": [
        {
          "output_type": "stream",
          "name": "stdout",
          "text": [
            "104\n",
            "80\n"
          ]
        }
      ]
    },
    {
      "cell_type": "markdown",
      "source": [
        "**7. Use as Dictionary Keys:**\n",
        "\n",
        "Tuples can be used as keys in dictionaries because they are immutable.\n",
        "\n",
        "Lists cannot be used as dictionary keys because they are mutable and not hashable.\n",
        "\n",
        "Example:"
      ],
      "metadata": {
        "id": "7bk0XxMrIJ8O"
      }
    },
    {
      "cell_type": "code",
      "source": [
        "# Tuple as a key in a dictionary\n",
        "my_dict = {(1, 2): \"point A\", (3, 4): \"point B\"}\n",
        "print(my_dict[(1, 2)])  # Output: \"point A\"\n",
        "\n",
        "\n"
      ],
      "metadata": {
        "colab": {
          "base_uri": "https://localhost:8080/"
        },
        "id": "rqLNbfreIYUa",
        "outputId": "6d09a68b-8e3d-46fc-dc52-1c53ceee3d4b"
      },
      "execution_count": 18,
      "outputs": [
        {
          "output_type": "stream",
          "name": "stdout",
          "text": [
            "point A\n"
          ]
        }
      ]
    },
    {
      "cell_type": "code",
      "source": [
        "# List as a key would raise a TypeError\n",
        "my_dict = {[1, 2]: \"point A\"}  # Error: unhashable type: 'list'"
      ],
      "metadata": {
        "colab": {
          "base_uri": "https://localhost:8080/",
          "height": 158
        },
        "id": "1lEV-ArbI13x",
        "outputId": "22aea87b-5156-447b-e373-b3ded58b3905"
      },
      "execution_count": 19,
      "outputs": [
        {
          "output_type": "error",
          "ename": "TypeError",
          "evalue": "unhashable type: 'list'",
          "traceback": [
            "\u001b[0;31m---------------------------------------------------------------------------\u001b[0m",
            "\u001b[0;31mTypeError\u001b[0m                                 Traceback (most recent call last)",
            "\u001b[0;32m<ipython-input-19-1af3bcd79d47>\u001b[0m in \u001b[0;36m<cell line: 2>\u001b[0;34m()\u001b[0m\n\u001b[1;32m      1\u001b[0m \u001b[0;31m# List as a key would raise a TypeError\u001b[0m\u001b[0;34m\u001b[0m\u001b[0;34m\u001b[0m\u001b[0m\n\u001b[0;32m----> 2\u001b[0;31m \u001b[0mmy_dict\u001b[0m \u001b[0;34m=\u001b[0m \u001b[0;34m{\u001b[0m\u001b[0;34m[\u001b[0m\u001b[0;36m1\u001b[0m\u001b[0;34m,\u001b[0m \u001b[0;36m2\u001b[0m\u001b[0;34m]\u001b[0m\u001b[0;34m:\u001b[0m \u001b[0;34m\"point A\"\u001b[0m\u001b[0;34m}\u001b[0m  \u001b[0;31m# Error: unhashable type: 'list'\u001b[0m\u001b[0;34m\u001b[0m\u001b[0;34m\u001b[0m\u001b[0m\n\u001b[0m",
            "\u001b[0;31mTypeError\u001b[0m: unhashable type: 'list'"
          ]
        }
      ]
    },
    {
      "cell_type": "markdown",
      "source": [
        "**8. Nested Structures:**\n",
        "\n",
        "Both lists and tuples can be nested inside each other, allowing you to create complex data structures like a list of tuples or a tuple of lists.\n",
        "\n",
        "**Example:**"
      ],
      "metadata": {
        "id": "iebYgeboJYFS"
      }
    },
    {
      "cell_type": "code",
      "source": [
        "# List of tuples\n",
        "list_of_tuples = [(1, 2), (3, 4), (5, 6)]\n",
        "print(list_of_tuples)  # Output: [(1, 2), (3, 4), (5, 6)]\n",
        "\n",
        "# Tuple of lists\n",
        "tuple_of_lists = ([1, 2], [3, 4], [5, 6])\n",
        "print(tuple_of_lists)  # Output: ([1, 2], [3, 4], [5, 6])\n"
      ],
      "metadata": {
        "colab": {
          "base_uri": "https://localhost:8080/"
        },
        "id": "RBD-5Td7JrY-",
        "outputId": "db56d550-a583-4d1e-9e20-a827e7e4c397"
      },
      "execution_count": 20,
      "outputs": [
        {
          "output_type": "stream",
          "name": "stdout",
          "text": [
            "[(1, 2), (3, 4), (5, 6)]\n",
            "([1, 2], [3, 4], [5, 6])\n"
          ]
        }
      ]
    },
    {
      "cell_type": "markdown",
      "source": [
        "# **Q5 Describe the key features of sets and provide examples of their use.**\n",
        "\n",
        "A set is an unordered collection of unique elements. Sets are commonly used to store items that should not contain duplicates and to perform common set operations like union, intersection, and difference. Sets have a few key characteristics and uses that make them distinct from other data structures like lists and tuples.\n",
        "\n",
        "\n",
        "**1. Unordered Collection:**\n",
        "\n",
        "Sets are unordered, meaning that the elements have no specific order and cannot be accessed using indices.\n",
        "The items in a set might appear in a different order each time you print or iterate through them.\n",
        "\n",
        "**Example:**\n",
        "\n"
      ],
      "metadata": {
        "id": "3EfyMArnr5SV"
      }
    },
    {
      "cell_type": "code",
      "source": [
        "my_set = {3, 1, 2}\n",
        "print(my_set)  # Output: {1, 2, 3} or {3, 1, 2}, order is not guaranteed\n"
      ],
      "metadata": {
        "colab": {
          "base_uri": "https://localhost:8080/"
        },
        "id": "bvIlCTWcxci6",
        "outputId": "d04e50cf-11d1-4058-8c1c-ac2191fb8080"
      },
      "execution_count": 1,
      "outputs": [
        {
          "output_type": "stream",
          "name": "stdout",
          "text": [
            "{1, 2, 3}\n"
          ]
        }
      ]
    },
    {
      "cell_type": "markdown",
      "source": [
        "**2. Unique Elements:**\n",
        "\n",
        "Sets automatically remove duplicate elements, meaning that each element appears only once.\n",
        "If you try to add duplicate values to a set, only one instance of the value will be kept.\n",
        "\n",
        "**Example:**"
      ],
      "metadata": {
        "id": "1Shuu8UQxfQ4"
      }
    },
    {
      "cell_type": "code",
      "source": [
        "my_set = {1, 2, 2, 3, 4, 4}\n",
        "print(my_set)  # Output: {1, 2, 3, 4}, duplicates are removed\n"
      ],
      "metadata": {
        "colab": {
          "base_uri": "https://localhost:8080/"
        },
        "id": "dZU6j4_axnOf",
        "outputId": "0f1269e4-d855-435d-cfec-ed8d08c68317"
      },
      "execution_count": 2,
      "outputs": [
        {
          "output_type": "stream",
          "name": "stdout",
          "text": [
            "{1, 2, 3, 4}\n"
          ]
        }
      ]
    },
    {
      "cell_type": "markdown",
      "source": [
        "**3. Mutable:**\n",
        "\n",
        "While sets themselves are mutable (i.e., you can add or remove elements), the elements inside a set must be immutable.\n",
        "You can add new elements to a set, but those elements must be of immutable types like numbers, strings, or tuples (lists and other sets cannot be added).\n",
        "\n",
        "**Example:**"
      ],
      "metadata": {
        "id": "Gg5x_GN9xuIY"
      }
    },
    {
      "cell_type": "code",
      "source": [
        "my_set = {1, 2, 3}\n",
        "my_set.add(4)  # Adds a new element\n",
        "print(my_set)  # Output: {1, 2, 3, 4}\n"
      ],
      "metadata": {
        "colab": {
          "base_uri": "https://localhost:8080/"
        },
        "id": "2D6a2pWZx1Z-",
        "outputId": "5fb9c8e9-28cb-4e44-d389-ea7387fc4193"
      },
      "execution_count": 3,
      "outputs": [
        {
          "output_type": "stream",
          "name": "stdout",
          "text": [
            "{1, 2, 3, 4}\n"
          ]
        }
      ]
    },
    {
      "cell_type": "code",
      "source": [
        "# Trying to add a list to the set will raise an error\n",
        "my_set.add([5, 6])  # TypeError: unhashable type: 'list'"
      ],
      "metadata": {
        "colab": {
          "base_uri": "https://localhost:8080/",
          "height": 158
        },
        "id": "qwIx3kPiyLn8",
        "outputId": "9044748c-6999-4997-a39e-e7c2162befda"
      },
      "execution_count": 4,
      "outputs": [
        {
          "output_type": "error",
          "ename": "TypeError",
          "evalue": "unhashable type: 'list'",
          "traceback": [
            "\u001b[0;31m---------------------------------------------------------------------------\u001b[0m",
            "\u001b[0;31mTypeError\u001b[0m                                 Traceback (most recent call last)",
            "\u001b[0;32m<ipython-input-4-b04406dcb2a1>\u001b[0m in \u001b[0;36m<cell line: 2>\u001b[0;34m()\u001b[0m\n\u001b[1;32m      1\u001b[0m \u001b[0;31m# Trying to add a list to the set will raise an error\u001b[0m\u001b[0;34m\u001b[0m\u001b[0;34m\u001b[0m\u001b[0m\n\u001b[0;32m----> 2\u001b[0;31m \u001b[0mmy_set\u001b[0m\u001b[0;34m.\u001b[0m\u001b[0madd\u001b[0m\u001b[0;34m(\u001b[0m\u001b[0;34m[\u001b[0m\u001b[0;36m5\u001b[0m\u001b[0;34m,\u001b[0m \u001b[0;36m6\u001b[0m\u001b[0;34m]\u001b[0m\u001b[0;34m)\u001b[0m  \u001b[0;31m# TypeError: unhashable type: 'list'\u001b[0m\u001b[0;34m\u001b[0m\u001b[0;34m\u001b[0m\u001b[0m\n\u001b[0m",
            "\u001b[0;31mTypeError\u001b[0m: unhashable type: 'list'"
          ]
        }
      ]
    },
    {
      "cell_type": "markdown",
      "source": [
        "**4. Efficient Membership Testing:**\n",
        "\n",
        "Sets are optimized for membership testing (i.e., checking if an element is in the set) because they are implemented using hash tables.\n",
        "This makes checking for the presence of an element much faster than in lists or tuples.\n",
        "\n",
        "**Example:**"
      ],
      "metadata": {
        "id": "J50ibHJVy8gR"
      }
    },
    {
      "cell_type": "code",
      "source": [
        "my_set = {1, 2, 3, 4}\n",
        "print(3 in my_set)  # Output: True (membership testing is fast)\n",
        "print(5 in my_set)  # Output: False\n"
      ],
      "metadata": {
        "colab": {
          "base_uri": "https://localhost:8080/"
        },
        "id": "QaUV8vqDzM7M",
        "outputId": "8697e0e5-22db-4fd3-a61f-4dac3e58fb71"
      },
      "execution_count": 5,
      "outputs": [
        {
          "output_type": "stream",
          "name": "stdout",
          "text": [
            "True\n",
            "False\n"
          ]
        }
      ]
    },
    {
      "cell_type": "markdown",
      "source": [
        "**5. Set Operations:**\n",
        "\n",
        "Sets in Python allow you to perform common mathematical set operations such as union, intersection, difference, and symmetric difference.\n",
        "\n",
        "**Example of Set Operations:**"
      ],
      "metadata": {
        "id": "eN6fginVzhZz"
      }
    },
    {
      "cell_type": "code",
      "source": [
        "set_a = {1, 2, 3}\n",
        "set_b = {3, 4, 5}\n",
        "\n",
        "# Union (all unique elements from both sets)\n",
        "print(set_a | set_b)  # Output: {1, 2, 3, 4, 5}\n",
        "\n",
        "# Intersection (common elements in both sets)\n",
        "print(set_a & set_b)  # Output: {3}\n",
        "\n",
        "# Difference (elements in set_a but not in set_b)\n",
        "print(set_a - set_b)  # Output: {1, 2}\n",
        "\n",
        "# Symmetric Difference (elements in either set, but not both)\n",
        "print(set_a ^ set_b)  # Output: {1, 2, 4, 5}\n"
      ],
      "metadata": {
        "colab": {
          "base_uri": "https://localhost:8080/"
        },
        "id": "GjZ1hoOTzoW8",
        "outputId": "cef68068-06d2-4e9f-ac50-6318dd477973"
      },
      "execution_count": 6,
      "outputs": [
        {
          "output_type": "stream",
          "name": "stdout",
          "text": [
            "{1, 2, 3, 4, 5}\n",
            "{3}\n",
            "{1, 2}\n",
            "{1, 2, 4, 5}\n"
          ]
        }
      ]
    },
    {
      "cell_type": "markdown",
      "source": [
        "**6. No Indexing:**\n",
        "\n",
        "Sets do not support indexing or slicing because they are unordered. You cannot access elements in a set using square brackets or indices like lists or tuples.\n",
        "\n",
        "**Example:**"
      ],
      "metadata": {
        "id": "EnFe-1Z9ztsR"
      }
    },
    {
      "cell_type": "code",
      "source": [
        "my_set = {1, 2, 3}\n",
        "my_set[0]  # Raises a TypeError: 'set' object is not subscriptable\n"
      ],
      "metadata": {
        "colab": {
          "base_uri": "https://localhost:8080/",
          "height": 158
        },
        "id": "89sKhjLg43iv",
        "outputId": "771042f5-1940-4a7f-c035-eef4b4dd813c"
      },
      "execution_count": 7,
      "outputs": [
        {
          "output_type": "error",
          "ename": "TypeError",
          "evalue": "'set' object is not subscriptable",
          "traceback": [
            "\u001b[0;31m---------------------------------------------------------------------------\u001b[0m",
            "\u001b[0;31mTypeError\u001b[0m                                 Traceback (most recent call last)",
            "\u001b[0;32m<ipython-input-7-797e7076e994>\u001b[0m in \u001b[0;36m<cell line: 2>\u001b[0;34m()\u001b[0m\n\u001b[1;32m      1\u001b[0m \u001b[0mmy_set\u001b[0m \u001b[0;34m=\u001b[0m \u001b[0;34m{\u001b[0m\u001b[0;36m1\u001b[0m\u001b[0;34m,\u001b[0m \u001b[0;36m2\u001b[0m\u001b[0;34m,\u001b[0m \u001b[0;36m3\u001b[0m\u001b[0;34m}\u001b[0m\u001b[0;34m\u001b[0m\u001b[0;34m\u001b[0m\u001b[0m\n\u001b[0;32m----> 2\u001b[0;31m \u001b[0mmy_set\u001b[0m\u001b[0;34m[\u001b[0m\u001b[0;36m0\u001b[0m\u001b[0;34m]\u001b[0m  \u001b[0;31m# Raises a TypeError: 'set' object is not subscriptable\u001b[0m\u001b[0;34m\u001b[0m\u001b[0;34m\u001b[0m\u001b[0m\n\u001b[0m",
            "\u001b[0;31mTypeError\u001b[0m: 'set' object is not subscriptable"
          ]
        }
      ]
    },
    {
      "cell_type": "markdown",
      "source": [
        "**7. Set Methods:**\n",
        "\n",
        "Python provides several methods for manipulating sets:\n",
        "\n",
        "**add():** Adds an element to the set.\n",
        "\n",
        "**remove():** Removes a specific element from the set, raises a KeyError if the element is not found.\n",
        "\n",
        "**discard():** Removes an element if it exists, but does not raise an error if the element is not found.\n",
        "\n",
        "**clear():** Removes all elements from the set.\n",
        "\n",
        "**copy():** Returns a shallow copy of the set.\n",
        "\n",
        "**update():** Adds multiple elements (or another set) to the current set.\n",
        "\n",
        "**Example:**"
      ],
      "metadata": {
        "id": "ZD2VDfHx47s6"
      }
    },
    {
      "cell_type": "code",
      "source": [
        "my_set = {1, 2, 3}\n",
        "\n",
        "# Adding an element\n",
        "my_set.add(4)\n",
        "print(my_set)  # Output: {1, 2, 3, 4}\n",
        "\n",
        "# Removing an element\n",
        "my_set.remove(2)\n",
        "print(my_set)  # Output: {1, 3, 4}\n",
        "\n",
        "# Discarding an element (no error if element doesn't exist)\n",
        "my_set.discard(10)  # No error\n",
        "print(my_set)  # Output: {1, 3, 4}\n",
        "\n",
        "# Clearing the set\n",
        "my_set.clear()\n",
        "print(my_set)  # Output: set() (empty set)\n"
      ],
      "metadata": {
        "colab": {
          "base_uri": "https://localhost:8080/"
        },
        "id": "n_X7loXN5RAo",
        "outputId": "f3b796af-057a-4c61-917d-7536ca6b7aab"
      },
      "execution_count": 8,
      "outputs": [
        {
          "output_type": "stream",
          "name": "stdout",
          "text": [
            "{1, 2, 3, 4}\n",
            "{1, 3, 4}\n",
            "{1, 3, 4}\n",
            "set()\n"
          ]
        }
      ]
    },
    {
      "cell_type": "markdown",
      "source": [
        "**8. Frozen Sets:**\n",
        "\n",
        "A frozen set is an immutable version of a set. Once created, elements cannot be added or removed. This is useful when you need a set that should not be modified.\n",
        "\n",
        "You can create a frozen set using the frozenset() function.\n",
        "\n",
        "**Example:**"
      ],
      "metadata": {
        "id": "EEeLVaW35fT8"
      }
    },
    {
      "cell_type": "code",
      "source": [
        "my_frozen_set = frozenset([1, 2, 3])\n",
        "print(my_frozen_set)  # Output: frozenset({1, 2, 3})\n"
      ],
      "metadata": {
        "colab": {
          "base_uri": "https://localhost:8080/"
        },
        "id": "z7EZzqg35rTC",
        "outputId": "e1145a31-af23-4f5f-87ea-e13951b0f756"
      },
      "execution_count": 9,
      "outputs": [
        {
          "output_type": "stream",
          "name": "stdout",
          "text": [
            "frozenset({1, 2, 3})\n"
          ]
        }
      ]
    },
    {
      "cell_type": "code",
      "source": [
        "# Attempting to modify the frozen set will raise an error\n",
        "my_frozen_set.add(4)  # AttributeError: 'frozenset' object has no attribute 'add'"
      ],
      "metadata": {
        "colab": {
          "base_uri": "https://localhost:8080/",
          "height": 158
        },
        "id": "3YjU--0H557X",
        "outputId": "9610ddc4-eb13-49c0-84f2-a80972e46c15"
      },
      "execution_count": 10,
      "outputs": [
        {
          "output_type": "error",
          "ename": "AttributeError",
          "evalue": "'frozenset' object has no attribute 'add'",
          "traceback": [
            "\u001b[0;31m---------------------------------------------------------------------------\u001b[0m",
            "\u001b[0;31mAttributeError\u001b[0m                            Traceback (most recent call last)",
            "\u001b[0;32m<ipython-input-10-afb42d38c55c>\u001b[0m in \u001b[0;36m<cell line: 2>\u001b[0;34m()\u001b[0m\n\u001b[1;32m      1\u001b[0m \u001b[0;31m# Attempting to modify the frozen set will raise an error\u001b[0m\u001b[0;34m\u001b[0m\u001b[0;34m\u001b[0m\u001b[0m\n\u001b[0;32m----> 2\u001b[0;31m \u001b[0mmy_frozen_set\u001b[0m\u001b[0;34m.\u001b[0m\u001b[0madd\u001b[0m\u001b[0;34m(\u001b[0m\u001b[0;36m4\u001b[0m\u001b[0;34m)\u001b[0m  \u001b[0;31m# AttributeError: 'frozenset' object has no attribute 'add'\u001b[0m\u001b[0;34m\u001b[0m\u001b[0;34m\u001b[0m\u001b[0m\n\u001b[0m",
            "\u001b[0;31mAttributeError\u001b[0m: 'frozenset' object has no attribute 'add'"
          ]
        }
      ]
    },
    {
      "cell_type": "markdown",
      "source": [
        "**Examples of Set Usage:**\n",
        "\n",
        "**a) Removing Duplicates from a List:**\n",
        "\n",
        "One common use of sets is to remove duplicates from a list, as sets automatically store only unique elements."
      ],
      "metadata": {
        "id": "2a_CgLa-6DbG"
      }
    },
    {
      "cell_type": "code",
      "source": [
        "my_list = [1, 2, 2, 3, 4, 4, 5]\n",
        "unique_set = set(my_list)\n",
        "print(unique_set)  # Output: {1, 2, 3, 4, 5}\n",
        "\n",
        "# Converting back to a list\n",
        "unique_list = list(unique_set)\n",
        "print(unique_list)  # Output: [1, 2, 3, 4, 5]\n"
      ],
      "metadata": {
        "colab": {
          "base_uri": "https://localhost:8080/"
        },
        "id": "_S5UviyQ6WKl",
        "outputId": "0f45f5ea-53cb-4030-8354-cdbf6ed03c8f"
      },
      "execution_count": 11,
      "outputs": [
        {
          "output_type": "stream",
          "name": "stdout",
          "text": [
            "{1, 2, 3, 4, 5}\n",
            "[1, 2, 3, 4, 5]\n"
          ]
        }
      ]
    },
    {
      "cell_type": "markdown",
      "source": [
        "**b) Finding Common Elements Between Two Lists:**\n",
        "\n",
        "Sets are often used to find common elements (intersection) between two lists."
      ],
      "metadata": {
        "id": "uKbBAtxU6cK1"
      }
    },
    {
      "cell_type": "code",
      "source": [
        "list_a = [1, 2, 3, 4]\n",
        "list_b = [3, 4, 5, 6]\n",
        "\n",
        "# Using set intersection\n",
        "common_elements = set(list_a) & set(list_b)\n",
        "print(common_elements)  # Output: {3, 4}\n"
      ],
      "metadata": {
        "colab": {
          "base_uri": "https://localhost:8080/"
        },
        "id": "wBAn0doJ6gN2",
        "outputId": "efb9b5f8-26bb-4193-e08d-97dd8921661c"
      },
      "execution_count": 12,
      "outputs": [
        {
          "output_type": "stream",
          "name": "stdout",
          "text": [
            "{3, 4}\n"
          ]
        }
      ]
    },
    {
      "cell_type": "markdown",
      "source": [
        "**c) Set Membership Testing:**\n",
        "\n",
        "Sets provide an efficient way to check for membership, which is much faster than in a list when working with large datasets."
      ],
      "metadata": {
        "id": "0O8BBwjK61V9"
      }
    },
    {
      "cell_type": "code",
      "source": [
        "my_set = {10, 20, 30, 40}\n",
        "print(20 in my_set)  # Output: True\n",
        "print(50 in my_set)  # Output: False\n"
      ],
      "metadata": {
        "colab": {
          "base_uri": "https://localhost:8080/"
        },
        "id": "3nyDYyh764Pn",
        "outputId": "c719b37b-36f2-4084-ae3e-bf8e59e8b174"
      },
      "execution_count": 13,
      "outputs": [
        {
          "output_type": "stream",
          "name": "stdout",
          "text": [
            "True\n",
            "False\n"
          ]
        }
      ]
    },
    {
      "cell_type": "markdown",
      "source": [
        "# **Q6 Discuss the use cases of tuples and sets in Python programming.**\n",
        "\n",
        "**Tuples** and **sets** in Python have distinct characteristics and are used for different purposes. Here's a discussion of the key use cases for both.\n",
        "\n",
        "**Use Cases of Tuples:**\n",
        "\n",
        "**1. Immutable Data:**\n",
        "\n",
        "Since tuples are immutable, they are ideal for storing read-only data that should not be modified during the program's execution.\n",
        "Examples include constant configurations, coordinates, and database query results that should not change.\n",
        "\n",
        "**Example:**"
      ],
      "metadata": {
        "id": "ASdX__36r5Yj"
      }
    },
    {
      "cell_type": "code",
      "source": [
        "coordinates = (10.5, 20.3)  # A fixed pair of coordinates\n",
        "db_config = (\"localhost\", 5432, \"username\", \"password\")  # Database config, should not change\n"
      ],
      "metadata": {
        "id": "Mf6uQGBixmCQ"
      },
      "execution_count": 14,
      "outputs": []
    },
    {
      "cell_type": "markdown",
      "source": [
        "**2. Dictionary Keys:**\n",
        "\n",
        "Tuples can be used as keys in dictionaries because they are hashable (unlike lists, which are mutable and therefore unhashable).\n",
        "This is useful when you need to associate a unique combination of values (e.g., coordinates, time, or multiple attributes) with a specific value.\n",
        "\n",
        "**Example:**"
      ],
      "metadata": {
        "id": "zaNYwzLy-W6e"
      }
    },
    {
      "cell_type": "code",
      "source": [
        "location_data = {(\"New York\", \"USA\"): \"Big Apple\", (\"Paris\", \"France\"): \"City of Light\"}\n",
        "print(location_data[(\"Paris\", \"France\")])  # Output: \"City of Light\"\n"
      ],
      "metadata": {
        "colab": {
          "base_uri": "https://localhost:8080/"
        },
        "id": "3gnBZH8cBFUX",
        "outputId": "ce73cfb1-fe0e-4506-a17a-32b0a0c8123b"
      },
      "execution_count": 15,
      "outputs": [
        {
          "output_type": "stream",
          "name": "stdout",
          "text": [
            "City of Light\n"
          ]
        }
      ]
    },
    {
      "cell_type": "markdown",
      "source": [
        "**3. Returning Multiple Values from Functions:**\n",
        "\n",
        "Tuples are often used to return multiple values from functions. Since they are immutable, you don't have to worry about accidental modification of the returned values.\n",
        "\n",
        "**Example:**"
      ],
      "metadata": {
        "id": "qTiqhaTZDHBb"
      }
    },
    {
      "cell_type": "code",
      "source": [
        "def get_person_info():\n",
        "    name = \"John\"\n",
        "    age = 30\n",
        "    country = \"USA\"\n",
        "    return name, age, country  # Return a tuple\n",
        "\n",
        "info = get_person_info()\n",
        "print(info)  # Output: ('John', 30, 'USA')\n"
      ],
      "metadata": {
        "colab": {
          "base_uri": "https://localhost:8080/"
        },
        "id": "uDcks2X7F9k0",
        "outputId": "284defbe-a605-4200-9494-e59135d76d65"
      },
      "execution_count": 16,
      "outputs": [
        {
          "output_type": "stream",
          "name": "stdout",
          "text": [
            "('John', 30, 'USA')\n"
          ]
        }
      ]
    },
    {
      "cell_type": "markdown",
      "source": [
        "**4. Packing and Unpacking Data:**\n",
        "\n",
        "Tuples are widely used for packing and unpacking multiple values into a single variable. This is useful for returning multiple values from a function or iterating through data.\n",
        "\n",
        "**Example:**"
      ],
      "metadata": {
        "id": "avHmurpbGLcE"
      }
    },
    {
      "cell_type": "code",
      "source": [
        "# Packing values into a tuple\n",
        "data = (1, 2, 3)\n",
        "\n",
        "# Unpacking the tuple into variables\n",
        "a, b, c = data\n",
        "print(a, b, c)  # Output: 1 2 3\n"
      ],
      "metadata": {
        "colab": {
          "base_uri": "https://localhost:8080/"
        },
        "id": "osl4AUdFGQVy",
        "outputId": "355ff682-20ce-44f3-9c51-c5a25842a98d"
      },
      "execution_count": 17,
      "outputs": [
        {
          "output_type": "stream",
          "name": "stdout",
          "text": [
            "1 2 3\n"
          ]
        }
      ]
    },
    {
      "cell_type": "markdown",
      "source": [
        "**5. Data Integrity:**\n",
        "\n",
        "In cases where the data must remain unchanged (e.g., settings, constants, or information passed across multiple parts of an application), tuples are preferable due to their immutability.\n",
        "Use case in APIs: Tuples can be used to represent structured, unchangeable data, such as error codes, messages, or configurations in APIs.\n",
        "\n",
        "**Example:**"
      ],
      "metadata": {
        "id": "0iOD5_RsGbqH"
      }
    },
    {
      "cell_type": "code",
      "source": [
        "ERROR_CODE = (404, \"Not Found\")\n"
      ],
      "metadata": {
        "id": "2I48AKrWHahr"
      },
      "execution_count": 18,
      "outputs": []
    },
    {
      "cell_type": "markdown",
      "source": [
        "**6. Memory Efficiency:**\n",
        "\n",
        "Since tuples take up less memory than lists, they are used when working with large datasets that do not need to be modified, which can lead to performance improvements.\n",
        "\n",
        "**Example:**"
      ],
      "metadata": {
        "id": "eYwTGO8WHeuw"
      }
    },
    {
      "cell_type": "code",
      "source": [
        "large_tuple = (1, 2, 3, 4, 5)  # Use tuple to save memory\n"
      ],
      "metadata": {
        "id": "IT85DRB2H2cQ"
      },
      "execution_count": 19,
      "outputs": []
    },
    {
      "cell_type": "markdown",
      "source": [
        "**Use Cases of Sets:**\n",
        "\n",
        "**1. Removing Duplicates:**\n",
        "\n",
        "Sets automatically store only unique elements, making them ideal for eliminating duplicates from a collection of items (e.g., a list).\n",
        "\n",
        "This is useful in data cleaning and ensuring unique values.\n",
        "\n",
        "**Example:**"
      ],
      "metadata": {
        "id": "zm8Vl6PpH9un"
      }
    },
    {
      "cell_type": "code",
      "source": [
        "items = [1, 2, 2, 3, 4, 4, 5]\n",
        "unique_items = set(items)\n",
        "print(unique_items)  # Output: {1, 2, 3, 4, 5}\n"
      ],
      "metadata": {
        "colab": {
          "base_uri": "https://localhost:8080/"
        },
        "id": "mK44vJ-lIFxB",
        "outputId": "c04f6be0-c18f-4aa2-ab78-3015338a8f9a"
      },
      "execution_count": 20,
      "outputs": [
        {
          "output_type": "stream",
          "name": "stdout",
          "text": [
            "{1, 2, 3, 4, 5}\n"
          ]
        }
      ]
    },
    {
      "cell_type": "markdown",
      "source": [
        "**2.Membership Testing:**\n",
        "\n",
        "Sets provide efficient membership testing (checking if an item is in the set) because they are implemented using hash tables.\n",
        "\n",
        "Use sets when you frequently need to check if an element exists in a collection.\n",
        "\n",
        "**Example:**"
      ],
      "metadata": {
        "id": "avILYGJfIhO6"
      }
    },
    {
      "cell_type": "code",
      "source": [
        "my_set = {10, 20, 30, 40}\n",
        "if 20 in my_set:\n",
        "    print(\"20 is in the set\")  # Fast membership test\n"
      ],
      "metadata": {
        "colab": {
          "base_uri": "https://localhost:8080/"
        },
        "id": "bjZmvGuKInmh",
        "outputId": "cbbdd0ab-4160-46db-e009-6f5426960346"
      },
      "execution_count": 21,
      "outputs": [
        {
          "output_type": "stream",
          "name": "stdout",
          "text": [
            "20 is in the set\n"
          ]
        }
      ]
    },
    {
      "cell_type": "markdown",
      "source": [
        "**3. Mathematical Set Operations:**\n",
        "\n",
        "Sets are built for **mathematical operations** like** union, intersection, difference, and symmetric difference**. These operations are useful in applications involving data analysis, filtering, and comparisons between groups of data.\n",
        "\n",
        "**Example:**"
      ],
      "metadata": {
        "id": "evQfKEtyI7UO"
      }
    },
    {
      "cell_type": "code",
      "source": [
        "set_a = {1, 2, 3, 4}\n",
        "set_b = {3, 4, 5, 6}\n",
        "\n",
        "# Intersection (common elements)\n",
        "print(set_a & set_b)  # Output: {3, 4}\n",
        "\n",
        "# Union (all unique elements)\n",
        "print(set_a | set_b)  # Output: {1, 2, 3, 4, 5, 6}\n"
      ],
      "metadata": {
        "colab": {
          "base_uri": "https://localhost:8080/"
        },
        "id": "pN8c1NuiJJxt",
        "outputId": "befdccc2-713d-4dee-a66e-25a67e899bd1"
      },
      "execution_count": 22,
      "outputs": [
        {
          "output_type": "stream",
          "name": "stdout",
          "text": [
            "{3, 4}\n",
            "{1, 2, 3, 4, 5, 6}\n"
          ]
        }
      ]
    },
    {
      "cell_type": "markdown",
      "source": [
        "**4. Storing Unique Items:**\n",
        "\n",
        "Sets are useful when you need to store a collection of items, but you want to ensure that each item is unique. For example, in a user management system, you might store unique user IDs or emails.\n",
        "\n",
        "**Example:**"
      ],
      "metadata": {
        "id": "lP5jEM8HJhSq"
      }
    },
    {
      "cell_type": "code",
      "source": [
        "users = {\"user1\", \"user2\", \"user3\"}\n",
        "users.add(\"user4\")  # Adds a new user\n",
        "users.add(\"user2\")  # Does nothing, because \"user2\" is already in the set\n",
        "print(users)  # Output: {'user1', 'user2', 'user3', 'user4'}\n"
      ],
      "metadata": {
        "colab": {
          "base_uri": "https://localhost:8080/"
        },
        "id": "aelpOGgGJn5Y",
        "outputId": "bc6b426c-afe7-42d3-ce51-c34cc72f603c"
      },
      "execution_count": 23,
      "outputs": [
        {
          "output_type": "stream",
          "name": "stdout",
          "text": [
            "{'user3', 'user1', 'user4', 'user2'}\n"
          ]
        }
      ]
    },
    {
      "cell_type": "markdown",
      "source": [
        "**5. Efficient Filtering:**\n",
        "\n",
        "Sets can be used to filter data efficiently. For example, when processing a large dataset, you can use a set to quickly find common elements between two datasets.\n",
        "\n",
        "**Example:**"
      ],
      "metadata": {
        "id": "PjvCaQUkJxsU"
      }
    },
    {
      "cell_type": "code",
      "source": [
        "ids_in_file1 = {101, 102, 103, 104}\n",
        "ids_in_file2 = {103, 104, 105, 106}\n",
        "\n",
        "# Find common IDs between two files\n",
        "common_ids = ids_in_file1.intersection(ids_in_file2)\n",
        "print(common_ids)  # Output: {103, 104}\n"
      ],
      "metadata": {
        "colab": {
          "base_uri": "https://localhost:8080/"
        },
        "id": "vRfVmBavJ2o-",
        "outputId": "4bfc1123-896e-49f4-8ea6-87e9616961e3"
      },
      "execution_count": 24,
      "outputs": [
        {
          "output_type": "stream",
          "name": "stdout",
          "text": [
            "{104, 103}\n"
          ]
        }
      ]
    },
    {
      "cell_type": "markdown",
      "source": [
        "**6. Removing Items from a List:**\n",
        "\n",
        "Sets are handy for removing a specific set of items from a list. This is more efficient than repeatedly using remove() with a list.\n",
        "\n",
        "**Example:**"
      ],
      "metadata": {
        "id": "SZd8BDaaKaL2"
      }
    },
    {
      "cell_type": "code",
      "source": [
        "all_items = {1, 2, 3, 4, 5}\n",
        "items_to_remove = {3, 4}\n",
        "\n",
        "# Remove specific items\n",
        "remaining_items = all_items - items_to_remove\n",
        "print(remaining_items)  # Output: {1, 2, 5}\n"
      ],
      "metadata": {
        "colab": {
          "base_uri": "https://localhost:8080/"
        },
        "id": "7BI0We_AKnQg",
        "outputId": "424d0dab-120a-46ca-99a6-b0bbe76a4d97"
      },
      "execution_count": 25,
      "outputs": [
        {
          "output_type": "stream",
          "name": "stdout",
          "text": [
            "{1, 2, 5}\n"
          ]
        }
      ]
    },
    {
      "cell_type": "markdown",
      "source": [
        "**7. Working with Large Datasets:**\n",
        "\n",
        "Sets are useful when working with large datasets because of their fast membership checking, union, and intersection capabilities. These features make them ideal for problems like:\n",
        "  \n",
        "  -> Finding common users between multiple databases.\n",
        "  \n",
        "  -> Checking for unique values in large datasets.\n",
        "  \n",
        "  -> Performing deduplication in data preprocessing.\n",
        "\n",
        "**8. Natural Language Processing:**\n",
        "\n",
        "Sets are often used in natural language processing (NLP) to filter out unique words from a body of text or to compare sets of words from different documents (e.g., to find common words or keywords).\n",
        "\n",
        "**Example:**"
      ],
      "metadata": {
        "id": "CS6LxJ9iKxDD"
      }
    },
    {
      "cell_type": "code",
      "source": [
        "text1 = \"Python is great for data science\"\n",
        "text2 = \"Data science uses Python\"\n",
        "\n",
        "words1 = set(text1.lower().split())\n",
        "words2 = set(text2.lower().split())\n",
        "\n",
        "common_words = words1 & words2\n",
        "print(common_words)  # Output: {'python', 'data', 'science'}\n"
      ],
      "metadata": {
        "colab": {
          "base_uri": "https://localhost:8080/"
        },
        "id": "fTzMtaV8LD_X",
        "outputId": "22df113c-e20d-45d3-95de-95b5cbfbbb6c"
      },
      "execution_count": 26,
      "outputs": [
        {
          "output_type": "stream",
          "name": "stdout",
          "text": [
            "{'data', 'science', 'python'}\n"
          ]
        }
      ]
    },
    {
      "cell_type": "markdown",
      "source": [
        "# **Q7 Describe how to add, modify, and delete items in a dictionary with examples.**\n",
        "\n",
        "A dictionary in Python is a collection of key-value pairs, where each key is unique, and the values can be of any data type. Here's how you can add, modify, and delete items in a dictionary.\n",
        "\n",
        "**1. Adding Items to a Dictionary**\n",
        "\n",
        "You can add new key-value pairs to a dictionary by simply assigning a value to a new key. If the key already exists, this will modify the existing key's value.\n",
        "\n",
        "**Example:**"
      ],
      "metadata": {
        "id": "uy0gmuhZr5U-"
      }
    },
    {
      "cell_type": "code",
      "source": [
        "# Creating an empty dictionary\n",
        "book_store = {}\n",
        "\n",
        "# Adding items to the dictionary\n",
        "book_store['book1'] = 'Learning Python'\n",
        "book_store['book2'] = 'Programming Python'\n",
        "\n",
        "print(book_store)\n",
        "# Output: {'book1': 'Learning Python', 'book2': 'Programming Python'}\n"
      ],
      "metadata": {
        "colab": {
          "base_uri": "https://localhost:8080/"
        },
        "id": "2hv4kjWboHxs",
        "outputId": "66ac45e6-ab10-4d93-9f5b-16b8e2a8e40e"
      },
      "execution_count": 27,
      "outputs": [
        {
          "output_type": "stream",
          "name": "stdout",
          "text": [
            "{'book1': 'Learning Python', 'book2': 'Programming Python'}\n"
          ]
        }
      ]
    },
    {
      "cell_type": "markdown",
      "source": [
        "Alternatively, you can use the **update()** method to add multiple key-value pairs at once.\n",
        "\n",
        "**Example:**"
      ],
      "metadata": {
        "id": "ZIDDWvUzogtr"
      }
    },
    {
      "cell_type": "code",
      "source": [
        "my_dict = {'a': 1, 'b': 2}\n",
        "my_dict.update({'c': 3, 'd': 4})\n",
        "print(my_dict)  # Output: {'a': 1, 'b': 2, 'c': 3, 'd': 4}"
      ],
      "metadata": {
        "colab": {
          "base_uri": "https://localhost:8080/"
        },
        "id": "0z0js7SsokLo",
        "outputId": "bccd5fc3-fdb7-4874-dc10-17d586f09ba2"
      },
      "execution_count": 29,
      "outputs": [
        {
          "output_type": "stream",
          "name": "stdout",
          "text": [
            "{'a': 1, 'b': 2, 'c': 3, 'd': 4}\n"
          ]
        }
      ]
    },
    {
      "cell_type": "markdown",
      "source": [
        "**2. Modifying Items in a Dictionary**\n",
        "\n",
        "To modify an existing value, simply assign a new value to the existing key.\n",
        "\n",
        "**Example:**"
      ],
      "metadata": {
        "id": "E-agCXmpo1zW"
      }
    },
    {
      "cell_type": "code",
      "source": [
        "my_dict = {'a': 1, 'b': 2, 'c': 3}\n",
        "my_dict['b'] = 5  # Modifies the value associated with the key 'b'\n",
        "print(my_dict)  # Output: {'a': 1, 'b': 5, 'c': 3}"
      ],
      "metadata": {
        "colab": {
          "base_uri": "https://localhost:8080/"
        },
        "id": "C2DMm9tao8ut",
        "outputId": "5d933b5a-e77f-4746-94ec-bfddd23211ed"
      },
      "execution_count": 30,
      "outputs": [
        {
          "output_type": "stream",
          "name": "stdout",
          "text": [
            "{'a': 1, 'b': 5, 'c': 3}\n"
          ]
        }
      ]
    },
    {
      "cell_type": "markdown",
      "source": [
        "**3. Deleting Items from a Dictionary**\n",
        "\n",
        "There are several ways to delete items from a dictionary:\n",
        "\n",
        "**Using del keyword:** Deletes a specific key-value pair.\n",
        "\n",
        "**Using pop() method:** Removes the key and returns the associated value.\n",
        "\n",
        "**Using popitem() method:** Removes and returns the last inserted key-value pair (for Python 3.7+).\n",
        "\n",
        "**Using clear() method:** Removes all key-value pairs from the dictionary.\n",
        "\n",
        "**Example 1: Using del keyword**"
      ],
      "metadata": {
        "id": "kKdrBb_ppclL"
      }
    },
    {
      "cell_type": "code",
      "source": [
        "my_dict = {'a': 1, 'b': 2, 'c': 3}\n",
        "del my_dict['b']  # Deletes the key-value pair with key 'b'\n",
        "print(my_dict)"
      ],
      "metadata": {
        "colab": {
          "base_uri": "https://localhost:8080/"
        },
        "id": "Cg81mBrLppNz",
        "outputId": "8ad7704e-7a68-4816-f60e-5d3a1dfa4e61"
      },
      "execution_count": 31,
      "outputs": [
        {
          "output_type": "stream",
          "name": "stdout",
          "text": [
            "{'a': 1, 'c': 3}\n"
          ]
        }
      ]
    },
    {
      "cell_type": "markdown",
      "source": [
        "**Example 2: Using pop() method**"
      ],
      "metadata": {
        "id": "w0Z16S41qQk0"
      }
    },
    {
      "cell_type": "code",
      "source": [
        "book_store={'book1': 'Learning Python, 5th Edition', 'book2': 'Programming Python', 'book3': 'Head First Python', 'book4': 'Python Cookbook'}\n",
        "# Deleting an item using 'pop()' and returning the value\n",
        "removed_book = book_store.pop('book3')\n",
        "print(removed_book)  # Output: Head First Python\n",
        "print(book_store)\n",
        "\n"
      ],
      "metadata": {
        "colab": {
          "base_uri": "https://localhost:8080/"
        },
        "id": "oIpMPdKXqTSy",
        "outputId": "d6993e53-1746-4bea-9d1c-1b056aa335cd"
      },
      "execution_count": 33,
      "outputs": [
        {
          "output_type": "stream",
          "name": "stdout",
          "text": [
            "Head First Python\n",
            "{'book1': 'Learning Python, 5th Edition', 'book2': 'Programming Python', 'book4': 'Python Cookbook'}\n"
          ]
        }
      ]
    },
    {
      "cell_type": "markdown",
      "source": [
        "**Example 3: Using popitem() method**"
      ],
      "metadata": {
        "id": "nBLzlRFGxx3c"
      }
    },
    {
      "cell_type": "code",
      "source": [
        "# Deleting the last inserted item using 'popitem()'\n",
        "last_item = book_store.popitem()\n",
        "print(last_item)  # Output: ('book4', 'Python Cookbook')\n",
        "print(book_store)\n",
        "# Output: {'book1': 'Learning Python, 5th Edition'}\n"
      ],
      "metadata": {
        "colab": {
          "base_uri": "https://localhost:8080/"
        },
        "id": "sjs6jrWMxzsz",
        "outputId": "40804387-f808-4895-8ff1-d5dc0fff3700"
      },
      "execution_count": 34,
      "outputs": [
        {
          "output_type": "stream",
          "name": "stdout",
          "text": [
            "('book4', 'Python Cookbook')\n",
            "{'book1': 'Learning Python, 5th Edition', 'book2': 'Programming Python'}\n"
          ]
        }
      ]
    },
    {
      "cell_type": "markdown",
      "source": [
        "**Example 4: Using clear() method**"
      ],
      "metadata": {
        "id": "HzYs9g9ix9yN"
      }
    },
    {
      "cell_type": "code",
      "source": [
        "# Deleting all items using 'clear()'\n",
        "book_store.clear()\n",
        "\n",
        "print(book_store)\n",
        "# Output: {}\n"
      ],
      "metadata": {
        "colab": {
          "base_uri": "https://localhost:8080/"
        },
        "id": "KeSleoLYx_z2",
        "outputId": "87de7645-81c7-4a8d-e980-470c8f4ca819"
      },
      "execution_count": 35,
      "outputs": [
        {
          "output_type": "stream",
          "name": "stdout",
          "text": [
            "{}\n"
          ]
        }
      ]
    },
    {
      "cell_type": "markdown",
      "source": [
        "# **Q8 Discuss the importance of dictionary keys being immutable and provide examples.**\n",
        "\n",
        "\n",
        "**Importance of Dictionary Keys Being Immutable in Python**\n",
        "\n",
        "In Python, dictionary keys must be immutable. This means that the objects used as keys cannot change after they are created. The immutability of keys ensures that the hash value of the key remains constant, which is crucial for the internal workings of the dictionary.\n",
        "\n",
        "**Key Points:**\n",
        "\n",
        "-> **Dictionaries** in Python are implemented using a hash table.\n",
        "\n",
        "-> To quickly look up values based on keys, Python computes a hash value of the key using the hash() function.\n",
        "\n",
        "-> If a key were mutable, its hash value could change, leading to unpredictable behavior in the dictionary, such as the inability to retrieve values or incorrect key-value mapping.\n",
        "\n",
        "-> Therefore, only immutable objects like strings, numbers, and tuples (with immutable elements) can be used as dictionary keys.\n",
        "\n",
        "**Examples of Immutable and Mutable Types:**\n",
        "\n",
        "**Immutable types (valid as dictionary keys):** str, int, float, tuple (with only immutable elements), bool\n",
        "\n",
        "**Mutable types (invalid as dictionary keys):** list, set, dict, tuple (with mutable elements)\n",
        "\n",
        "**Why Dictionary Keys Must Be Immutable**\n",
        "\n",
        "**1.Hashing Requirement:**\n",
        "\n",
        "The dictionary uses a hash function to compute an index in a hash table where the key-value pair is stored.\n",
        "The hash value of a key needs to remain constant so that the dictionary can retrieve the associated value efficiently.\n",
        "If a key's value changes (i.e., if the key is mutable), its hash value would change, making it impossible to find the original key-value pair in the dictionary.\n",
        "\n",
        "**2.Dictionary Integrity:**\n",
        "\n",
        "Immutable keys ensure that once a key is used in a dictionary, it cannot be changed, which preserves the integrity of the dictionary.\n",
        "This prevents unpredictable behavior when accessing or modifying key-value pairs.\n",
        "\n",
        "**3.Performance:**\n",
        "\n",
        "The use of immutable keys allows Python to maintain fast O(1) average time complexity for lookups, inserts, and deletions.\n",
        "\n",
        "Mutable keys could slow down dictionary operations because the dictionary would have to rehash keys whenever they are modified.\n",
        "\n",
        "**Examples of Valid and Invalid Dictionary Keys**\n",
        "\n",
        "**Example 1: Using an Immutable Key (Valid)**"
      ],
      "metadata": {
        "id": "LwdSN44Nr5P7"
      }
    },
    {
      "cell_type": "code",
      "source": [
        "# Using string (immutable) as a key\n",
        "my_dict = {\"name\": \"Alice\", \"age\": 25}\n",
        "\n",
        "# Accessing value using the key\n",
        "print(my_dict[\"name\"])  # Output: Alice\n"
      ],
      "metadata": {
        "colab": {
          "base_uri": "https://localhost:8080/"
        },
        "id": "OXMrNyGmC4m3",
        "outputId": "18bcdde3-2709-4900-954e-3bf840270f8d"
      },
      "execution_count": 36,
      "outputs": [
        {
          "output_type": "stream",
          "name": "stdout",
          "text": [
            "Alice\n"
          ]
        }
      ]
    },
    {
      "cell_type": "markdown",
      "source": [
        "**Example 2: Using a Tuple (Immutable) as a Key (Valid)**"
      ],
      "metadata": {
        "id": "isJ70e_DC_Fu"
      }
    },
    {
      "cell_type": "code",
      "source": [
        "# Using a tuple as a key (valid because tuple is immutable)\n",
        "location_dict = {(40.7128, -74.0060): \"New York\", (51.5074, -0.1278): \"London\"}\n",
        "\n",
        "# Accessing value using tuple key\n",
        "print(location_dict[(40.7128, -74.0060)])  # Output: New York\n"
      ],
      "metadata": {
        "colab": {
          "base_uri": "https://localhost:8080/"
        },
        "id": "i1VmPnz7C7MP",
        "outputId": "019a1a7f-244a-47b7-96cd-8476e49f26a9"
      },
      "execution_count": 37,
      "outputs": [
        {
          "output_type": "stream",
          "name": "stdout",
          "text": [
            "New York\n"
          ]
        }
      ]
    },
    {
      "cell_type": "markdown",
      "source": [
        "**Example 3: Using a List (Mutable) as a Key (Invalid)**"
      ],
      "metadata": {
        "id": "5ngqOus2DHDu"
      }
    },
    {
      "cell_type": "code",
      "source": [
        "# Trying to use a list (mutable) as a key will raise an error\n",
        "my_dict = {[1, 2, 3]: \"List as Key\"}\n",
        "# This raises: TypeError: unhashable type: 'list'\n"
      ],
      "metadata": {
        "colab": {
          "base_uri": "https://localhost:8080/",
          "height": 176
        },
        "id": "RP45VFzSDD0K",
        "outputId": "13e24874-d614-4766-fbf8-52542bd525e8"
      },
      "execution_count": 38,
      "outputs": [
        {
          "output_type": "error",
          "ename": "TypeError",
          "evalue": "unhashable type: 'list'",
          "traceback": [
            "\u001b[0;31m---------------------------------------------------------------------------\u001b[0m",
            "\u001b[0;31mTypeError\u001b[0m                                 Traceback (most recent call last)",
            "\u001b[0;32m<ipython-input-38-6345c638f4d6>\u001b[0m in \u001b[0;36m<cell line: 2>\u001b[0;34m()\u001b[0m\n\u001b[1;32m      1\u001b[0m \u001b[0;31m# Trying to use a list (mutable) as a key will raise an error\u001b[0m\u001b[0;34m\u001b[0m\u001b[0;34m\u001b[0m\u001b[0m\n\u001b[0;32m----> 2\u001b[0;31m \u001b[0mmy_dict\u001b[0m \u001b[0;34m=\u001b[0m \u001b[0;34m{\u001b[0m\u001b[0;34m[\u001b[0m\u001b[0;36m1\u001b[0m\u001b[0;34m,\u001b[0m \u001b[0;36m2\u001b[0m\u001b[0;34m,\u001b[0m \u001b[0;36m3\u001b[0m\u001b[0;34m]\u001b[0m\u001b[0;34m:\u001b[0m \u001b[0;34m\"List as Key\"\u001b[0m\u001b[0;34m}\u001b[0m\u001b[0;34m\u001b[0m\u001b[0;34m\u001b[0m\u001b[0m\n\u001b[0m\u001b[1;32m      3\u001b[0m \u001b[0;31m# This raises: TypeError: unhashable type: 'list'\u001b[0m\u001b[0;34m\u001b[0m\u001b[0;34m\u001b[0m\u001b[0m\n",
            "\u001b[0;31mTypeError\u001b[0m: unhashable type: 'list'"
          ]
        }
      ]
    },
    {
      "cell_type": "markdown",
      "source": [
        "**Example 4: Using a Tuple with Mutable Elements (Invalid)**"
      ],
      "metadata": {
        "id": "lPY330CWDMyJ"
      }
    },
    {
      "cell_type": "code",
      "source": [
        "# A tuple is immutable, but if it contains a mutable element, it cannot be used as a key\n",
        "my_tuple_key = (1, 2, [3, 4])  # Contains a list, which is mutable\n",
        "my_dict = {my_tuple_key: \"Invalid\"}\n",
        "# This raises: TypeError: unhashable type: 'list'\n"
      ],
      "metadata": {
        "colab": {
          "base_uri": "https://localhost:8080/",
          "height": 193
        },
        "id": "9C12g4P3DKJa",
        "outputId": "53176e41-b129-4a3c-fd4d-6038d1e22a32"
      },
      "execution_count": 39,
      "outputs": [
        {
          "output_type": "error",
          "ename": "TypeError",
          "evalue": "unhashable type: 'list'",
          "traceback": [
            "\u001b[0;31m---------------------------------------------------------------------------\u001b[0m",
            "\u001b[0;31mTypeError\u001b[0m                                 Traceback (most recent call last)",
            "\u001b[0;32m<ipython-input-39-9bbbc4c66e69>\u001b[0m in \u001b[0;36m<cell line: 3>\u001b[0;34m()\u001b[0m\n\u001b[1;32m      1\u001b[0m \u001b[0;31m# A tuple is immutable, but if it contains a mutable element, it cannot be used as a key\u001b[0m\u001b[0;34m\u001b[0m\u001b[0;34m\u001b[0m\u001b[0m\n\u001b[1;32m      2\u001b[0m \u001b[0mmy_tuple_key\u001b[0m \u001b[0;34m=\u001b[0m \u001b[0;34m(\u001b[0m\u001b[0;36m1\u001b[0m\u001b[0;34m,\u001b[0m \u001b[0;36m2\u001b[0m\u001b[0;34m,\u001b[0m \u001b[0;34m[\u001b[0m\u001b[0;36m3\u001b[0m\u001b[0;34m,\u001b[0m \u001b[0;36m4\u001b[0m\u001b[0;34m]\u001b[0m\u001b[0;34m)\u001b[0m  \u001b[0;31m# Contains a list, which is mutable\u001b[0m\u001b[0;34m\u001b[0m\u001b[0;34m\u001b[0m\u001b[0m\n\u001b[0;32m----> 3\u001b[0;31m \u001b[0mmy_dict\u001b[0m \u001b[0;34m=\u001b[0m \u001b[0;34m{\u001b[0m\u001b[0mmy_tuple_key\u001b[0m\u001b[0;34m:\u001b[0m \u001b[0;34m\"Invalid\"\u001b[0m\u001b[0;34m}\u001b[0m\u001b[0;34m\u001b[0m\u001b[0;34m\u001b[0m\u001b[0m\n\u001b[0m\u001b[1;32m      4\u001b[0m \u001b[0;31m# This raises: TypeError: unhashable type: 'list'\u001b[0m\u001b[0;34m\u001b[0m\u001b[0;34m\u001b[0m\u001b[0m\n",
            "\u001b[0;31mTypeError\u001b[0m: unhashable type: 'list'"
          ]
        }
      ]
    },
    {
      "cell_type": "code",
      "source": [],
      "metadata": {
        "id": "_NCZeJvqDU-3"
      },
      "execution_count": null,
      "outputs": []
    }
  ]
}