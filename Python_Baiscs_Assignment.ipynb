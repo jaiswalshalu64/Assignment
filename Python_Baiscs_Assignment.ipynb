{
  "nbformat": 4,
  "nbformat_minor": 0,
  "metadata": {
    "colab": {
      "provenance": []
    },
    "kernelspec": {
      "name": "python3",
      "display_name": "Python 3"
    },
    "language_info": {
      "name": "python"
    }
  },
  "cells": [
    {
      "cell_type": "code",
      "execution_count": null,
      "metadata": {
        "id": "ia1RCNB0d-rm"
      },
      "outputs": [],
      "source": []
    },
    {
      "cell_type": "markdown",
      "source": [
        "# **Q1. Explain the key features of Python that make it a popular choice for programming.**\n",
        "\n",
        "Python is a widely used programming language, and its popularity stems from several key features that make it versatile, powerful, and user-friendly. Below are the main features of Python that contribute to its popularity:\n",
        "\n",
        "•\tSimple and readable syntax: Easy to learn and use.\n",
        "\n",
        "•\tHigh-level, interpreted language: No need for compilation, making development faster.\n",
        "\n",
        "•\tDynamically typed: No need to declare variable types.\n",
        "\n",
        "•\tCross-platform compatibility: Runs on multiple operating systems.\n",
        "\n",
        "•\tExtensive standard library: Built-in modules for various tasks.\n",
        "\n",
        "•\tMultiple programming paradigms: Supports object-oriented, procedural, and functional programming.\n",
        "\n",
        "•\tThird-party libraries: Wide range of libraries for web development, data science, machine learning, etc.\n",
        "\n",
        "•\tActive community: Strong support and resources.\n",
        "\n",
        "\n",
        "•\tOpen-source: Freely available with regular updates.\n",
        "\n",
        "•\tScalable: Suitable for both small scripts and large applications.\n"
      ],
      "metadata": {
        "id": "Atk5xvIGd__v"
      }
    },
    {
      "cell_type": "markdown",
      "source": [
        "# **Q2. Describe the role of predefined keywords in Python and provide examples of how they are used in a programming.**\n",
        "\n",
        "Predefined keywords in Python are reserved words that hold special significance and cannot be used as identifiers like variable or function names. These keywords define the syntax and structure of the Python language and are essential for various programming tasks."
      ],
      "metadata": {
        "id": "PYei5U93eI3I"
      }
    },
    {
      "cell_type": "markdown",
      "source": [
        "**Key Roles of Predefined Keywords:**"
      ],
      "metadata": {
        "id": "q6gV4-3XfU-z"
      }
    },
    {
      "cell_type": "markdown",
      "source": [
        "**1.Control Flow:** Keywords like if, else, elif, for, while manage the flow of a program\n",
        "\n",
        "Example:"
      ],
      "metadata": {
        "id": "ziPulHpwgZzT"
      }
    },
    {
      "cell_type": "code",
      "source": [
        "\n",
        "x= 5\n",
        "if x > 10:\n",
        "    print(\"Greater than 10\")\n",
        "else:\n",
        "    print(\"Less than or equal to 10\")\n",
        "\n"
      ],
      "metadata": {
        "colab": {
          "base_uri": "https://localhost:8080/"
        },
        "id": "MGRmB5zsfM_b",
        "outputId": "e5ee37c9-3211-4670-eb91-eb029932e20d"
      },
      "execution_count": 2,
      "outputs": [
        {
          "output_type": "stream",
          "name": "stdout",
          "text": [
            "Less than or equal to 10\n"
          ]
        }
      ]
    },
    {
      "cell_type": "markdown",
      "source": [
        "**2.Data Definition:** Keywords like class, def, lambda are used to define classes, functions, or anonymous functions.\n",
        "\n",
        "Example:\n"
      ],
      "metadata": {
        "id": "3TkH1k6WgmVH"
      }
    },
    {
      "cell_type": "code",
      "source": [
        "def greet():\n",
        "    print(\"Hello\")\n"
      ],
      "metadata": {
        "id": "jyim1ZLefvRE"
      },
      "execution_count": 3,
      "outputs": []
    },
    {
      "cell_type": "markdown",
      "source": [
        "**3.Exception Handling:** Keywords like try, except, finally, raise manage error handling.\n",
        "\n",
        "Example:\n"
      ],
      "metadata": {
        "id": "x_Ts5sT_g82A"
      }
    },
    {
      "cell_type": "code",
      "source": [
        "try:\n",
        "    num = 1 / 0\n",
        "except ZeroDivisionError:\n",
        "    print(\"Cannot divide by zero!\")\n"
      ],
      "metadata": {
        "colab": {
          "base_uri": "https://localhost:8080/"
        },
        "id": "7nIC6ycCg4aR",
        "outputId": "dff92a7e-8c2d-4878-b0b0-83a15b35f1b2"
      },
      "execution_count": 4,
      "outputs": [
        {
          "output_type": "stream",
          "name": "stdout",
          "text": [
            "Cannot divide by zero!\n"
          ]
        }
      ]
    },
    {
      "cell_type": "markdown",
      "source": [
        "**4.Boolean Logic:** Keywords like True, False, and, or, not are used in logical expressions.\n",
        "\n",
        "Example:\n"
      ],
      "metadata": {
        "id": "nLrgMR62hGEu"
      }
    },
    {
      "cell_type": "code",
      "source": [
        "is_valid = True and not False"
      ],
      "metadata": {
        "id": "8Wq7QnR1hCyB"
      },
      "execution_count": 5,
      "outputs": []
    },
    {
      "cell_type": "markdown",
      "source": [
        "# **Q3. Compare and contrast mutable and immutable objects in Python with examples.**\n",
        "\n",
        "\n",
        "\n",
        "In Python, objects are classified as either mutable or immutable, depending on whether their value can be changed after they are created.\n",
        "**Mutable Objects:**\n",
        "\n",
        "•\t**Definition:** Mutable objects are those whose value or state can be modified after creation.\n",
        "\n",
        "•\t**Examples:** Lists, dictionaries, sets, byte arrays.\n"
      ],
      "metadata": {
        "id": "uZcy6rdghmqb"
      }
    },
    {
      "cell_type": "code",
      "source": [
        "my_list = [1, 2, 3]\n",
        "my_list.append(4)         # Mutates the list by adding 4\n",
        "print(my_list)             # Output: [1, 2, 3, 4]\n"
      ],
      "metadata": {
        "colab": {
          "base_uri": "https://localhost:8080/"
        },
        "id": "o4wH2cwphWEI",
        "outputId": "53901c75-fbee-4c6c-bd92-36b8c91edc89"
      },
      "execution_count": 6,
      "outputs": [
        {
          "output_type": "stream",
          "name": "stdout",
          "text": [
            "[1, 2, 3, 4]\n"
          ]
        }
      ]
    },
    {
      "cell_type": "code",
      "source": [
        "my_dict = {\"name\": \"Alice\"}\n",
        "my_dict[\"age\"] = 25                        # Mutates the dictionary by adding a new key-value pair\n",
        "print(my_dict)                              # Output: {'name': 'Alice', 'age': 25}\n"
      ],
      "metadata": {
        "colab": {
          "base_uri": "https://localhost:8080/"
        },
        "id": "Hk2-3Zp8iCA5",
        "outputId": "6846f7ce-d1e4-4865-fb14-5f2d2d34ed13"
      },
      "execution_count": 7,
      "outputs": [
        {
          "output_type": "stream",
          "name": "stdout",
          "text": [
            "{'name': 'Alice', 'age': 25}\n"
          ]
        }
      ]
    },
    {
      "cell_type": "markdown",
      "source": [
        "**Immutable Objects:**\n",
        "\n",
        "**•\tDefinition:** Immutable objects are those whose state cannot be changed once created.\n",
        "\n",
        "**•\tExamples:** Integers, floats, strings, tuples, frozensets.\n"
      ],
      "metadata": {
        "id": "yqqOrTktiJ9N"
      }
    },
    {
      "cell_type": "code",
      "source": [
        "my_string = \"Hello\"\n",
        "new_string = my_string + \" World\"         # A new string is created\n",
        "print(new_string)\n"
      ],
      "metadata": {
        "colab": {
          "base_uri": "https://localhost:8080/"
        },
        "id": "HPgp-qrXiF9t",
        "outputId": "8c8effc8-033c-4b37-f4da-171e8739ecc7"
      },
      "execution_count": 8,
      "outputs": [
        {
          "output_type": "stream",
          "name": "stdout",
          "text": [
            "Hello World\n"
          ]
        }
      ]
    },
    {
      "cell_type": "markdown",
      "source": [
        "**Key Differences:**\n",
        "\n",
        "\n",
        "| Feature | Mutable | Immutable |\n",
        "|----------|----------|----------|\n",
        "| Modifiability   |Can be changed after creation   | Cannot be changed after creation   |\n",
        "| Examples   | Lists, dictionaries, sets  | Strings, tuples, integers |\n",
        "| Memory Usage   | May require more memory for in-place modifications  |Generally efficient with memory since values cannot change   |\n",
        "| Performance  | Can be slower due to in-place modifications   | Faster for fixed data, as no in-place modifications are needed  |\n",
        "|Usage  | Suitable when data needs frequent updates  | Suitable for constant data or keys in dictionaries  |\n"
      ],
      "metadata": {
        "id": "tLqvvtbuix46"
      }
    },
    {
      "cell_type": "markdown",
      "source": [
        "# **Q4. Discuss the different types of operators in Python and provide examples of how they are used.**\n",
        "\n",
        "**1.\tArithmetic Operators**\n",
        "\n",
        "These operators are used to perform basic mathematical operations.\n",
        "\n",
        "'+' : Addition\n",
        "\n",
        "'-' : Subtraction\n",
        "\n",
        "'*' : Multiplication\n",
        "\n",
        "/ : Division (gives a float)\n",
        "\n",
        "% : Modulus (remainder of division)\n",
        "\n",
        "** : Exponentiation (power)\n",
        "\n",
        "// : Floor division (quotient without remainder)\n",
        "\n",
        "**Example:**\n"
      ],
      "metadata": {
        "id": "2grScBDVmgGr"
      }
    },
    {
      "cell_type": "code",
      "source": [
        "a = 10\n",
        "b = 3\n",
        "\n",
        "print(a + b)    # 13 (Addition)\n",
        "print(a - b)    # 7 (Subtraction)\n",
        "print(a * b)    # 30 (Multiplication)\n",
        "print(a / b)    # 3.333 (Division)\n",
        "print(a % b)    # 1 (Modulus)\n",
        "print(a ** b)   # 1000 (Exponentiation)\n",
        "print(a // b)   # 3 (Floor Division)\n"
      ],
      "metadata": {
        "colab": {
          "base_uri": "https://localhost:8080/"
        },
        "id": "ERTCnfzYit8q",
        "outputId": "cc0e99c7-ff49-48d9-8a31-e5f4c11e444c"
      },
      "execution_count": 9,
      "outputs": [
        {
          "output_type": "stream",
          "name": "stdout",
          "text": [
            "13\n",
            "7\n",
            "30\n",
            "3.3333333333333335\n",
            "1\n",
            "1000\n",
            "3\n"
          ]
        }
      ]
    },
    {
      "cell_type": "markdown",
      "source": [
        "**2. Comparison (Relational) Operators**\n",
        "\n",
        "\n",
        "These operators compare values and return a boolean value (True or False).\n",
        "\n",
        "\n",
        "== : Equal to\n",
        "\n",
        "!= : Not equal to\n",
        "\n",
        "> : Greater than\n",
        "\n",
        "< : Less than\n",
        "\n",
        ">= : Greater than or equal to\n",
        "\n",
        "<= : Less than or equal to\n",
        "\n",
        "\n",
        "**Example:**"
      ],
      "metadata": {
        "id": "DKyu0DS7m_ok"
      }
    },
    {
      "cell_type": "code",
      "source": [
        "x = 5\n",
        "y = 8\n",
        "\n",
        "print(x == y)   # False\n",
        "print(x != y)   # True\n",
        "print(x > y)    # False\n",
        "print(x < y)    # True\n",
        "print(x >= 5)   # True\n",
        "print(y <= 8)   # True\n"
      ],
      "metadata": {
        "colab": {
          "base_uri": "https://localhost:8080/"
        },
        "id": "AECIe_l_m5_L",
        "outputId": "2d14579d-cf06-4791-ca06-4d64ab1802fe"
      },
      "execution_count": 10,
      "outputs": [
        {
          "output_type": "stream",
          "name": "stdout",
          "text": [
            "False\n",
            "True\n",
            "False\n",
            "True\n",
            "True\n",
            "True\n"
          ]
        }
      ]
    },
    {
      "cell_type": "markdown",
      "source": [
        "**3. Logical Operators**\n",
        "\n",
        "Logical operators are used to combine conditional statements.\n",
        "\n",
        "•\tand : Returns True if both statements are true\n",
        "\n",
        "•\tor : Returns True if one of the statements is true\n",
        "\n",
        "•\tnot : Reverses the result (True becomes False, False becomes True)\n",
        "\n",
        "**Example:**"
      ],
      "metadata": {
        "id": "Sj0fDHAtnO4F"
      }
    },
    {
      "cell_type": "code",
      "source": [
        "x = True\n",
        "y = False\n",
        "\n",
        "print(x and y)  # False\n",
        "print(x or y)   # True\n",
        "print(not x)    # False\n"
      ],
      "metadata": {
        "colab": {
          "base_uri": "https://localhost:8080/"
        },
        "id": "oGSL3x_NnK7B",
        "outputId": "c35c8d31-62ac-4b5e-e4b1-7f94ebd91cee"
      },
      "execution_count": 11,
      "outputs": [
        {
          "output_type": "stream",
          "name": "stdout",
          "text": [
            "False\n",
            "True\n",
            "False\n"
          ]
        }
      ]
    },
    {
      "cell_type": "markdown",
      "source": [
        "**4. Assignment Operators**\n",
        "\n",
        "These operators are used to assign values to variables, and they also provide shorthand versions for arithmetic operations.\n",
        "\n",
        "= : Assigns value\n",
        "\n",
        "+= : Adds and assigns\n",
        "\n",
        "-= : Subtracts and assigns\n",
        "\n",
        "*= : Multiplies and assigns\n",
        "\n",
        "/= : Divides and assigns\n",
        "\n",
        "//= : Floor divides and assigns\n",
        "\n",
        "%= : Modulus and assigns\n",
        "\n",
        "**= : Exponentiates and assigns\n",
        "\n",
        "**Example:**"
      ],
      "metadata": {
        "id": "voM5g05HnmTd"
      }
    },
    {
      "cell_type": "code",
      "source": [
        "a = 5\n",
        "a += 3  # Equivalent to a = a + 3\n",
        "print(a)  # 8\n",
        "\n",
        "b = 10\n",
        "b *= 2  # Equivalent to b = b * 2\n",
        "print(b)  # 20\n"
      ],
      "metadata": {
        "colab": {
          "base_uri": "https://localhost:8080/"
        },
        "id": "-jAwkCRgnhOs",
        "outputId": "9de3baae-9f59-4c2d-ddca-ff260f6f71be"
      },
      "execution_count": 12,
      "outputs": [
        {
          "output_type": "stream",
          "name": "stdout",
          "text": [
            "8\n",
            "20\n"
          ]
        }
      ]
    },
    {
      "cell_type": "markdown",
      "source": [
        "**5. Bitwise Operators**\n",
        "\n",
        "These operators perform bit-level operations on integers.\n",
        "\n",
        "& : Bitwise AND\n",
        "\n",
        "| : Bitwise OR\n",
        "\n",
        "^ : Bitwise XOR\n",
        "\n",
        "~ : Bitwise NOT\n",
        "\n",
        "<< : Left shift\n",
        "\n",
        ">> : Right shift\n",
        "\n",
        "**Example:**"
      ],
      "metadata": {
        "id": "i7CIDcMqoXox"
      }
    },
    {
      "cell_type": "code",
      "source": [
        "a = 6  # Binary: 110\n",
        "b = 3  # Binary: 011\n",
        "\n",
        "print(a & b)   # 2 (Binary: 010)\n",
        "print(a | b)   # 7 (Binary: 111)\n",
        "print(a ^ b)   # 5 (Binary: 101)\n",
        "print(~a)      # -7 (Inverts bits)\n",
        "print(a << 1)  # 12 (Binary: 1100)\n",
        "print(a >> 1)  # 3 (Binary: 011)\n"
      ],
      "metadata": {
        "colab": {
          "base_uri": "https://localhost:8080/"
        },
        "id": "T8rxAiXDoAfe",
        "outputId": "d0c431f3-fbf2-4300-d30c-c5d167fd06c4"
      },
      "execution_count": 13,
      "outputs": [
        {
          "output_type": "stream",
          "name": "stdout",
          "text": [
            "2\n",
            "7\n",
            "5\n",
            "-7\n",
            "12\n",
            "3\n"
          ]
        }
      ]
    },
    {
      "cell_type": "markdown",
      "source": [
        "**6. Identity Operators**\n",
        "\n",
        "These operators are used to compare the memory locations of two objects.\n",
        "\n",
        "is : Returns True if both variables point to the same object\n",
        "\n",
        "is not : Returns True if they point to different objects\n",
        "\n",
        "**Example:**"
      ],
      "metadata": {
        "id": "xjwWTpAcpOu2"
      }
    },
    {
      "cell_type": "code",
      "source": [
        "x = [\"apple\", \"banana\"]\n",
        "y = [\"apple\", \"banana\"]\n",
        "z = x\n",
        "\n",
        "print(x is z)       # True, because z is the same object as x\n",
        "print(x is y)       # False, because x and y are different objects\n",
        "print(x == y)       # True, because they have the same content\n"
      ],
      "metadata": {
        "colab": {
          "base_uri": "https://localhost:8080/"
        },
        "id": "c3idOav1pLYq",
        "outputId": "ffd90563-f615-4808-d12f-dc4cfc8def20"
      },
      "execution_count": 14,
      "outputs": [
        {
          "output_type": "stream",
          "name": "stdout",
          "text": [
            "True\n",
            "False\n",
            "True\n"
          ]
        }
      ]
    },
    {
      "cell_type": "markdown",
      "source": [
        "**7. Membership Operators**\n",
        "\n",
        "These operators are used to test whether a value is found in a sequence (like a list, tuple, or string).\n",
        "\n",
        "in : Returns True if a value is present in the sequence\n",
        "\n",
        "not in : Returns True if a value is not present in the sequence\n",
        "\n",
        "**Example:**"
      ],
      "metadata": {
        "id": "V1Y26_00pad1"
      }
    },
    {
      "cell_type": "code",
      "source": [
        "fruits = [\"apple\", \"banana\", \"cherry\"]\n",
        "\n",
        "print(\"banana\" in fruits)   # True\n",
        "print(\"grape\" not in fruits) # True\n"
      ],
      "metadata": {
        "colab": {
          "base_uri": "https://localhost:8080/"
        },
        "id": "tv58thSzpWD-",
        "outputId": "c66699a4-5430-4982-cb0a-954b37cabf39"
      },
      "execution_count": 15,
      "outputs": [
        {
          "output_type": "stream",
          "name": "stdout",
          "text": [
            "True\n",
            "True\n"
          ]
        }
      ]
    },
    {
      "cell_type": "markdown",
      "source": [
        "**8. Ternary Operator (Conditional Expression)**\n",
        "\n",
        "This is a shorthand for an if-else statement in Python.\n",
        "\n",
        "**Syntax:**  [on_true] if [condition] else [on_false]\n",
        "\n",
        "**Example:**"
      ],
      "metadata": {
        "id": "L3PxHesgpxQf"
      }
    },
    {
      "cell_type": "code",
      "source": [
        "\n",
        "age = 18\n",
        "result = \"Adult\" if age >= 18 else \"Minor\"\n",
        "print(result)  # Adult\n"
      ],
      "metadata": {
        "colab": {
          "base_uri": "https://localhost:8080/"
        },
        "id": "m-fLMoO0pmEl",
        "outputId": "8442c743-5517-4d91-cc49-6c3722f879c2"
      },
      "execution_count": 17,
      "outputs": [
        {
          "output_type": "stream",
          "name": "stdout",
          "text": [
            "Adult\n"
          ]
        }
      ]
    },
    {
      "cell_type": "markdown",
      "source": [
        "# **Q5. Explain the concept of type casting in Python with examples.**\n",
        "Type casting (also known as type conversion) in Python refers to the process of converting one data type into another. This can be done manually by the programmer or automatically by Python when necessary. Python provides several built-in functions for explicit type casting, allowing for conversion between different data types such as integers, floats, strings, and more.\n",
        "\n",
        "There are two types of type casting in Python:\n",
        "1.\tImplicit Type Casting (Automatic conversion)\n",
        "2.\tExplicit Type Casting (Manual conversion)\n",
        "\n",
        "**1. Implicit Type Casting**\n",
        "\n",
        "In implicit type casting, Python automatically converts one data type to another whenever required. This is usually done to avoid data loss or maintain precision. Python does this conversion without the programmer’s intervention.\n",
        "\n",
        "**Example:**"
      ],
      "metadata": {
        "id": "NWryUM7bqDY3"
      }
    },
    {
      "cell_type": "code",
      "source": [
        "a = 5      # Integer\n",
        "b = 2.5    # Float\n",
        "\n",
        "# Python automatically converts 'a' to float and performs the operation\n",
        "result = a + b\n",
        "print(result)   # 7.5 (a is implicitly converted to float)\n",
        "print(type(result))  # <class 'float'>\n"
      ],
      "metadata": {
        "colab": {
          "base_uri": "https://localhost:8080/"
        },
        "id": "lFEE6Hk6p2uT",
        "outputId": "0e34a87e-9f6d-44df-9fa3-398a31af2424"
      },
      "execution_count": 18,
      "outputs": [
        {
          "output_type": "stream",
          "name": "stdout",
          "text": [
            "7.5\n",
            "<class 'float'>\n"
          ]
        }
      ]
    },
    {
      "cell_type": "markdown",
      "source": [
        "**2. Explicit Type Casting**\n",
        "\n",
        "In explicit type casting, the programmer manually converts one data type to another using Python’s built-in type conversion functions. This method requires the programmer to be more careful, as converting types manually may lead to data loss or errors.\n",
        "\n",
        "**Common Type Casting Functions in Python:**\n",
        "\n",
        "•\tint() : Converts a value to an integer\n",
        "\n",
        "•\tfloat() : Converts a value to a float\n",
        "\n",
        "•\tstr() : Converts a value to a string\n",
        "\n",
        "•\tlist() : Converts a sequence to a list\n",
        "\n",
        "•\ttuple() : Converts a sequence to a tuple\n",
        "\n",
        "•\tset() : Converts a sequence to a set\n",
        "\n",
        "•\tdict() : Converts a sequence of key-value pairs to a dictionary\n",
        "\n",
        "**Examples of Explicit Type Casting:**\n",
        "\n",
        "**a. Converting a Float to an Integer**\n",
        "\n",
        "When you convert a float to an integer using int(), the decimal part is discarded (it doesn’t round the number)\n"
      ],
      "metadata": {
        "id": "3uSaE8VSqpDI"
      }
    },
    {
      "cell_type": "code",
      "source": [
        "x = 4.9\n",
        "y = int(x)\n",
        "print(y)  # 4\n",
        "print(type(y))  # <class 'int'>\n"
      ],
      "metadata": {
        "colab": {
          "base_uri": "https://localhost:8080/"
        },
        "id": "bHIOJRYtrJOi",
        "outputId": "5828b33e-4cb0-47d7-a4e3-fd3272b17db4"
      },
      "execution_count": 19,
      "outputs": [
        {
          "output_type": "stream",
          "name": "stdout",
          "text": [
            "4\n",
            "<class 'int'>\n"
          ]
        }
      ]
    },
    {
      "cell_type": "markdown",
      "source": [
        "**b. Converting an Integer to a Float**"
      ],
      "metadata": {
        "id": "_zN3R-gKrSJW"
      }
    },
    {
      "cell_type": "code",
      "source": [
        "a = 10\n",
        "b = float(a)\n",
        "print(b)  # 10.0\n",
        "print(type(b))  # <class 'float'>\n"
      ],
      "metadata": {
        "colab": {
          "base_uri": "https://localhost:8080/"
        },
        "id": "3FYW3T7qrRFU",
        "outputId": "ccdaa8b5-6064-4f23-cc2a-102ae5a7343c"
      },
      "execution_count": 20,
      "outputs": [
        {
          "output_type": "stream",
          "name": "stdout",
          "text": [
            "10.0\n",
            "<class 'float'>\n"
          ]
        }
      ]
    },
    {
      "cell_type": "markdown",
      "source": [
        "**c. Converting a String to an Integer**\n",
        "\n",
        "The string must contain only digits; otherwise, the conversion will raise an error."
      ],
      "metadata": {
        "id": "MTl8XxrNraQo"
      }
    },
    {
      "cell_type": "code",
      "source": [
        "num_str = \"123\"\n",
        "num = int(num_str)\n",
        "print(num)  # 123\n",
        "print(type(num))  # <class 'int'>\n"
      ],
      "metadata": {
        "colab": {
          "base_uri": "https://localhost:8080/"
        },
        "id": "AhinicvzrYtG",
        "outputId": "e40b46de-0a42-4497-9f71-e802e1ee6aa7"
      },
      "execution_count": 21,
      "outputs": [
        {
          "output_type": "stream",
          "name": "stdout",
          "text": [
            "123\n",
            "<class 'int'>\n"
          ]
        }
      ]
    },
    {
      "cell_type": "markdown",
      "source": [
        "**d. Converting an Integer to a String**"
      ],
      "metadata": {
        "id": "z2D5nNbxrn_o"
      }
    },
    {
      "cell_type": "code",
      "source": [
        "num = 100\n",
        "num_str = str(num)\n",
        "print(num_str)  # \"100\"\n",
        "print(type(num_str))  # <class 'str'>\n"
      ],
      "metadata": {
        "colab": {
          "base_uri": "https://localhost:8080/"
        },
        "id": "VNNQB6MIrhWE",
        "outputId": "99f329f7-bcd4-4245-d959-5769ac6be0ed"
      },
      "execution_count": 22,
      "outputs": [
        {
          "output_type": "stream",
          "name": "stdout",
          "text": [
            "100\n",
            "<class 'str'>\n"
          ]
        }
      ]
    },
    {
      "cell_type": "markdown",
      "source": [
        "**e. Converting a List to a Tuple and Vice Versa**"
      ],
      "metadata": {
        "id": "yfBrvOp6rvSU"
      }
    },
    {
      "cell_type": "code",
      "source": [
        "# Converting a list to a tuple\n",
        "my_list = [1, 2, 3]\n",
        "my_tuple = tuple(my_list)\n",
        "print(my_tuple)  # (1, 2, 3)\n",
        "\n",
        "# Converting a tuple to a list\n",
        "my_new_list = list(my_tuple)\n",
        "print(my_new_list)  # [1, 2, 3]\n"
      ],
      "metadata": {
        "colab": {
          "base_uri": "https://localhost:8080/"
        },
        "id": "vngdRrtKrrp3",
        "outputId": "4b16122b-d606-4188-f132-b1fd9b8f6fa8"
      },
      "execution_count": 24,
      "outputs": [
        {
          "output_type": "stream",
          "name": "stdout",
          "text": [
            "(1, 2, 3)\n",
            "[1, 2, 3]\n"
          ]
        }
      ]
    },
    {
      "cell_type": "markdown",
      "source": [
        "**f. Converting a String to a List**"
      ],
      "metadata": {
        "id": "VMTtWK8Gr7Ae"
      }
    },
    {
      "cell_type": "code",
      "source": [
        "my_str = \"hello\"\n",
        "my_list = list(my_str)\n",
        "print(my_list)  # ['h', 'e', 'l', 'l', 'o']\n"
      ],
      "metadata": {
        "colab": {
          "base_uri": "https://localhost:8080/"
        },
        "id": "1BK81X14ryrC",
        "outputId": "1491d13a-da43-408d-dfbe-73b7b9dbd94b"
      },
      "execution_count": 25,
      "outputs": [
        {
          "output_type": "stream",
          "name": "stdout",
          "text": [
            "['h', 'e', 'l', 'l', 'o']\n"
          ]
        }
      ]
    },
    {
      "cell_type": "markdown",
      "source": [
        "# **Q6. How do conditional statements work in Python? Illustrate with examples.**\n",
        "\n",
        "Conditional statements in Python allow the execution of certain blocks of code based on the evaluation of a condition (i.e., whether it is True or False). These statements enable decision-making in the flow of a program. The most common conditional statements in Python are:\n",
        "\n",
        "1.\tif statement\n",
        "\n",
        "2.\tif-else statement\n",
        "\n",
        "3.\tif-elif-else statement\n",
        "\n",
        "4.\tNested if statement\n",
        "\n",
        "**1. if Statement**\n",
        "\n",
        "The if statement checks a condition and executes the code block inside it only if the condition is True.\n",
        "\n",
        "**Example:**\n"
      ],
      "metadata": {
        "id": "53IQkDnp1jPw"
      }
    },
    {
      "cell_type": "code",
      "source": [
        "age = 20\n",
        "\n",
        "if age >= 18:\n",
        "    print(\"You are an adult.\")\n"
      ],
      "metadata": {
        "colab": {
          "base_uri": "https://localhost:8080/"
        },
        "id": "i_u6I8RDr_Ah",
        "outputId": "410b402a-c386-414e-badb-e22586224c52"
      },
      "execution_count": 26,
      "outputs": [
        {
          "output_type": "stream",
          "name": "stdout",
          "text": [
            "You are an adult.\n"
          ]
        }
      ]
    },
    {
      "cell_type": "markdown",
      "source": [
        "**2. if-else Statement**\n",
        "\n",
        "The if-else statement allows us to execute one block of code if the condition is True, and another block of code if the condition is False.\n",
        "\n",
        "**Example:**"
      ],
      "metadata": {
        "id": "OKrh1dAM2AyV"
      }
    },
    {
      "cell_type": "code",
      "source": [
        "age = 16\n",
        "\n",
        "if age >= 18:\n",
        "    print(\"You are an adult.\")\n",
        "else:\n",
        "    print(\"You are a minor.\")\n"
      ],
      "metadata": {
        "colab": {
          "base_uri": "https://localhost:8080/"
        },
        "id": "YXYSQvD718jS",
        "outputId": "eaac24f4-ab7d-4953-e36f-f0434e7aa947"
      },
      "execution_count": 27,
      "outputs": [
        {
          "output_type": "stream",
          "name": "stdout",
          "text": [
            "You are a minor.\n"
          ]
        }
      ]
    },
    {
      "cell_type": "markdown",
      "source": [
        "**3. if-elif-else Statement**\n",
        "\n",
        "The if-elif-else statement allows checking multiple conditions. The first condition that evaluates to True will execute its corresponding code block, and the rest of the conditions are ignored.\n",
        "\n",
        "**Example:**"
      ],
      "metadata": {
        "id": "KzEQ1whs2Ldp"
      }
    },
    {
      "cell_type": "code",
      "source": [
        "marks = 75\n",
        "\n",
        "if marks >= 90:\n",
        "    print(\"Grade: A\")\n",
        "elif marks >= 75:\n",
        "    print(\"Grade: B\")\n",
        "elif marks >= 50:\n",
        "    print(\"Grade: C\")\n",
        "else:\n",
        "    print(\"Grade: F\")\n"
      ],
      "metadata": {
        "colab": {
          "base_uri": "https://localhost:8080/"
        },
        "id": "i4hN-cqm2KoK",
        "outputId": "d0454a1a-3945-47dd-a5e7-4f699ad6e430"
      },
      "execution_count": 28,
      "outputs": [
        {
          "output_type": "stream",
          "name": "stdout",
          "text": [
            "Grade: B\n"
          ]
        }
      ]
    },
    {
      "cell_type": "markdown",
      "source": [
        "**4. Nested if Statement**\n",
        "\n",
        "A nested if statement is when an if statement is placed inside another if or else statement. This allows us to make further decisions based on multiple conditions.\n",
        "\n",
        "**Example:**"
      ],
      "metadata": {
        "id": "x7_hmOry2uI0"
      }
    },
    {
      "cell_type": "code",
      "source": [
        "num = 10\n",
        "\n",
        "if num > 0:\n",
        "    print(\"The number is positive.\")\n",
        "    if num % 2 == 0:\n",
        "        print(\"The number is even.\")\n",
        "    else:\n",
        "        print(\"The number is odd.\")\n",
        "else:\n",
        "    print(\"The number is negative or zero.\")\n"
      ],
      "metadata": {
        "colab": {
          "base_uri": "https://localhost:8080/"
        },
        "id": "kyhQzVzX2qS3",
        "outputId": "443c20b1-e9c9-4a89-8489-6a927096fd29"
      },
      "execution_count": 29,
      "outputs": [
        {
          "output_type": "stream",
          "name": "stdout",
          "text": [
            "The number is positive.\n",
            "The number is even.\n"
          ]
        }
      ]
    },
    {
      "cell_type": "markdown",
      "source": [
        "# **Q7. Describe the different types of loops in Python and their use cases with examples.**\n",
        "\n",
        "In Python, loops are used to repeatedly execute a block of code as long as a condition is met. There are two primary types of loops in Python:\n",
        "\n",
        "1.for loop\n",
        "\n",
        "2.while loop\n",
        "\n",
        "Each loop serves different purposes and can be used in various scenarios. Let's discuss both types of loops and their use cases with examples.\n",
        "\n",
        "**1. for Loop**\n",
        "\n",
        "A for loop is used to iterate over a sequence (such as a list, tuple, dictionary, set, or string) or other iterable objects. It allows executing a block of code for each item in the sequence.\n",
        "\n",
        "**Use Case:**\n",
        "\n",
        "\n",
        "-> Iterating through a list of items\n",
        "\n",
        "-> Repeating an action a certain number of times\n",
        "\n",
        "-> Processing data in a file or dataset\n",
        "\n",
        "**Example 1: Iterating Over a List**"
      ],
      "metadata": {
        "id": "L6SDg55S3KYW"
      }
    },
    {
      "cell_type": "code",
      "source": [
        "fruits = [\"apple\", \"banana\", \"cherry\"]\n",
        "\n",
        "for fruit in fruits:\n",
        "    print(fruit)\n"
      ],
      "metadata": {
        "colab": {
          "base_uri": "https://localhost:8080/"
        },
        "id": "_DsTLJei24MN",
        "outputId": "1df7dd2f-c32b-42e0-f3dc-69bb659b6f70"
      },
      "execution_count": 30,
      "outputs": [
        {
          "output_type": "stream",
          "name": "stdout",
          "text": [
            "apple\n",
            "banana\n",
            "cherry\n"
          ]
        }
      ]
    },
    {
      "cell_type": "markdown",
      "source": [
        "**Example 2:** **Using range() to Generate a Sequence** The range() function is commonly used with for loops to generate a sequence of numbers."
      ],
      "metadata": {
        "id": "iESxeVAt4ITs"
      }
    },
    {
      "cell_type": "code",
      "source": [
        "for i in range(5):\n",
        "    print(i)\n"
      ],
      "metadata": {
        "colab": {
          "base_uri": "https://localhost:8080/"
        },
        "id": "5Usd8SvQ3-PP",
        "outputId": "9cafa6ff-74b9-457d-dc4e-8d8210c6140f"
      },
      "execution_count": 31,
      "outputs": [
        {
          "output_type": "stream",
          "name": "stdout",
          "text": [
            "0\n",
            "1\n",
            "2\n",
            "3\n",
            "4\n"
          ]
        }
      ]
    },
    {
      "cell_type": "markdown",
      "source": [
        "**Example 3: Iterating Over a Dictionary**"
      ],
      "metadata": {
        "id": "F-ZRC83f4ZXa"
      }
    },
    {
      "cell_type": "code",
      "source": [
        "student_scores = {\"Alice\": 85, \"Bob\": 90, \"Charlie\": 75}\n",
        "\n",
        "for name, score in student_scores.items():\n",
        "    print(f\"{name}: {score}\")\n"
      ],
      "metadata": {
        "colab": {
          "base_uri": "https://localhost:8080/"
        },
        "id": "RBJYz45C4W5x",
        "outputId": "35ff1a0f-b202-4b93-dbfc-54a877e85ad7"
      },
      "execution_count": 32,
      "outputs": [
        {
          "output_type": "stream",
          "name": "stdout",
          "text": [
            "Alice: 85\n",
            "Bob: 90\n",
            "Charlie: 75\n"
          ]
        }
      ]
    },
    {
      "cell_type": "markdown",
      "source": [
        "**2. while Loop**\n",
        "\n",
        "The while loop repeats a block of code as long as the specified condition is True. The condition is checked before executing the block, and if it evaluates to False, the loop stops.\n",
        "\n",
        "**Use Case:**\n",
        "\n",
        "-> When the number of iterations is not known in advance\n",
        "\n",
        "-> Repeating a task until a condition is met\n",
        "\n",
        "-> Building interactive programs that wait for user input\n",
        "\n",
        "**Example 1: Basic while Loop**"
      ],
      "metadata": {
        "id": "X5vTpW2B4g_u"
      }
    },
    {
      "cell_type": "code",
      "source": [
        "i = 1\n",
        "\n",
        "while i <= 5:\n",
        "    print(i)\n",
        "    i += 1\n"
      ],
      "metadata": {
        "colab": {
          "base_uri": "https://localhost:8080/"
        },
        "id": "VafJkN_w4dTI",
        "outputId": "0f07ea6f-e997-4d97-aa3c-27a7a658dc3d"
      },
      "execution_count": 33,
      "outputs": [
        {
          "output_type": "stream",
          "name": "stdout",
          "text": [
            "1\n",
            "2\n",
            "3\n",
            "4\n",
            "5\n"
          ]
        }
      ]
    },
    {
      "cell_type": "markdown",
      "source": [
        "**Example 2: Waiting for User Input**"
      ],
      "metadata": {
        "id": "vTr0rS9f4_X8"
      }
    },
    {
      "cell_type": "code",
      "source": [
        "password = \"\"\n",
        "\n",
        "while password != \"secret\":\n",
        "    password = input(\"Enter password: \")\n",
        "\n",
        "print(\"Access granted.\")\n"
      ],
      "metadata": {
        "colab": {
          "base_uri": "https://localhost:8080/"
        },
        "id": "7QYSkmp55GHW",
        "outputId": "ba2f839a-baf6-4ad3-c294-4225f475d34a"
      },
      "execution_count": 34,
      "outputs": [
        {
          "output_type": "stream",
          "name": "stdout",
          "text": [
            "Enter password: secret\n",
            "Access granted.\n"
          ]
        }
      ]
    },
    {
      "cell_type": "markdown",
      "source": [
        "**3. Control Statements in Loops**\n",
        "\n",
        "Python provides several control statements to manage the flow of loops:\n",
        "\n",
        "**break:** Terminates the loop prematurely, even if the loop’s condition is still True.\n",
        "\n",
        "**continue:** Skips the rest of the code inside the loop for the current iteration and moves to the next iteration.\n",
        "\n",
        "**else:** Optional block that executes when the loop finishes normally (i.e., without encountering a break).\n",
        "\n",
        "**Example of break:**"
      ],
      "metadata": {
        "id": "Xdu40v2o5XCY"
      }
    },
    {
      "cell_type": "code",
      "source": [
        "for i in range(10):\n",
        "    if i == 5:\n",
        "        break\n",
        "    print(i)\n"
      ],
      "metadata": {
        "colab": {
          "base_uri": "https://localhost:8080/"
        },
        "id": "_3BYyKNL5JkQ",
        "outputId": "e6d85340-b78d-4e9d-ee63-ee92ea42ddfb"
      },
      "execution_count": 35,
      "outputs": [
        {
          "output_type": "stream",
          "name": "stdout",
          "text": [
            "0\n",
            "1\n",
            "2\n",
            "3\n",
            "4\n"
          ]
        }
      ]
    },
    {
      "cell_type": "markdown",
      "source": [
        "**Example of continue:**"
      ],
      "metadata": {
        "id": "G02l9q2o52Q7"
      }
    },
    {
      "cell_type": "code",
      "source": [
        "for i in range(5):\n",
        "    if i == 2:\n",
        "        continue\n",
        "    print(i)\n"
      ],
      "metadata": {
        "colab": {
          "base_uri": "https://localhost:8080/"
        },
        "id": "YWxEU9HW5zKi",
        "outputId": "1f0e74a4-8d1f-47ab-df4a-47710eb51f8e"
      },
      "execution_count": 36,
      "outputs": [
        {
          "output_type": "stream",
          "name": "stdout",
          "text": [
            "0\n",
            "1\n",
            "3\n",
            "4\n"
          ]
        }
      ]
    },
    {
      "cell_type": "markdown",
      "source": [
        "**Example of else with a Loop:**"
      ],
      "metadata": {
        "id": "EOoDpe1h59ah"
      }
    },
    {
      "cell_type": "code",
      "source": [
        "for i in range(3):\n",
        "    print(i)\n",
        "else:\n",
        "    print(\"Loop finished without break.\")\n"
      ],
      "metadata": {
        "colab": {
          "base_uri": "https://localhost:8080/"
        },
        "id": "d3T4316M55vF",
        "outputId": "ab744375-aa4a-4898-e71a-114bd89c23d2"
      },
      "execution_count": 37,
      "outputs": [
        {
          "output_type": "stream",
          "name": "stdout",
          "text": [
            "0\n",
            "1\n",
            "2\n",
            "Loop finished without break.\n"
          ]
        }
      ]
    },
    {
      "cell_type": "markdown",
      "source": [
        "**4. Nested Loops**\n",
        "\n",
        "Python allows loops to be nested, meaning one loop can be placed inside another loop. This is useful for iterating over multi-dimensional data structures like matrices.\n",
        "\n",
        "\n",
        "**Example of Nested Loop:**"
      ],
      "metadata": {
        "id": "YxplyPhJ6DBd"
      }
    },
    {
      "cell_type": "code",
      "source": [
        "for i in range(1, 4):\n",
        "    for j in range(1, 3):\n",
        "        print(f\"i = {i}, j = {j}\")\n"
      ],
      "metadata": {
        "colab": {
          "base_uri": "https://localhost:8080/"
        },
        "id": "nBtQ7NWu6CCB",
        "outputId": "e0445fdf-eb50-450a-cfd6-bfffc4696ffa"
      },
      "execution_count": 38,
      "outputs": [
        {
          "output_type": "stream",
          "name": "stdout",
          "text": [
            "i = 1, j = 1\n",
            "i = 1, j = 2\n",
            "i = 2, j = 1\n",
            "i = 2, j = 2\n",
            "i = 3, j = 1\n",
            "i = 3, j = 2\n"
          ]
        }
      ]
    },
    {
      "cell_type": "code",
      "source": [],
      "metadata": {
        "id": "-KmaYEk56MTv"
      },
      "execution_count": null,
      "outputs": []
    }
  ]
}